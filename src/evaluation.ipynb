{
 "cells": [
  {
   "cell_type": "markdown",
   "metadata": {},
   "source": [
    "# 🍫Tune your RAG data pipeline and evaluate its performance"
   ]
  },
  {
   "cell_type": "markdown",
   "metadata": {},
   "source": [
    "> ⚠️ This notebook can be run on your local machine or on a virtual machine and requires [Docker Compose](https://docs.docker.com/desktop/).\n",
    "> Please note that it is not compatible with Google Colab as the latter does not support Docker."
   ]
  },
  {
   "cell_type": "markdown",
   "metadata": {},
   "source": [
    "In this notebook we demonstrate how to iteratively evaluate and tune a Retrieval-Augmented Generation (RAG) system using [Fondant](https://fondant.ai).\n",
    "\n",
    "We will:\n",
    "\n",
    "1. Set up a [Weaviate](https://weaviate.io/platform) vector store\n",
    "2. Define a parameter set to test\n",
    "3. Run a Fondant pipeline with those parameters to index our documents into the vector store\n",
    "4. Run a Fondant pipeline with those parameters to evaluate the performance\n",
    "5. Inspect the evaluation results and data between each processing step\n",
    "6. Repeat step 2 - 5 until we're happy with the results\n",
    "\n",
    "<div align=\"center\">\n",
    "<img src=\"../art/iteration.png\" width=\"1000\"/>\n",
    "</div>"
   ]
  },
  {
   "cell_type": "markdown",
   "metadata": {},
   "source": [
    "## Set up environment"
   ]
  },
  {
   "cell_type": "markdown",
   "metadata": {},
   "source": [
    "> ⚠️ This section checks the prerequisites of your environment. Read any errors or warnings carefully."
   ]
  },
  {
   "cell_type": "markdown",
   "metadata": {},
   "source": [
    "Ensure a **Python between version 3.8 and 3.10** is available"
   ]
  },
  {
   "cell_type": "code",
   "execution_count": 1,
   "metadata": {},
   "outputs": [],
   "source": [
    "import sys\n",
    "if sys.version_info < (3, 8, 0) or sys.version_info >= (3, 11, 0):\n",
    "    raise Exception(f\"A Python version between 3.8 and 3.10 is required. You are running {sys.version}\")"
   ]
  },
  {
   "cell_type": "markdown",
   "metadata": {},
   "source": [
    "Check if **docker compose** is installed and the **docker daemon** is running"
   ]
  },
  {
   "cell_type": "code",
   "execution_count": 2,
   "metadata": {},
   "outputs": [
    {
     "name": "stdout",
     "output_type": "stream",
     "text": [
      "Docker Compose version v2.19.1\n"
     ]
    }
   ],
   "source": [
    "!docker compose version"
   ]
  },
  {
   "cell_type": "markdown",
   "metadata": {},
   "source": [
    "Install Fondant framework"
   ]
  },
  {
   "cell_type": "code",
   "execution_count": 4,
   "metadata": {},
   "outputs": [
    {
     "name": "stdout",
     "output_type": "stream",
     "text": [
      "\u001b[31mERROR: pip's dependency resolver does not currently take into account all the packages that are installed. This behaviour is the source of the following dependency conflicts.\n",
      "datasets 2.16.1 requires fsspec[http]<=2023.10.0,>=2023.1.0, but you have fsspec 2023.12.2 which is incompatible.\u001b[0m\u001b[31m\n",
      "\u001b[0mSuccess\n"
     ]
    }
   ],
   "source": [
    "!pip install -q -r ../requirements.txt --disable-pip-version-check && echo \"Success\""
   ]
  },
  {
   "cell_type": "markdown",
   "metadata": {},
   "source": [
    "**Check if GPU is available**"
   ]
  },
  {
   "cell_type": "code",
   "execution_count": 3,
   "metadata": {},
   "outputs": [
    {
     "name": "stderr",
     "output_type": "stream",
     "text": [
      "WARNING:root:We recommend to run this pipeline on a GPU, but none could be found, using CPU instead\n"
     ]
    }
   ],
   "source": [
    "import logging\n",
    "import subprocess\n",
    "\n",
    "try:\n",
    "    subprocess.check_output('nvidia-smi')\n",
    "    logging.info(\"Found GPU, using it!\")\n",
    "    number_of_accelerators = 1\n",
    "    accelerator_name = \"GPU\"\n",
    "except Exception:\n",
    "    logging.warning(\"We recommend to run this pipeline on a GPU, but none could be found, using CPU instead\")\n",
    "    number_of_accelerators = None\n",
    "    accelerator_name = None"
   ]
  },
  {
   "cell_type": "markdown",
   "metadata": {},
   "source": [
    "## Spin up the Weaviate vector store"
   ]
  },
  {
   "cell_type": "markdown",
   "metadata": {},
   "source": [
    "> ⚠️ For **Apple M1/M2** chip users:\n",
    "> \n",
    "> - In Docker Desktop Dashboard `Settings -> Features in development`, make sure to **un**check `Use containerd` for pulling and storing images. More info [here](https://docs.docker.com/desktop/settings/mac/#beta-features)\n",
    "> - Make sure that Docker uses linux/amd64 platform and not arm64 (cell below should take care of that)"
   ]
  },
  {
   "cell_type": "markdown",
   "metadata": {},
   "source": [
    "Run **Weaviate** with Docker compose"
   ]
  },
  {
   "cell_type": "code",
   "execution_count": 4,
   "metadata": {},
   "outputs": [
    {
     "name": "stdout",
     "output_type": "stream",
     "text": [
      "\u001b[1A\u001b[1B\u001b[0G\u001b[?25l[+] Running 2/0\n",
      " \u001b[32m✔\u001b[0m Container weaviate_service-weaviate-1       \u001b[32mRunning\u001b[0m                     \u001b[34m0.0s \u001b[0m\n",
      " \u001b[32m✔\u001b[0m Container weaviate_service-contextionary-1  \u001b[32mRunning\u001b[0m                     \u001b[34m0.0s \u001b[0m\n",
      "\u001b[?25h"
     ]
    }
   ],
   "source": [
    "!docker compose -f weaviate_service/docker-compose.yaml up --detach"
   ]
  },
  {
   "cell_type": "markdown",
   "metadata": {},
   "source": [
    "Make sure you have **Weaviate client v3**"
   ]
  },
  {
   "cell_type": "markdown",
   "metadata": {},
   "source": [
    "Make sure the vectorDB is running and accessible"
   ]
  },
  {
   "cell_type": "code",
   "execution_count": 5,
   "metadata": {},
   "outputs": [
    {
     "name": "stderr",
     "output_type": "stream",
     "text": [
      "/Users/matthias/projects/fondant/fondant-usecase-RAG/.venv/lib/python3.10/site-packages/weaviate/warnings.py:121: DeprecationWarning: Dep005: You are using weaviate-client version 3.25.3. The latest version is 4.4.2.\n",
      "            Please consider upgrading to the latest version. See https://weaviate.io/developers/weaviate/client-libraries/python for details.\n",
      "  warnings.warn(\n"
     ]
    }
   ],
   "source": [
    "import logging\n",
    "import weaviate\n",
    "\n",
    "try:\n",
    "    local_weaviate_client = weaviate.Client(\"http://localhost:8081\")\n",
    "    logging.info(\"Connected to Weaviate instance\")\n",
    "except weaviate.WeaviateStartUpError:\n",
    "    logging.error(\"Cannot connect to weaviate instance, is it running?\")"
   ]
  },
  {
   "cell_type": "markdown",
   "metadata": {},
   "source": [
    "#### Indexing pipeline"
   ]
  },
  {
   "cell_type": "markdown",
   "metadata": {},
   "source": [
    "`pipeline_index.py` processes text data and loads it into the vector database\n",
    "\n",
    "<div align=\"center\">\n",
    "<img src=\"../art/indexing_ltr.png\" width=\"800\"/>\n",
    "</div>\n",
    "\n",
    "- [**Load data**](https://github.com/ml6team/fondant/tree/main/components/load_from_parquet): loads data from the Hugging Face Hub\n",
    "- [**Chunk data**](https://github.com/ml6team/fondant/tree/main/components/chunk_text): divides the text into sections of a certain size and with a certain overlap\n",
    "- [**Embed chunks**](https://github.com/ml6team/fondant/tree/main/components/embed_text): embeds each chunk as a vector, e.g. using [Cohere](https://cohere.com/embeddings)\n",
    "- [**Index vector store**](https://github.com/ml6team/fondant/tree/main/components/index_weaviate): writes data and embeddings to the vector store"
   ]
  },
  {
   "cell_type": "markdown",
   "metadata": {},
   "source": [
    "> 💡 This notebook defaults to the first 1000 rows of the [wikitext](https://huggingface.co/datasets/wikitext) dataset for demonstration purposes, but you can load your own dataset using one the other load components available on the [**Fondant Hub**](https://fondant.ai/en/latest/components/hub/#component-hub) or by creating your own [**custom load component**](https://fondant.ai/en/latest/guides/implement_custom_components/). Keep in mind that changing the dataset implies that you also need to change the evaluation dataset used in the evaluation pipeline. "
   ]
  },
  {
   "cell_type": "markdown",
   "metadata": {},
   "source": [
    "#### Create the indexing pipeline"
   ]
  },
  {
   "cell_type": "markdown",
   "metadata": {},
   "source": [
    "We are reusing the index pipeline from the [indexing notebook](./indexing.ipynb). Therefore, we have extracted the code into a separate file and created a function that parameterizes the entire pipeline. "
   ]
  },
  {
   "cell_type": "code",
   "execution_count": 6,
   "metadata": {},
   "outputs": [],
   "source": [
    "import pipeline_index\n",
    "import utils\n",
    "\n",
    "# Path where data and artifacts will be stored\n",
    "BASE_PATH = \"./data\"\n",
    "utils.create_directory_if_not_exists(BASE_PATH)\n",
    "\n",
    "# Parameters shared between indexing and evaluation pipeline\n",
    "shared_args = {\n",
    "    \"base_path\": BASE_PATH,\n",
    "    \"embed_model_provider\": \"huggingface\",\n",
    "    \"embed_model\": \"all-MiniLM-L6-v2\",\n",
    "    \"weaviate_url\": f\"http://{utils.get_host_ip()}:8081\",\n",
    "    \"weaviate_class\": \"Pipeline1\", # Capitalized, avoid special characters (_, =, -, etc.)\n",
    "}\n",
    "\n",
    "# Parameters for the indexing pipeline\n",
    "indexing_args = {\n",
    "    \"n_rows_to_load\": 1000,\n",
    "    \"chunk_args\": {\"chunk_size\": 512, \"chunk_overlap\": 32}\n",
    "}\n",
    "\n",
    "# Parameters for the GPU resources\n",
    "resources_args = {\n",
    "    \"number_of_accelerators\": number_of_accelerators,\n",
    "    \"accelerator_name\": accelerator_name,\n",
    "}\n",
    "\n",
    "indexing_pipeline = pipeline_index.create_pipeline(**shared_args, **indexing_args, **resources_args)"
   ]
  },
  {
   "cell_type": "markdown",
   "metadata": {},
   "source": [
    "#### Run the indexing pipeline"
   ]
  },
  {
   "cell_type": "markdown",
   "metadata": {},
   "source": [
    "> 💡 The first time you run a pipeline, you need to **download a docker image for each component** which may take a minute.\n",
    "\n",
    "> 💡 Use a **GPU** or an external API to speed up the embedding step\n",
    "\n",
    "> 💡 Steps that have been processed before are **cached** and will be skipped in subsequent runs which speeds up processing."
   ]
  },
  {
   "cell_type": "code",
   "execution_count": 7,
   "metadata": {},
   "outputs": [
    {
     "name": "stderr",
     "output_type": "stream",
     "text": [
      "INFO:root:Found reference to un-compiled pipeline... compiling\n",
      "INFO:fondant.pipeline.compiler:Compiling indexing-pipeline to .fondant/compose.yaml\n",
      "INFO:fondant.pipeline.compiler:Base path found on local system, setting up ./data as mount volume\n",
      "INFO:fondant.pipeline.pipeline:Sorting pipeline component graph topologically.\n",
      "INFO:fondant.pipeline.pipeline:All pipeline component specifications match.\n",
      "INFO:fondant.pipeline.compiler:Compiling service for load_from_hugging_face_hub\n",
      "INFO:fondant.pipeline.compiler:Compiling service for chunktextcomponent\n",
      "INFO:fondant.pipeline.compiler:Compiling service for embed_text\n",
      "INFO:fondant.pipeline.compiler:Compiling service for index_weaviate\n",
      "INFO:fondant.pipeline.compiler:Successfully compiled to .fondant/compose.yaml\n",
      " load_from_hugging_face_hub Pulling \n",
      " embed_text Pulling \n",
      " index_weaviate Pulling \n",
      " chunktextcomponent Pulling \n"
     ]
    },
    {
     "name": "stdout",
     "output_type": "stream",
     "text": [
      "Starting pipeline run...\n"
     ]
    },
    {
     "name": "stderr",
     "output_type": "stream",
     "text": [
      " load_from_hugging_face_hub Pulled \n",
      " chunktextcomponent Pulled \n",
      " embed_text Pulled \n",
      " index_weaviate Pulled \n",
      " Container indexing-pipeline-load_from_hugging_face_hub-1  Recreate\n",
      " Container indexing-pipeline-load_from_hugging_face_hub-1  Recreated\n",
      " Container indexing-pipeline-chunktextcomponent-1  Recreate\n",
      " Container indexing-pipeline-chunktextcomponent-1  Recreated\n",
      " Container indexing-pipeline-embed_text-1  Recreate\n",
      " Container indexing-pipeline-embed_text-1  Recreated\n",
      " Container indexing-pipeline-index_weaviate-1  Recreate\n",
      " Container indexing-pipeline-index_weaviate-1  Recreated\n"
     ]
    },
    {
     "name": "stdout",
     "output_type": "stream",
     "text": [
      "Attaching to indexing-pipeline-chunktextcomponent-1, indexing-pipeline-embed_text-1, indexing-pipeline-index_weaviate-1, indexing-pipeline-load_from_hugging_face_hub-1\n"
     ]
    },
    {
     "name": "stderr",
     "output_type": "stream",
     "text": [
      "indexing-pipeline-load_from_hugging_face_hub-1  | [2024-02-06 12:18:43,582 | fondant.cli | INFO] Component `LoadFromHubComponent` found in module main\n",
      "indexing-pipeline-load_from_hugging_face_hub-1  | [2024-02-06 12:18:43,588 | fondant.component.executor | INFO] Dask default local mode will be used for further executions.Our current supported options are limited to 'local' and 'default'.\n",
      "indexing-pipeline-load_from_hugging_face_hub-1  | [2024-02-06 12:18:43,592 | fondant.component.executor | INFO] Skipping component execution\n",
      "indexing-pipeline-load_from_hugging_face_hub-1  | [2024-02-06 12:18:43,594 | fondant.component.executor | INFO] Matching execution detected for component. The last execution of the component originated from `indexing-pipeline-20240206095839`.\n",
      "indexing-pipeline-load_from_hugging_face_hub-1  | [2024-02-06 12:18:43,599 | fondant.component.executor | INFO] Saving output manifest to /data/indexing-pipeline/indexing-pipeline-20240206131838/load_from_hugging_face_hub/manifest.json\n",
      "indexing-pipeline-load_from_hugging_face_hub-1  | [2024-02-06 12:18:43,600 | fondant.component.executor | INFO] Writing cache key with manifest reference to /data/indexing-pipeline/cache/05c1b2d296cf3d6eb306576302b85e86.txt\n"
     ]
    },
    {
     "name": "stdout",
     "output_type": "stream",
     "text": [
      "indexing-pipeline-load_from_hugging_face_hub-1 exited with code 0\n",
      "indexing-pipeline-chunktextcomponent-1          | Collecting langchain==0.0.329 (from -r requirements.txt (line 1))\n",
      "indexing-pipeline-chunktextcomponent-1          |   Obtaining dependency information for langchain==0.0.329 from https://files.pythonhosted.org/packages/42/4e/86204994aeb2e4ac367a7fade896b13532eae2430299052eb2c80ca35d2c/langchain-0.0.329-py3-none-any.whl.metadata\n",
      "indexing-pipeline-chunktextcomponent-1          |   Downloading langchain-0.0.329-py3-none-any.whl.metadata (16 kB)\n",
      "indexing-pipeline-chunktextcomponent-1          | Requirement already satisfied: PyYAML>=5.3 in /usr/local/lib/python3.11/site-packages (from langchain==0.0.329->-r requirements.txt (line 1)) (6.0.1)\n",
      "indexing-pipeline-chunktextcomponent-1          | Collecting SQLAlchemy<3,>=1.4 (from langchain==0.0.329->-r requirements.txt (line 1))\n",
      "indexing-pipeline-chunktextcomponent-1          |   Obtaining dependency information for SQLAlchemy<3,>=1.4 from https://files.pythonhosted.org/packages/7a/de/0ca53bf49d213bea164b0bd0187d3c94d6fea650b7679a8e41c91e3182d7/SQLAlchemy-2.0.25-cp311-cp311-manylinux_2_17_x86_64.manylinux2014_x86_64.whl.metadata\n",
      "indexing-pipeline-chunktextcomponent-1          |   Downloading SQLAlchemy-2.0.25-cp311-cp311-manylinux_2_17_x86_64.manylinux2014_x86_64.whl.metadata (9.6 kB)\n",
      "indexing-pipeline-chunktextcomponent-1          | Requirement already satisfied: aiohttp<4.0.0,>=3.8.3 in /usr/local/lib/python3.11/site-packages (from langchain==0.0.329->-r requirements.txt (line 1)) (3.9.3)\n",
      "indexing-pipeline-chunktextcomponent-1          | Collecting anyio<4.0 (from langchain==0.0.329->-r requirements.txt (line 1))\n",
      "indexing-pipeline-chunktextcomponent-1          |   Obtaining dependency information for anyio<4.0 from https://files.pythonhosted.org/packages/19/24/44299477fe7dcc9cb58d0a57d5a7588d6af2ff403fdd2d47a246c91a3246/anyio-3.7.1-py3-none-any.whl.metadata\n",
      "indexing-pipeline-chunktextcomponent-1          |   Downloading anyio-3.7.1-py3-none-any.whl.metadata (4.7 kB)\n",
      "indexing-pipeline-chunktextcomponent-1          | Collecting dataclasses-json<0.7,>=0.5.7 (from langchain==0.0.329->-r requirements.txt (line 1))\n",
      "indexing-pipeline-chunktextcomponent-1          |   Obtaining dependency information for dataclasses-json<0.7,>=0.5.7 from https://files.pythonhosted.org/packages/91/ca/7219b838086086972e662c19e908694bdc6744537fb41b70392501b8b5e4/dataclasses_json-0.6.4-py3-none-any.whl.metadata\n",
      "indexing-pipeline-chunktextcomponent-1          |   Downloading dataclasses_json-0.6.4-py3-none-any.whl.metadata (25 kB)\n",
      "indexing-pipeline-chunktextcomponent-1          | Collecting jsonpatch<2.0,>=1.33 (from langchain==0.0.329->-r requirements.txt (line 1))\n",
      "indexing-pipeline-chunktextcomponent-1          |   Obtaining dependency information for jsonpatch<2.0,>=1.33 from https://files.pythonhosted.org/packages/73/07/02e16ed01e04a374e644b575638ec7987ae846d25ad97bcc9945a3ee4b0e/jsonpatch-1.33-py2.py3-none-any.whl.metadata\n",
      "indexing-pipeline-chunktextcomponent-1          |   Downloading jsonpatch-1.33-py2.py3-none-any.whl.metadata (3.0 kB)\n",
      "indexing-pipeline-chunktextcomponent-1          | Collecting langsmith<0.1.0,>=0.0.52 (from langchain==0.0.329->-r requirements.txt (line 1))\n",
      "indexing-pipeline-chunktextcomponent-1          |   Obtaining dependency information for langsmith<0.1.0,>=0.0.52 from https://files.pythonhosted.org/packages/67/a0/a43239e2a0fa12867c66ef3f40537afb1d23c2830fef8bb624f578bf35e2/langsmith-0.0.86-py3-none-any.whl.metadata\n",
      "indexing-pipeline-chunktextcomponent-1          |   Downloading langsmith-0.0.86-py3-none-any.whl.metadata (10 kB)\n",
      "indexing-pipeline-chunktextcomponent-1          | Requirement already satisfied: numpy<2,>=1 in /usr/local/lib/python3.11/site-packages (from langchain==0.0.329->-r requirements.txt (line 1)) (1.26.3)\n",
      "indexing-pipeline-chunktextcomponent-1          | Collecting pydantic<3,>=1 (from langchain==0.0.329->-r requirements.txt (line 1))\n",
      "indexing-pipeline-chunktextcomponent-1          |   Obtaining dependency information for pydantic<3,>=1 from https://files.pythonhosted.org/packages/db/dc/afecbd9650f486889181c6d1a0d675b580c06253ea7e304588e4c7485bdb/pydantic-2.6.1-py3-none-any.whl.metadata\n",
      "indexing-pipeline-chunktextcomponent-1          |   Downloading pydantic-2.6.1-py3-none-any.whl.metadata (83 kB)\n",
      "indexing-pipeline-chunktextcomponent-1          |      ━━━━━━━━━━━━━━━━━━━━━━━━━━━━━━━━━━━━━━━━ 83.5/83.5 kB 2.7 MB/s eta 0:00:00\n",
      "indexing-pipeline-chunktextcomponent-1          | \n",
      "indexing-pipeline-chunktextcomponent-1          | \n",
      "indexing-pipeline-chunktextcomponent-1          | Requirement already satisfied: requests<3,>=2 in /usr/local/lib/python3.11/site-packages (from langchain==0.0.329->-r requirements.txt (line 1)) (2.31.0)\n",
      "indexing-pipeline-chunktextcomponent-1          | Collecting tenacity<9.0.0,>=8.1.0 (from langchain==0.0.329->-r requirements.txt (line 1))\n",
      "indexing-pipeline-chunktextcomponent-1          |   Obtaining dependency information for tenacity<9.0.0,>=8.1.0 from https://files.pythonhosted.org/packages/f4/f1/990741d5bb2487d529d20a433210ffa136a367751e454214013b441c4575/tenacity-8.2.3-py3-none-any.whl.metadata\n",
      "indexing-pipeline-chunktextcomponent-1          |   Downloading tenacity-8.2.3-py3-none-any.whl.metadata (1.0 kB)\n",
      "indexing-pipeline-chunktextcomponent-1          | Requirement already satisfied: aiosignal>=1.1.2 in /usr/local/lib/python3.11/site-packages (from aiohttp<4.0.0,>=3.8.3->langchain==0.0.329->-r requirements.txt (line 1)) (1.3.1)\n",
      "indexing-pipeline-chunktextcomponent-1          | Requirement already satisfied: attrs>=17.3.0 in /usr/local/lib/python3.11/site-packages (from aiohttp<4.0.0,>=3.8.3->langchain==0.0.329->-r requirements.txt (line 1)) (23.2.0)\n",
      "indexing-pipeline-chunktextcomponent-1          | Requirement already satisfied: frozenlist>=1.1.1 in /usr/local/lib/python3.11/site-packages (from aiohttp<4.0.0,>=3.8.3->langchain==0.0.329->-r requirements.txt (line 1)) (1.4.1)\n",
      "indexing-pipeline-chunktextcomponent-1          | Requirement already satisfied: multidict<7.0,>=4.5 in /usr/local/lib/python3.11/site-packages (from aiohttp<4.0.0,>=3.8.3->langchain==0.0.329->-r requirements.txt (line 1)) (6.0.5)\n",
      "indexing-pipeline-chunktextcomponent-1          | Requirement already satisfied: yarl<2.0,>=1.0 in /usr/local/lib/python3.11/site-packages (from aiohttp<4.0.0,>=3.8.3->langchain==0.0.329->-r requirements.txt (line 1)) (1.9.4)\n",
      "indexing-pipeline-chunktextcomponent-1          | Requirement already satisfied: idna>=2.8 in /usr/local/lib/python3.11/site-packages (from anyio<4.0->langchain==0.0.329->-r requirements.txt (line 1)) (3.6)\n",
      "indexing-pipeline-chunktextcomponent-1          | Collecting sniffio>=1.1 (from anyio<4.0->langchain==0.0.329->-r requirements.txt (line 1))\n",
      "indexing-pipeline-chunktextcomponent-1          |   Downloading sniffio-1.3.0-py3-none-any.whl (10 kB)\n",
      "indexing-pipeline-chunktextcomponent-1          | Collecting marshmallow<4.0.0,>=3.18.0 (from dataclasses-json<0.7,>=0.5.7->langchain==0.0.329->-r requirements.txt (line 1))\n",
      "indexing-pipeline-chunktextcomponent-1          |   Obtaining dependency information for marshmallow<4.0.0,>=3.18.0 from https://files.pythonhosted.org/packages/57/e9/4368d49d3b462da16a3bac976487764a84dd85cef97232c7bd61f5bdedf3/marshmallow-3.20.2-py3-none-any.whl.metadata\n",
      "indexing-pipeline-chunktextcomponent-1          |   Downloading marshmallow-3.20.2-py3-none-any.whl.metadata (7.5 kB)\n",
      "indexing-pipeline-chunktextcomponent-1          | Collecting typing-inspect<1,>=0.4.0 (from dataclasses-json<0.7,>=0.5.7->langchain==0.0.329->-r requirements.txt (line 1))\n",
      "indexing-pipeline-chunktextcomponent-1          |   Obtaining dependency information for typing-inspect<1,>=0.4.0 from https://files.pythonhosted.org/packages/65/f3/107a22063bf27bdccf2024833d3445f4eea42b2e598abfbd46f6a63b6cb0/typing_inspect-0.9.0-py3-none-any.whl.metadata\n",
      "indexing-pipeline-chunktextcomponent-1          |   Downloading typing_inspect-0.9.0-py3-none-any.whl.metadata (1.5 kB)\n",
      "indexing-pipeline-chunktextcomponent-1          | Collecting jsonpointer>=1.9 (from jsonpatch<2.0,>=1.33->langchain==0.0.329->-r requirements.txt (line 1))\n",
      "indexing-pipeline-chunktextcomponent-1          |   Obtaining dependency information for jsonpointer>=1.9 from https://files.pythonhosted.org/packages/12/f6/0232cc0c617e195f06f810534d00b74d2f348fe71b2118009ad8ad31f878/jsonpointer-2.4-py2.py3-none-any.whl.metadata\n",
      "indexing-pipeline-chunktextcomponent-1          |   Downloading jsonpointer-2.4-py2.py3-none-any.whl.metadata (2.5 kB)\n",
      "indexing-pipeline-chunktextcomponent-1          | Collecting annotated-types>=0.4.0 (from pydantic<3,>=1->langchain==0.0.329->-r requirements.txt (line 1))\n",
      "indexing-pipeline-chunktextcomponent-1          |   Obtaining dependency information for annotated-types>=0.4.0 from https://files.pythonhosted.org/packages/28/78/d31230046e58c207284c6b2c4e8d96e6d3cb4e52354721b944d3e1ee4aa5/annotated_types-0.6.0-py3-none-any.whl.metadata\n",
      "indexing-pipeline-chunktextcomponent-1          |   Downloading annotated_types-0.6.0-py3-none-any.whl.metadata (12 kB)\n",
      "indexing-pipeline-chunktextcomponent-1          | Collecting pydantic-core==2.16.2 (from pydantic<3,>=1->langchain==0.0.329->-r requirements.txt (line 1))\n",
      "indexing-pipeline-chunktextcomponent-1          |   Obtaining dependency information for pydantic-core==2.16.2 from https://files.pythonhosted.org/packages/ad/03/1cac52dfe893109a1571956755061df771457f33cb55264baed8f89635d6/pydantic_core-2.16.2-cp311-cp311-manylinux_2_17_x86_64.manylinux2014_x86_64.whl.metadata\n",
      "indexing-pipeline-chunktextcomponent-1          |   Downloading pydantic_core-2.16.2-cp311-cp311-manylinux_2_17_x86_64.manylinux2014_x86_64.whl.metadata (6.5 kB)\n",
      "indexing-pipeline-chunktextcomponent-1          | Requirement already satisfied: typing-extensions>=4.6.1 in /usr/local/lib/python3.11/site-packages (from pydantic<3,>=1->langchain==0.0.329->-r requirements.txt (line 1)) (4.9.0)\n",
      "indexing-pipeline-chunktextcomponent-1          | Requirement already satisfied: charset-normalizer<4,>=2 in /usr/local/lib/python3.11/site-packages (from requests<3,>=2->langchain==0.0.329->-r requirements.txt (line 1)) (3.3.2)\n",
      "indexing-pipeline-chunktextcomponent-1          | Requirement already satisfied: urllib3<3,>=1.21.1 in /usr/local/lib/python3.11/site-packages (from requests<3,>=2->langchain==0.0.329->-r requirements.txt (line 1)) (2.0.7)\n",
      "indexing-pipeline-chunktextcomponent-1          | Requirement already satisfied: certifi>=2017.4.17 in /usr/local/lib/python3.11/site-packages (from requests<3,>=2->langchain==0.0.329->-r requirements.txt (line 1)) (2024.2.2)\n",
      "indexing-pipeline-chunktextcomponent-1          | Collecting greenlet!=0.4.17 (from SQLAlchemy<3,>=1.4->langchain==0.0.329->-r requirements.txt (line 1))\n",
      "indexing-pipeline-chunktextcomponent-1          |   Obtaining dependency information for greenlet!=0.4.17 from https://files.pythonhosted.org/packages/c6/1f/12d5a6cc26e8b483c2e7975f9c22e088ac735c0d8dcb8a8f72d31a4e5f04/greenlet-3.0.3-cp311-cp311-manylinux_2_24_x86_64.manylinux_2_28_x86_64.whl.metadata\n",
      "indexing-pipeline-chunktextcomponent-1          |   Downloading greenlet-3.0.3-cp311-cp311-manylinux_2_24_x86_64.manylinux_2_28_x86_64.whl.metadata (3.8 kB)\n",
      "indexing-pipeline-chunktextcomponent-1          | Requirement already satisfied: packaging>=17.0 in /usr/local/lib/python3.11/site-packages (from marshmallow<4.0.0,>=3.18.0->dataclasses-json<0.7,>=0.5.7->langchain==0.0.329->-r requirements.txt (line 1)) (23.2)\n",
      "indexing-pipeline-chunktextcomponent-1          | Collecting mypy-extensions>=0.3.0 (from typing-inspect<1,>=0.4.0->dataclasses-json<0.7,>=0.5.7->langchain==0.0.329->-r requirements.txt (line 1))\n",
      "indexing-pipeline-chunktextcomponent-1          |   Downloading mypy_extensions-1.0.0-py3-none-any.whl (4.7 kB)\n",
      "indexing-pipeline-chunktextcomponent-1          | Downloading langchain-0.0.329-py3-none-any.whl (2.0 MB)\n",
      "indexing-pipeline-chunktextcomponent-1          |    ━━━━━━━━━━━━━━━━━━━━━━━━━━━━━━━━━━━━━━━━ 2.0/2.0 MB 10.9 MB/s eta 0:00:00\n",
      "indexing-pipeline-chunktextcomponent-1          | \n",
      "indexing-pipeline-chunktextcomponent-1          | \n",
      "indexing-pipeline-chunktextcomponent-1          | Downloading anyio-3.7.1-py3-none-any.whl (80 kB)\n",
      "indexing-pipeline-chunktextcomponent-1          |    ━━━━━━━━━━━━━━━━━━━━━━━━━━━━━━━━━━━━━━━━ 80.9/80.9 kB 11.1 MB/s eta 0:00:00\n",
      "indexing-pipeline-chunktextcomponent-1          | \n",
      "indexing-pipeline-chunktextcomponent-1          | \n",
      "indexing-pipeline-chunktextcomponent-1          | Downloading dataclasses_json-0.6.4-py3-none-any.whl (28 kB)\n",
      "indexing-pipeline-chunktextcomponent-1          | Downloading jsonpatch-1.33-py2.py3-none-any.whl (12 kB)\n",
      "indexing-pipeline-chunktextcomponent-1          | Downloading langsmith-0.0.86-py3-none-any.whl (54 kB)\n",
      "indexing-pipeline-chunktextcomponent-1          |    ━━━━━━━━━━━━━━━━━━━━━━━━━━━━━━━━━━━━━━━━ 54.4/54.4 kB 10.3 MB/s eta 0:00:00\n",
      "indexing-pipeline-chunktextcomponent-1          | \n",
      "indexing-pipeline-chunktextcomponent-1          | \n",
      "indexing-pipeline-chunktextcomponent-1          | Downloading pydantic-2.6.1-py3-none-any.whl (394 kB)\n",
      "indexing-pipeline-chunktextcomponent-1          |    ━━━━━━━━━━━━━━━━━━━━━━━━━━━━━━━━━━━━━━━━ 394.8/394.8 kB 12.6 MB/s eta 0:00:00\n",
      "indexing-pipeline-chunktextcomponent-1          | \n",
      "indexing-pipeline-chunktextcomponent-1          | \n",
      "indexing-pipeline-chunktextcomponent-1          | Downloading pydantic_core-2.16.2-cp311-cp311-manylinux_2_17_x86_64.manylinux2014_x86_64.whl (2.2 MB)\n",
      "indexing-pipeline-chunktextcomponent-1          |    ━━━━━━━━━━━━━━━━━━━━━━━━━━━━━━━━━━━━━━━━ 2.2/2.2 MB 18.7 MB/s eta 0:00:00\n",
      "indexing-pipeline-chunktextcomponent-1          | \n",
      "indexing-pipeline-chunktextcomponent-1          | \n",
      "indexing-pipeline-chunktextcomponent-1          | Downloading SQLAlchemy-2.0.25-cp311-cp311-manylinux_2_17_x86_64.manylinux2014_x86_64.whl (3.2 MB)\n",
      "indexing-pipeline-chunktextcomponent-1          |    ━━━━━━━━━━━━━━━━━━━━━━━━━━━━━━━━━━━━━━━━ 3.2/3.2 MB 10.4 MB/s eta 0:00:00\n",
      "indexing-pipeline-chunktextcomponent-1          | \n",
      "indexing-pipeline-chunktextcomponent-1          | \n",
      "indexing-pipeline-chunktextcomponent-1          | Downloading tenacity-8.2.3-py3-none-any.whl (24 kB)\n",
      "indexing-pipeline-chunktextcomponent-1          | Downloading annotated_types-0.6.0-py3-none-any.whl (12 kB)\n",
      "indexing-pipeline-chunktextcomponent-1          | Downloading greenlet-3.0.3-cp311-cp311-manylinux_2_24_x86_64.manylinux_2_28_x86_64.whl (620 kB)\n",
      "indexing-pipeline-chunktextcomponent-1          |    ━━━━━━━━━━━━━━━━━━━━━━━━━━━━━━━━━━━━━━━━ 620.0/620.0 kB 15.1 MB/s eta 0:00:00\n",
      "indexing-pipeline-chunktextcomponent-1          | \n",
      "indexing-pipeline-chunktextcomponent-1          | \n",
      "indexing-pipeline-chunktextcomponent-1          | Downloading jsonpointer-2.4-py2.py3-none-any.whl (7.8 kB)\n",
      "indexing-pipeline-chunktextcomponent-1          | Downloading marshmallow-3.20.2-py3-none-any.whl (49 kB)\n",
      "indexing-pipeline-chunktextcomponent-1          |    ━━━━━━━━━━━━━━━━━━━━━━━━━━━━━━━━━━━━━━━━ 49.4/49.4 kB 3.8 MB/s eta 0:00:00\n",
      "indexing-pipeline-chunktextcomponent-1          | \n",
      "indexing-pipeline-chunktextcomponent-1          | \n",
      "indexing-pipeline-chunktextcomponent-1          | Downloading typing_inspect-0.9.0-py3-none-any.whl (8.8 kB)\n",
      "indexing-pipeline-chunktextcomponent-1          | Installing collected packages: tenacity, sniffio, pydantic-core, mypy-extensions, marshmallow, jsonpointer, greenlet, annotated-types, typing-inspect, SQLAlchemy, pydantic, jsonpatch, anyio, langsmith, dataclasses-json, langchain\n",
      "indexing-pipeline-chunktextcomponent-1          | Successfully installed SQLAlchemy-2.0.25 annotated-types-0.6.0 anyio-3.7.1 dataclasses-json-0.6.4 greenlet-3.0.3 jsonpatch-1.33 jsonpointer-2.4 langchain-0.0.329 langsmith-0.0.86 marshmallow-3.20.2 mypy-extensions-1.0.0 pydantic-2.6.1 pydantic-core-2.16.2 sniffio-1.3.0 tenacity-8.2.3 typing-inspect-0.9.0\n"
     ]
    },
    {
     "name": "stderr",
     "output_type": "stream",
     "text": [
      "indexing-pipeline-chunktextcomponent-1          | WARNING: Running pip as the 'root' user can result in broken permissions and conflicting behaviour with the system package manager. It is recommended to use a virtual environment instead: https://pip.pypa.io/warnings/venv\n",
      "indexing-pipeline-chunktextcomponent-1          | \n",
      "indexing-pipeline-chunktextcomponent-1          | [notice] A new release of pip is available: 23.2.1 -> 24.0\n",
      "indexing-pipeline-chunktextcomponent-1          | [notice] To update, run: pip install --upgrade pip\n",
      "indexing-pipeline-chunktextcomponent-1          | \n",
      "indexing-pipeline-chunktextcomponent-1          | [2024-02-06 12:18:56,376 | fondant.cli | INFO] Component `ChunkTextComponent` found in module main\n",
      "indexing-pipeline-chunktextcomponent-1          | [2024-02-06 12:18:56,380 | fondant.component.executor | INFO] Dask default local mode will be used for further executions.Our current supported options are limited to 'local' and 'default'.\n",
      "indexing-pipeline-chunktextcomponent-1          | [2024-02-06 12:18:56,384 | fondant.component.executor | INFO] Previous component `load_from_hugging_face_hub` run was cached. Cached pipeline id: indexing-pipeline-20240206095839\n",
      "indexing-pipeline-chunktextcomponent-1          | [2024-02-06 12:18:56,386 | fondant.component.executor | INFO] Skipping component execution\n",
      "indexing-pipeline-chunktextcomponent-1          | [2024-02-06 12:18:56,388 | fondant.component.executor | INFO] Matching execution detected for component. The last execution of the component originated from `indexing-pipeline-20240206095839`.\n",
      "indexing-pipeline-chunktextcomponent-1          | [2024-02-06 12:18:56,392 | fondant.component.executor | INFO] Saving output manifest to /data/indexing-pipeline/indexing-pipeline-20240206131838/chunktextcomponent/manifest.json\n",
      "indexing-pipeline-chunktextcomponent-1          | [2024-02-06 12:18:56,392 | fondant.component.executor | INFO] Writing cache key with manifest reference to /data/indexing-pipeline/cache/b68d85742dae1d3f4b67dfd08b171a68.txt\n"
     ]
    },
    {
     "name": "stdout",
     "output_type": "stream",
     "text": [
      "indexing-pipeline-chunktextcomponent-1 exited with code 0\n"
     ]
    },
    {
     "name": "stderr",
     "output_type": "stream",
     "text": [
      "indexing-pipeline-embed_text-1                  | [2024-02-06 12:19:00,042 | fondant.cli | INFO] Component `EmbedTextComponent` found in module main\n",
      "indexing-pipeline-embed_text-1                  | [2024-02-06 12:19:00,049 | fondant.component.executor | INFO] Dask default local mode will be used for further executions.Our current supported options are limited to 'local' and 'default'.\n",
      "indexing-pipeline-embed_text-1                  | [2024-02-06 12:19:00,055 | fondant.component.executor | INFO] Caching disabled for the component\n",
      "indexing-pipeline-embed_text-1                  | [2024-02-06 12:19:00,055 | root | INFO] Executing component\n",
      "indexing-pipeline-embed_text-1                  | [2024-02-06 12:19:03,098 | sentence_transformers.SentenceTransformer | INFO] Load pretrained SentenceTransformer: all-MiniLM-L6-v2\n",
      ".gitattributes:   0%|          | 0.00/1.18k [00:00<?, ?B/s]\n",
      ".gitattributes: 100%|██████████| 1.18k/1.18k [00:00<00:00, 1.77MB/s]\n",
      "1_Pooling/config.json:   0%|          | 0.00/190 [00:00<?, ?B/s]\n",
      "1_Pooling/config.json: 100%|██████████| 190/190 [00:00<00:00, 301kB/s]\n",
      "README.md:   0%|          | 0.00/10.6k [00:00<?, ?B/s]\n",
      "README.md: 100%|██████████| 10.6k/10.6k [00:00<00:00, 11.2MB/s]\n",
      "config.json:   0%|          | 0.00/612 [00:00<?, ?B/s]\n",
      "config.json: 100%|██████████| 612/612 [00:00<00:00, 913kB/s]\n",
      "config_sentence_transformers.json:   0%|          | 0.00/116 [00:00<?, ?B/s]\n",
      "config_sentence_transformers.json: 100%|██████████| 116/116 [00:00<00:00, 194kB/s]\n",
      "data_config.json:   0%|          | 0.00/39.3k [00:00<?, ?B/s]\n",
      "data_config.json: 100%|██████████| 39.3k/39.3k [00:00<00:00, 403kB/s]\n",
      "pytorch_model.bin:   0%|          | 0.00/90.9M [00:00<?, ?B/s]\n",
      "pytorch_model.bin:  12%|█▏        | 10.5M/90.9M [00:00<00:07, 11.3MB/s]\n",
      "pytorch_model.bin:  23%|██▎       | 21.0M/90.9M [00:01<00:05, 12.0MB/s]\n",
      "pytorch_model.bin:  35%|███▍      | 31.5M/90.9M [00:02<00:04, 12.1MB/s]\n",
      "pytorch_model.bin:  46%|████▌     | 41.9M/90.9M [00:03<00:04, 12.2MB/s]\n",
      "pytorch_model.bin:  58%|█████▊    | 52.4M/90.9M [00:04<00:02, 12.9MB/s]\n",
      "pytorch_model.bin:  69%|██████▉   | 62.9M/90.9M [00:05<00:02, 12.7MB/s]\n",
      "pytorch_model.bin:  81%|████████  | 73.4M/90.9M [00:05<00:01, 13.2MB/s]\n",
      "pytorch_model.bin:  92%|█████████▏| 83.9M/90.9M [00:06<00:00, 12.7MB/s]\n",
      "pytorch_model.bin: 100%|██████████| 90.9M/90.9M [00:07<00:00, 13.0MB/s]\n",
      "pytorch_model.bin: 100%|██████████| 90.9M/90.9M [00:07<00:00, 12.6MB/s]\n",
      "sentence_bert_config.json:   0%|          | 0.00/53.0 [00:00<?, ?B/s]\n",
      "sentence_bert_config.json: 100%|██████████| 53.0/53.0 [00:00<00:00, 68.0kB/s]\n",
      "special_tokens_map.json:   0%|          | 0.00/112 [00:00<?, ?B/s]\n",
      "special_tokens_map.json: 100%|██████████| 112/112 [00:00<00:00, 152kB/s]\n",
      "tokenizer.json:   0%|          | 0.00/466k [00:00<?, ?B/s]\n",
      "tokenizer.json: 100%|██████████| 466k/466k [00:00<00:00, 1.89MB/s]\n",
      "tokenizer.json: 100%|██████████| 466k/466k [00:00<00:00, 1.85MB/s]\n",
      "tokenizer_config.json:   0%|          | 0.00/350 [00:00<?, ?B/s]\n",
      "tokenizer_config.json: 100%|██████████| 350/350 [00:00<00:00, 442kB/s]\n",
      "train_script.py:   0%|          | 0.00/13.2k [00:00<?, ?B/s]\n",
      "train_script.py: 100%|██████████| 13.2k/13.2k [00:00<00:00, 10.7MB/s]\n",
      "vocab.txt:   0%|          | 0.00/232k [00:00<?, ?B/s]\n",
      "vocab.txt: 100%|██████████| 232k/232k [00:00<00:00, 1.68MB/s]\n",
      "vocab.txt: 100%|██████████| 232k/232k [00:00<00:00, 1.64MB/s]\n",
      "modules.json:   0%|          | 0.00/349 [00:00<?, ?B/s]\n",
      "modules.json: 100%|██████████| 349/349 [00:00<00:00, 564kB/s]\n",
      "indexing-pipeline-embed_text-1                  | /opt/conda/lib/python3.10/site-packages/torch/_utils.py:776: UserWarning: TypedStorage is deprecated. It will be removed in the future and UntypedStorage will be the only storage class. This should only matter to you if you are using storages directly.  To access UntypedStorage directly, use tensor.untyped_storage() instead of tensor.storage()\n",
      "indexing-pipeline-embed_text-1                  |   return self.fget.__get__(instance, owner)()\n",
      "indexing-pipeline-embed_text-1                  | [2024-02-06 12:19:17,336 | sentence_transformers.SentenceTransformer | INFO] Use pytorch device: cpu\n",
      "indexing-pipeline-embed_text-1                  | [2024-02-06 12:19:17,582 | root | INFO] Columns of dataframe: ['text']\n",
      "indexing-pipeline-embed_text-1                  | [2024-02-06 12:19:20,141 | root | INFO] Creating write task for: /data/indexing-pipeline/indexing-pipeline-20240206131838/embed_text\n",
      "indexing-pipeline-embed_text-1                  | [2024-02-06 12:19:20,142 | root | INFO] Writing data...\n",
      "Batches:   0%|          | 0/9 [00:00<?, ?it/s]  | \n",
      "indexing-pipeline-embed_text-1                  | \n",
      "indexing-pipeline-embed_text-1                  | \n",
      "Batches:   0%|          | 0/9 [00:00<?, ?it/s]\u001b[A \n",
      "indexing-pipeline-embed_text-1                  | \n",
      "indexing-pipeline-embed_text-1                  | \n",
      "indexing-pipeline-embed_text-1                  | \n",
      "Batches:   0%|          | 0/10 [00:00<?, ?it/s] | \n",
      "indexing-pipeline-embed_text-1                  | \u001b[A\u001b[A\n",
      "indexing-pipeline-embed_text-1                  | \n",
      "indexing-pipeline-embed_text-1                  | \n",
      "indexing-pipeline-embed_text-1                  | \n",
      "indexing-pipeline-embed_text-1                  | \n",
      "Batches:   0%|          | 0/8 [00:00<?, ?it/s]\u001b[A\u001b[A\u001b[A\n"
     ]
    },
    {
     "name": "stdout",
     "output_type": "stream",
     "text": [
      "[                                        ] | 0% Completed | 613.46 us\n",
      "[                                        ] | 0% Completed | 116.45 ms\n",
      "[                                        ] | 0% Completed | 216.90 ms\n",
      "[                                        ] | 0% Completed | 322.53 ms\n",
      "[                                        ] | 0% Completed | 430.40 ms\n",
      "[                                        ] | 0% Completed | 530.65 ms\n",
      "[                                        ] | 0% Completed | 631.18 ms\n",
      "[                                        ] | 0% Completed | 731.55 ms\n",
      "[                                        ] | 0% Completed | 832.06 ms\n",
      "[                                        ] | 0% Completed | 939.03 ms\n",
      "[                                        ] | 0% Completed | 1.04 s\n",
      "[                                        ] | 0% Completed | 1.14 s\n",
      "[                                        ] | 0% Completed | 1.24 s\n",
      "[                                        ] | 0% Completed | 1.34 s\n",
      "[                                        ] | 0% Completed | 1.44 s\n",
      "[                                        ] | 0% Completed | 1.55 s\n",
      "[                                        ] | 0% Completed | 1.65 s\n",
      "[                                        ] | 0% Completed | 1.75 s\n",
      "[                                        ] | 0% Completed | 1.85 s\n",
      "[                                        ] | 0% Completed | 1.95 s\n",
      "[                                        ] | 0% Completed | 2.05 s\n",
      "[                                        ] | 0% Completed | 2.15 s\n",
      "[                                        ] | 0% Completed | 2.25 s\n",
      "[                                        ] | 0% Completed | 2.35 s\n",
      "[                                        ] | 0% Completed | 2.45 s\n",
      "[                                        ] | 0% Completed | 2.55 s\n",
      "[                                        ] | 0% Completed | 2.65 s\n",
      "[                                        ] | 0% Completed | 2.75 s\n",
      "[                                        ] | 0% Completed | 2.85 s\n",
      "[                                        ] | 0% Completed | 2.95 s\n",
      "[                                        ] | 0% Completed | 3.05 s\n",
      "[                                        ] | 0% Completed | 3.15 s\n",
      "[                                        ] | 0% Completed | 3.25 s\n",
      "[                                        ] | 0% Completed | 3.35 s\n",
      "[                                        ] | 0% Completed | 3.45 s\n",
      "[                                        ] | 0% Completed | 3.55 s\n",
      "[                                        ] | 0% Completed | 3.65 s\n",
      "[                                        ] | 0% Completed | 3.75 s\n",
      "[                                        ] | 0% Completed | 3.85 s\n",
      "[                                        ] | 0% Completed | 3.95 s\n",
      "[                                        ] | 0% Completed | 4.05 s\n",
      "[                                        ] | 0% Completed | 4.15 s\n",
      "[                                        ] | 0% Completed | 4.25 s\n",
      "[                                        ] | 0% Completed | 4.35 s\n",
      "[                                        ] | 0% Completed | 4.45 s\n"
     ]
    },
    {
     "name": "stderr",
     "output_type": "stream",
     "text": [
      "Batches:  11%|█         | 1/9 [00:04<00:35,  4.41s/it]\n",
      "indexing-pipeline-embed_text-1                  | \n",
      "indexing-pipeline-embed_text-1                  | \n",
      "indexing-pipeline-embed_text-1                  | \n",
      "Batches:  10%|█         | 1/10 [00:04<00:40,  4.55s/it]\n",
      "indexing-pipeline-embed_text-1                  | \u001b[A\u001b[A\n"
     ]
    },
    {
     "name": "stdout",
     "output_type": "stream",
     "text": [
      "[                                        ] | 0% Completed | 4.55 s\n",
      "[                                        ] | 0% Completed | 4.65 s\n",
      "[                                        ] | 0% Completed | 4.75 s\n"
     ]
    },
    {
     "name": "stderr",
     "output_type": "stream",
     "text": [
      "indexing-pipeline-embed_text-1                  | \n",
      "indexing-pipeline-embed_text-1                  | \n",
      "Batches:  11%|█         | 1/9 [00:04<00:37,  4.63s/it]\n",
      "indexing-pipeline-embed_text-1                  | \u001b[A\n"
     ]
    },
    {
     "name": "stdout",
     "output_type": "stream",
     "text": [
      "[                                        ] | 0% Completed | 4.85 s\n",
      "[                                        ] | 0% Completed | 4.96 s\n",
      "[                                        ] | 0% Completed | 5.06 s\n",
      "[                                        ] | 0% Completed | 5.16 s\n",
      "[                                        ] | 0% Completed | 5.26 s\n",
      "[                                        ] | 0% Completed | 5.37 s\n",
      "[                                        ] | 0% Completed | 5.53 s\n",
      "[                                        ] | 0% Completed | 5.65 s\n",
      "[                                        ] | 0% Completed | 5.75 s\n"
     ]
    },
    {
     "name": "stderr",
     "output_type": "stream",
     "text": [
      "indexing-pipeline-embed_text-1                  | \n",
      "indexing-pipeline-embed_text-1                  | \n",
      "indexing-pipeline-embed_text-1                  | \n",
      "indexing-pipeline-embed_text-1                  | \n",
      "Batches:  12%|█▎        | 1/8 [00:05<00:39,  5.58s/it]\n",
      "indexing-pipeline-embed_text-1                  | \u001b[A\u001b[A\u001b[A\n"
     ]
    },
    {
     "name": "stdout",
     "output_type": "stream",
     "text": [
      "[                                        ] | 0% Completed | 5.85 s\n",
      "[                                        ] | 0% Completed | 5.95 s\n",
      "[                                        ] | 0% Completed | 6.05 s\n",
      "[                                        ] | 0% Completed | 6.15 s\n",
      "[                                        ] | 0% Completed | 6.25 s\n",
      "[                                        ] | 0% Completed | 6.36 s\n",
      "[                                        ] | 0% Completed | 6.46 s\n",
      "[                                        ] | 0% Completed | 6.56 s\n",
      "[                                        ] | 0% Completed | 6.66 s\n",
      "[                                        ] | 0% Completed | 6.76 s\n",
      "[                                        ] | 0% Completed | 6.86 s\n",
      "[                                        ] | 0% Completed | 6.96 s\n",
      "[                                        ] | 0% Completed | 7.06 s\n",
      "[                                        ] | 0% Completed | 7.16 s\n",
      "[                                        ] | 0% Completed | 7.26 s\n",
      "[                                        ] | 0% Completed | 7.36 s\n",
      "[                                        ] | 0% Completed | 7.46 s\n",
      "[                                        ] | 0% Completed | 7.56 s\n",
      "[                                        ] | 0% Completed | 7.66 s\n",
      "[                                        ] | 0% Completed | 7.76 s\n",
      "[                                        ] | 0% Completed | 7.86 s\n",
      "[                                        ] | 0% Completed | 7.96 s\n",
      "[                                        ] | 0% Completed | 8.06 s\n"
     ]
    },
    {
     "name": "stderr",
     "output_type": "stream",
     "text": [
      "indexing-pipeline-embed_text-1                  | \n",
      "indexing-pipeline-embed_text-1                  | \n",
      "indexing-pipeline-embed_text-1                  | \n",
      "Batches:  20%|██        | 2/10 [00:07<00:30,  3.81s/it]\n",
      "indexing-pipeline-embed_text-1                  | \u001b[A\u001b[A\n"
     ]
    },
    {
     "name": "stdout",
     "output_type": "stream",
     "text": [
      "[                                        ] | 0% Completed | 8.16 s\n",
      "[                                        ] | 0% Completed | 8.26 s\n",
      "[                                        ] | 0% Completed | 8.36 s\n"
     ]
    },
    {
     "name": "stderr",
     "output_type": "stream",
     "text": [
      "indexing-pipeline-embed_text-1                  | \n",
      "indexing-pipeline-embed_text-1                  | \n",
      "Batches:  22%|██▏       | 2/9 [00:08<00:28,  4.07s/it]\n",
      "indexing-pipeline-embed_text-1                  | \u001b[A\n"
     ]
    },
    {
     "name": "stdout",
     "output_type": "stream",
     "text": [
      "[                                        ] | 0% Completed | 8.46 s\n",
      "[                                        ] | 0% Completed | 8.56 s\n",
      "[                                        ] | 0% Completed | 8.66 s\n",
      "[                                        ] | 0% Completed | 8.76 s\n",
      "[                                        ] | 0% Completed | 8.86 s\n"
     ]
    },
    {
     "name": "stderr",
     "output_type": "stream",
     "text": [
      "Batches:  22%|██▏       | 2/9 [00:08<00:29,  4.27s/it]\n"
     ]
    },
    {
     "name": "stdout",
     "output_type": "stream",
     "text": [
      "[                                        ] | 0% Completed | 8.96 s\n",
      "[                                        ] | 0% Completed | 9.06 s\n",
      "[                                        ] | 0% Completed | 9.17 s\n",
      "[                                        ] | 0% Completed | 9.27 s\n",
      "[                                        ] | 0% Completed | 9.37 s\n",
      "[                                        ] | 0% Completed | 9.47 s\n",
      "[                                        ] | 0% Completed | 9.57 s\n",
      "[                                        ] | 0% Completed | 9.67 s\n",
      "[                                        ] | 0% Completed | 9.77 s\n",
      "[                                        ] | 0% Completed | 9.87 s\n",
      "[                                        ] | 0% Completed | 9.97 s\n",
      "[                                        ] | 0% Completed | 10.07 s\n",
      "[                                        ] | 0% Completed | 10.17 s\n",
      "[                                        ] | 0% Completed | 10.27 s\n",
      "[                                        ] | 0% Completed | 10.37 s\n",
      "[                                        ] | 0% Completed | 10.47 s\n"
     ]
    },
    {
     "name": "stderr",
     "output_type": "stream",
     "text": [
      "indexing-pipeline-embed_text-1                  | \n",
      "indexing-pipeline-embed_text-1                  | \n",
      "indexing-pipeline-embed_text-1                  | \n",
      "indexing-pipeline-embed_text-1                  | \n",
      "Batches:  25%|██▌       | 2/8 [00:10<00:30,  5.04s/it]\n",
      "indexing-pipeline-embed_text-1                  | \u001b[A\u001b[A\u001b[A\n"
     ]
    },
    {
     "name": "stdout",
     "output_type": "stream",
     "text": [
      "[                                        ] | 0% Completed | 10.57 s\n",
      "[                                        ] | 0% Completed | 10.67 s\n",
      "[                                        ] | 0% Completed | 10.77 s\n",
      "[                                        ] | 0% Completed | 10.87 s\n",
      "[                                        ] | 0% Completed | 10.97 s\n"
     ]
    },
    {
     "name": "stderr",
     "output_type": "stream",
     "text": [
      "indexing-pipeline-embed_text-1                  | \n",
      "indexing-pipeline-embed_text-1                  | \n",
      "indexing-pipeline-embed_text-1                  | \n",
      "Batches:  30%|███       | 3/10 [00:10<00:23,  3.42s/it]\n",
      "indexing-pipeline-embed_text-1                  | \u001b[A\u001b[A\n"
     ]
    },
    {
     "name": "stdout",
     "output_type": "stream",
     "text": [
      "[                                        ] | 0% Completed | 11.08 s\n",
      "[                                        ] | 0% Completed | 11.18 s\n",
      "[                                        ] | 0% Completed | 11.28 s\n"
     ]
    },
    {
     "name": "stderr",
     "output_type": "stream",
     "text": [
      "indexing-pipeline-embed_text-1                  | \n",
      "indexing-pipeline-embed_text-1                  | \n",
      "Batches:  33%|███▎      | 3/9 [00:11<00:20,  3.46s/it]\n",
      "indexing-pipeline-embed_text-1                  | \u001b[A\n"
     ]
    },
    {
     "name": "stdout",
     "output_type": "stream",
     "text": [
      "[                                        ] | 0% Completed | 11.38 s\n",
      "[                                        ] | 0% Completed | 11.48 s\n",
      "[                                        ] | 0% Completed | 11.59 s\n",
      "[                                        ] | 0% Completed | 11.69 s\n",
      "[                                        ] | 0% Completed | 11.81 s\n",
      "[                                        ] | 0% Completed | 11.92 s\n",
      "[                                        ] | 0% Completed | 12.02 s\n",
      "[                                        ] | 0% Completed | 12.12 s\n",
      "[                                        ] | 0% Completed | 12.22 s\n",
      "[                                        ] | 0% Completed | 12.32 s\n",
      "[                                        ] | 0% Completed | 12.42 s\n",
      "[                                        ] | 0% Completed | 12.52 s\n"
     ]
    },
    {
     "name": "stderr",
     "output_type": "stream",
     "text": [
      "Batches:  33%|███▎      | 3/9 [00:12<00:24,  4.09s/it]\n"
     ]
    },
    {
     "name": "stdout",
     "output_type": "stream",
     "text": [
      "[                                        ] | 0% Completed | 12.62 s\n",
      "[                                        ] | 0% Completed | 12.72 s\n",
      "[                                        ] | 0% Completed | 12.82 s\n",
      "[                                        ] | 0% Completed | 12.92 s\n",
      "[                                        ] | 0% Completed | 13.02 s\n",
      "[                                        ] | 0% Completed | 13.12 s\n",
      "[                                        ] | 0% Completed | 13.22 s\n",
      "[                                        ] | 0% Completed | 13.32 s\n",
      "[                                        ] | 0% Completed | 13.42 s\n",
      "[                                        ] | 0% Completed | 13.52 s\n",
      "[                                        ] | 0% Completed | 13.63 s\n",
      "[                                        ] | 0% Completed | 13.73 s\n",
      "[                                        ] | 0% Completed | 13.83 s\n"
     ]
    },
    {
     "name": "stderr",
     "output_type": "stream",
     "text": [
      "indexing-pipeline-embed_text-1                  | \n",
      "indexing-pipeline-embed_text-1                  | \n",
      "Batches:  44%|████▍     | 4/9 [00:13<00:15,  3.17s/it]\n",
      "indexing-pipeline-embed_text-1                  | \u001b[A\n"
     ]
    },
    {
     "name": "stdout",
     "output_type": "stream",
     "text": [
      "[                                        ] | 0% Completed | 13.93 s\n",
      "[                                        ] | 0% Completed | 14.03 s\n",
      "[                                        ] | 0% Completed | 14.13 s\n",
      "[                                        ] | 0% Completed | 14.26 s\n",
      "[                                        ] | 0% Completed | 14.38 s\n",
      "[                                        ] | 0% Completed | 14.48 s\n",
      "[                                        ] | 0% Completed | 14.58 s\n",
      "[                                        ] | 0% Completed | 14.68 s\n",
      "[                                        ] | 0% Completed | 14.78 s\n",
      "[                                        ] | 0% Completed | 14.88 s\n",
      "[                                        ] | 0% Completed | 14.98 s\n"
     ]
    },
    {
     "name": "stderr",
     "output_type": "stream",
     "text": [
      "indexing-pipeline-embed_text-1                  | \n",
      "indexing-pipeline-embed_text-1                  | \n",
      "indexing-pipeline-embed_text-1                  | \n",
      "Batches:  40%|████      | 4/10 [00:14<00:21,  3.65s/it]\n",
      "indexing-pipeline-embed_text-1                  | \u001b[A\u001b[A\n",
      "indexing-pipeline-embed_text-1                  | \n",
      "indexing-pipeline-embed_text-1                  | \n",
      "indexing-pipeline-embed_text-1                  | \n",
      "indexing-pipeline-embed_text-1                  | \n",
      "Batches:  38%|███▊      | 3/8 [00:14<00:24,  4.87s/it]\n",
      "indexing-pipeline-embed_text-1                  | \u001b[A\u001b[A\u001b[A\n"
     ]
    },
    {
     "name": "stdout",
     "output_type": "stream",
     "text": [
      "[                                        ] | 0% Completed | 15.08 s\n",
      "[                                        ] | 0% Completed | 15.18 s\n",
      "[                                        ] | 0% Completed | 15.28 s\n",
      "[                                        ] | 0% Completed | 15.38 s\n",
      "[                                        ] | 0% Completed | 15.48 s\n",
      "[                                        ] | 0% Completed | 15.58 s\n",
      "[                                        ] | 0% Completed | 15.69 s\n",
      "[                                        ] | 0% Completed | 15.79 s\n",
      "[                                        ] | 0% Completed | 15.89 s\n"
     ]
    },
    {
     "name": "stderr",
     "output_type": "stream",
     "text": [
      "indexing-pipeline-embed_text-1                  | \n",
      "indexing-pipeline-embed_text-1                  | \n",
      "Batches:  56%|█████▌    | 5/9 [00:15<00:10,  2.74s/it]\n",
      "indexing-pipeline-embed_text-1                  | \u001b[A\n"
     ]
    },
    {
     "name": "stdout",
     "output_type": "stream",
     "text": [
      "[                                        ] | 0% Completed | 15.99 s\n",
      "[                                        ] | 0% Completed | 16.09 s\n",
      "[                                        ] | 0% Completed | 16.19 s\n",
      "[                                        ] | 0% Completed | 16.29 s\n",
      "[                                        ] | 0% Completed | 16.39 s\n"
     ]
    },
    {
     "name": "stderr",
     "output_type": "stream",
     "text": [
      "Batches:  44%|████▍     | 4/9 [00:16<00:19,  3.94s/it]\n"
     ]
    },
    {
     "name": "stdout",
     "output_type": "stream",
     "text": [
      "[                                        ] | 0% Completed | 16.49 s\n",
      "[                                        ] | 0% Completed | 16.59 s\n",
      "[                                        ] | 0% Completed | 16.69 s\n",
      "[                                        ] | 0% Completed | 16.79 s\n",
      "[                                        ] | 0% Completed | 16.89 s\n"
     ]
    },
    {
     "name": "stderr",
     "output_type": "stream",
     "text": [
      "indexing-pipeline-embed_text-1                  | \n",
      "indexing-pipeline-embed_text-1                  | \n",
      "Batches:  67%|██████▋   | 6/9 [00:16<00:06,  2.14s/it]\n",
      "indexing-pipeline-embed_text-1                  | \u001b[A\n"
     ]
    },
    {
     "name": "stdout",
     "output_type": "stream",
     "text": [
      "[                                        ] | 0% Completed | 16.99 s\n",
      "[                                        ] | 0% Completed | 17.09 s\n",
      "[                                        ] | 0% Completed | 17.19 s\n",
      "[                                        ] | 0% Completed | 17.29 s\n",
      "[                                        ] | 0% Completed | 17.39 s\n"
     ]
    },
    {
     "name": "stderr",
     "output_type": "stream",
     "text": [
      "indexing-pipeline-embed_text-1                  | \n",
      "indexing-pipeline-embed_text-1                  | \n",
      "Batches:  78%|███████▊  | 7/9 [00:17<00:03,  1.64s/it]\n",
      "indexing-pipeline-embed_text-1                  | \u001b[A\n"
     ]
    },
    {
     "name": "stdout",
     "output_type": "stream",
     "text": [
      "[                                        ] | 0% Completed | 17.49 s\n",
      "[                                        ] | 0% Completed | 17.59 s\n",
      "[                                        ] | 0% Completed | 17.69 s\n",
      "[                                        ] | 0% Completed | 17.80 s\n"
     ]
    },
    {
     "name": "stderr",
     "output_type": "stream",
     "text": [
      "indexing-pipeline-embed_text-1                  | \n",
      "indexing-pipeline-embed_text-1                  | \n",
      "Batches:  89%|████████▉ | 8/9 [00:17<00:01,  1.20s/it]\n",
      "indexing-pipeline-embed_text-1                  | \u001b[A\n",
      "Batches: 100%|██████████| 9/9 [00:17<00:00,  1.96s/it]\n",
      "indexing-pipeline-embed_text-1                  | \n",
      "indexing-pipeline-embed_text-1                  | \n"
     ]
    },
    {
     "name": "stdout",
     "output_type": "stream",
     "text": [
      "[########                                ] | 20% Completed | 17.90 s\n",
      "[########                                ] | 20% Completed | 18.00 s\n",
      "[########                                ] | 20% Completed | 18.10 s\n",
      "[########                                ] | 20% Completed | 18.20 s\n"
     ]
    },
    {
     "name": "stderr",
     "output_type": "stream",
     "text": [
      "indexing-pipeline-embed_text-1                  | \n",
      "indexing-pipeline-embed_text-1                  | \n",
      "indexing-pipeline-embed_text-1                  | \n",
      "Batches:  50%|█████     | 5/10 [00:18<00:17,  3.51s/it]\u001b[A\u001b[A\n"
     ]
    },
    {
     "name": "stdout",
     "output_type": "stream",
     "text": [
      "[########                                ] | 20% Completed | 18.30 s\n",
      "[########                                ] | 20% Completed | 18.40 s\n",
      "[########                                ] | 20% Completed | 18.51 s\n",
      "[########                                ] | 20% Completed | 18.61 s\n",
      "[########                                ] | 20% Completed | 18.71 s\n"
     ]
    },
    {
     "name": "stderr",
     "output_type": "stream",
     "text": [
      "indexing-pipeline-embed_text-1                  | \n",
      "indexing-pipeline-embed_text-1                  | \n",
      "indexing-pipeline-embed_text-1                  | \n",
      "indexing-pipeline-embed_text-1                  | \n",
      "Batches:  50%|█████     | 4/8 [00:18<00:17,  4.41s/it]\u001b[A\u001b[A\u001b[A\n"
     ]
    },
    {
     "name": "stdout",
     "output_type": "stream",
     "text": [
      "[########                                ] | 20% Completed | 18.81 s\n",
      "[########                                ] | 20% Completed | 18.91 s\n",
      "[########                                ] | 20% Completed | 19.01 s\n",
      "[########                                ] | 20% Completed | 19.11 s\n"
     ]
    },
    {
     "name": "stderr",
     "output_type": "stream",
     "text": [
      "Batches:  56%|█████▌    | 5/9 [00:18<00:14,  3.54s/it]\n"
     ]
    },
    {
     "name": "stdout",
     "output_type": "stream",
     "text": [
      "[########                                ] | 20% Completed | 19.21 s\n",
      "[########                                ] | 20% Completed | 19.32 s\n",
      "[########                                ] | 20% Completed | 19.42 s\n",
      "[########                                ] | 20% Completed | 19.52 s\n",
      "[########                                ] | 20% Completed | 19.63 s\n",
      "[########                                ] | 20% Completed | 19.73 s\n",
      "[########                                ] | 20% Completed | 19.83 s\n",
      "[########                                ] | 20% Completed | 19.93 s\n",
      "[########                                ] | 20% Completed | 20.03 s\n",
      "[########                                ] | 20% Completed | 20.13 s\n",
      "[########                                ] | 20% Completed | 20.23 s\n",
      "[########                                ] | 20% Completed | 20.33 s\n",
      "[########                                ] | 20% Completed | 20.53 s\n",
      "[########                                ] | 20% Completed | 20.71 s\n",
      "[########                                ] | 20% Completed | 20.81 s\n"
     ]
    },
    {
     "name": "stderr",
     "output_type": "stream",
     "text": [
      "Batches:  67%|██████▋   | 6/9 [00:20<00:08,  2.88s/it]\n"
     ]
    },
    {
     "name": "stdout",
     "output_type": "stream",
     "text": [
      "[########                                ] | 20% Completed | 20.91 s\n",
      "[########                                ] | 20% Completed | 21.01 s\n",
      "[########                                ] | 20% Completed | 21.11 s\n",
      "[########                                ] | 20% Completed | 21.21 s\n",
      "[########                                ] | 20% Completed | 21.31 s\n"
     ]
    },
    {
     "name": "stderr",
     "output_type": "stream",
     "text": [
      "indexing-pipeline-embed_text-1                  | \n",
      "indexing-pipeline-embed_text-1                  | \n",
      "indexing-pipeline-embed_text-1                  | \n",
      "Batches:  60%|██████    | 6/10 [00:21<00:13,  3.34s/it]\u001b[A\u001b[A\n"
     ]
    },
    {
     "name": "stdout",
     "output_type": "stream",
     "text": [
      "[########                                ] | 20% Completed | 21.42 s\n",
      "[########                                ] | 20% Completed | 21.52 s\n"
     ]
    },
    {
     "name": "stderr",
     "output_type": "stream",
     "text": [
      "Batches:  78%|███████▊  | 7/9 [00:21<00:04,  2.18s/it]\n"
     ]
    },
    {
     "name": "stdout",
     "output_type": "stream",
     "text": [
      "[########                                ] | 20% Completed | 21.62 s\n",
      "[########                                ] | 20% Completed | 21.72 s\n"
     ]
    },
    {
     "name": "stderr",
     "output_type": "stream",
     "text": [
      "Batches:  89%|████████▉ | 8/9 [00:21<00:01,  1.57s/it]\n",
      "indexing-pipeline-embed_text-1                  | \n",
      "indexing-pipeline-embed_text-1                  | \n",
      "indexing-pipeline-embed_text-1                  | \n",
      "indexing-pipeline-embed_text-1                  | \n",
      "Batches:  62%|██████▎   | 5/8 [00:21<00:11,  3.95s/it]\u001b[A\u001b[A\u001b[A\n",
      "Batches: 100%|██████████| 9/9 [00:21<00:00,  1.13s/it]\n",
      "Batches: 100%|██████████| 9/9 [00:21<00:00,  2.42s/it]\n"
     ]
    },
    {
     "name": "stdout",
     "output_type": "stream",
     "text": [
      "[########                                ] | 20% Completed | 21.82 s\n",
      "[########                                ] | 20% Completed | 21.94 s\n",
      "[########                                ] | 20% Completed | 22.04 s\n",
      "[################                        ] | 40% Completed | 22.14 s\n",
      "[################                        ] | 40% Completed | 22.24 s\n",
      "[################                        ] | 40% Completed | 22.34 s\n",
      "[################                        ] | 40% Completed | 22.45 s\n",
      "[################                        ] | 40% Completed | 22.55 s\n",
      "[################                        ] | 40% Completed | 22.65 s\n",
      "[################                        ] | 40% Completed | 22.75 s\n",
      "[################                        ] | 40% Completed | 22.85 s\n"
     ]
    },
    {
     "name": "stderr",
     "output_type": "stream",
     "text": [
      "indexing-pipeline-embed_text-1                  | \n",
      "indexing-pipeline-embed_text-1                  | \n",
      "indexing-pipeline-embed_text-1                  | \n",
      "indexing-pipeline-embed_text-1                  | \n",
      "Batches:  75%|███████▌  | 6/8 [00:22<00:05,  2.87s/it]\u001b[A\u001b[A\u001b[A\n",
      "indexing-pipeline-embed_text-1                  | \n",
      "indexing-pipeline-embed_text-1                  | \n",
      "indexing-pipeline-embed_text-1                  | \n",
      "Batches:  70%|███████   | 7/10 [00:22<00:08,  2.76s/it]\u001b[A\u001b[A\n",
      "indexing-pipeline-embed_text-1                  | \n",
      "indexing-pipeline-embed_text-1                  | \n",
      "indexing-pipeline-embed_text-1                  | \n",
      "indexing-pipeline-embed_text-1                  | \n",
      "Batches:  88%|████████▊ | 7/8 [00:22<00:02,  2.01s/it]\u001b[A\u001b[A\u001b[A\n",
      "indexing-pipeline-embed_text-1                  | \n",
      "indexing-pipeline-embed_text-1                  | \n",
      "indexing-pipeline-embed_text-1                  | \n",
      "indexing-pipeline-embed_text-1                  | \n",
      "Batches: 100%|██████████| 8/8 [00:22<00:00,  1.41s/it]\u001b[A\u001b[A\u001b[A\n",
      "Batches: 100%|██████████| 8/8 [00:22<00:00,  2.86s/it]\n"
     ]
    },
    {
     "name": "stdout",
     "output_type": "stream",
     "text": [
      "[################                        ] | 40% Completed | 22.95 s\n",
      "[################                        ] | 40% Completed | 23.06 s\n",
      "[########################                ] | 60% Completed | 23.16 s\n",
      "[########################                ] | 60% Completed | 23.27 s\n",
      "[########################                ] | 60% Completed | 23.37 s\n",
      "[########################                ] | 60% Completed | 23.47 s\n"
     ]
    },
    {
     "name": "stderr",
     "output_type": "stream",
     "text": [
      "indexing-pipeline-embed_text-1                  | \n",
      "indexing-pipeline-embed_text-1                  | \n",
      "Batches:  80%|████████  | 8/10 [00:23<00:04,  2.07s/it]\u001b[A\u001b[A\n"
     ]
    },
    {
     "name": "stdout",
     "output_type": "stream",
     "text": [
      "[########################                ] | 60% Completed | 23.57 s\n",
      "[########################                ] | 60% Completed | 23.67 s\n"
     ]
    },
    {
     "name": "stderr",
     "output_type": "stream",
     "text": [
      "indexing-pipeline-embed_text-1                  | \n",
      "indexing-pipeline-embed_text-1                  | \n",
      "indexing-pipeline-embed_text-1                  | \n",
      "Batches:  90%|█████████ | 9/10 [00:23<00:01,  1.53s/it]\u001b[A\u001b[A\n",
      "Batches: 100%|██████████| 10/10 [00:23<00:00,  2.36s/it]\n",
      "indexing-pipeline-embed_text-1                  | [2024-02-06 12:19:44,047 | fondant.component.executor | INFO] Saving output manifest to /data/indexing-pipeline/indexing-pipeline-20240206131838/embed_text/manifest.json\n",
      "indexing-pipeline-embed_text-1                  | [2024-02-06 12:19:44,048 | fondant.component.executor | INFO] Writing cache key with manifest reference to /data/indexing-pipeline/cache/dd31849c92bae5c6f64b2cca40426e9f.txt\n"
     ]
    },
    {
     "name": "stdout",
     "output_type": "stream",
     "text": [
      "[########################                ] | 60% Completed | 23.78 s\n",
      "[########################################] | 100% Completed | 23.88 s\n",
      "indexing-pipeline-embed_text-1 exited with code 0\n"
     ]
    },
    {
     "name": "stderr",
     "output_type": "stream",
     "text": [
      "indexing-pipeline-index_weaviate-1              | [2024-02-06 12:19:48,587 | fondant.cli | INFO] Component `IndexWeaviateComponent` found in module main\n",
      "indexing-pipeline-index_weaviate-1              | [2024-02-06 12:19:48,598 | fondant.component.executor | INFO] Dask default local mode will be used for further executions.Our current supported options are limited to 'local' and 'default'.\n",
      "indexing-pipeline-index_weaviate-1              | [2024-02-06 12:19:48,623 | fondant.component.executor | INFO] Previous component `embed_text` is not cached. Invalidating cache for current and subsequent components\n",
      "indexing-pipeline-index_weaviate-1              | [2024-02-06 12:19:48,623 | fondant.component.executor | INFO] Caching disabled for the component\n",
      "indexing-pipeline-index_weaviate-1              | [2024-02-06 12:19:48,624 | root | INFO] Executing component\n",
      "indexing-pipeline-index_weaviate-1              | /usr/local/lib/python3.8/site-packages/weaviate/warnings.py:121: DeprecationWarning: Dep005: You are using weaviate-client version 3.24.2. The latest version is 4.4.2.\n",
      "indexing-pipeline-index_weaviate-1              |             Please consider upgrading to the latest version. See https://weaviate.io/developers/weaviate/client-libraries/python for details.\n",
      "indexing-pipeline-index_weaviate-1              |   warnings.warn(\n",
      "indexing-pipeline-index_weaviate-1              | [2024-02-06 12:19:49,368 | root | INFO] Columns of dataframe: ['embedding', 'text']\n",
      "Processing partitions:   0%|          | 0/4 [00:00<?, ?it/s]\n",
      "Processing partitions:  25%|██▌       | 1/4 [00:00<00:01,  1.73it/s]\n",
      "Processing partitions:  50%|█████     | 2/4 [00:00<00:00,  2.71it/s]\n",
      "Processing partitions:  75%|███████▌  | 3/4 [00:01<00:00,  3.41it/s]\n",
      "Processing partitions: 100%|██████████| 4/4 [00:01<00:00,  2.09it/s]\n",
      "Processing partitions: 100%|██████████| 4/4 [00:01<00:00,  2.26it/s]\n",
      "indexing-pipeline-index_weaviate-1              | \n",
      "indexing-pipeline-index_weaviate-1              | [2024-02-06 12:19:51,340 | fondant.component.executor | INFO] Writing cache key with manifest reference to /data/indexing-pipeline/cache/cc1762c2e0adbff0afeaab36442ac500.txt\n",
      "indexing-pipeline-index_weaviate-1              | \n"
     ]
    },
    {
     "name": "stdout",
     "output_type": "stream",
     "text": [
      "indexing-pipeline-index_weaviate-1 exited with code 0\n",
      "Finished pipeline run.\n"
     ]
    }
   ],
   "source": [
    "from fondant.pipeline.runner import DockerRunner\n",
    "\n",
    "runner = DockerRunner()\n",
    "runner.run(indexing_pipeline)"
   ]
  },
  {
   "cell_type": "markdown",
   "metadata": {},
   "source": [
    "## Evaluation Pipeline"
   ]
  },
  {
   "cell_type": "markdown",
   "metadata": {},
   "source": [
    "`pipeline_eval.py` evaluates retrieval performance using the questions provided in your test dataset\n",
    "\n",
    "<div align=center>\n",
    "<img src=\"../art/evaluation_ltr.png\" width=\"800\"/>\n",
    "</div>\n",
    "\n",
    "- [**Load eval data**](https://github.com/ml6team/fondant/tree/main/components/load_from_csv): loads the evaluation dataset (questions) from a csv file\n",
    "- [**Embed questons**](https://github.com/ml6team/fondant/tree/main/components/embed_text): embeds each question as a vector, e.g. using [Cohere](https://cohere.com/embeddings)\n",
    "- [**Query vector store**](https://github.com/ml6team/fondant/tree/main/components/retrieve_from_weaviate): retrieves the most relevant chunks for each question from the vector store\n",
    "- [**Evaluate**](https://github.com/ml6team/fondant/tree/0.8.0/components/evaluate_ragas): evaluates the retrieved chunks for each question, e.g. using [RAGAS](https://docs.ragas.io/en/latest/index.html)\n",
    "- [**Aggregate**](https://github.com/ml6team/fondant-usecase-RAG/tree/main/src/components/aggregate_eval_results): calculates aggregated results"
   ]
  },
  {
   "cell_type": "markdown",
   "metadata": {},
   "source": [
    "### Create the evaluation pipeline"
   ]
  },
  {
   "cell_type": "markdown",
   "metadata": {},
   "source": [
    "⚠️ If you want to use an **OpenAI** model for evaluation you will need an [API key](https://platform.openai.com/docs/quickstart) (see TODO below)\n",
    "\n",
    "Change the arguments below if you want to run the pipeline with different parameters."
   ]
  },
  {
   "cell_type": "code",
   "execution_count": 8,
   "metadata": {},
   "outputs": [],
   "source": [
    "evaluation_args = {\n",
    "    \"retrieval_top_k\": 2,\n",
    "    \"llm_module_name\": \"langchain.chat_models\",\n",
    "    \"llm_class_name\": \"ChatOpenAI\",\n",
    "    \"llm_kwargs\": {\n",
    "      \"openai_api_key\":\"\" ,   # TODO: Update with your key or use a different model\n",
    "      \"model_name\" : \"gpt-3.5-turbo\"\n",
    "    },\n",
    "    \"evaluation_metrics\": [\"context_precision\", \"context_relevancy\"]\n",
    "}"
   ]
  },
  {
   "cell_type": "code",
   "execution_count": 15,
   "metadata": {},
   "outputs": [],
   "source": []
  },
  {
   "cell_type": "markdown",
   "metadata": {},
   "source": [
    "We begin by initializing our pipeline."
   ]
  },
  {
   "cell_type": "code",
   "execution_count": 16,
   "metadata": {},
   "outputs": [],
   "source": [
    "import pyarrow as pa\n",
    "from fondant.pipeline import Pipeline\n",
    "evaluation_pipeline = Pipeline(\n",
    "        name=\"evaluation-pipeline\",\n",
    "        description=\"Pipeline to evaluate a RAG solution\",\n",
    "        base_path=shared_args[\"base_path\"],\n",
    ")"
   ]
  },
  {
   "cell_type": "markdown",
   "metadata": {},
   "source": [
    "\n",
    "We have created a set of evaluation questions which we will use to evaluate the retrieval performance of the RAG system. Therefore, we need to load the CSV file containing the questions. We are going to use a reusable component for this task, `load_from_csv`."
   ]
  },
  {
   "cell_type": "code",
   "execution_count": 17,
   "metadata": {},
   "outputs": [],
   "source": [
    "evaluation_set_filename = \"wikitext_1000_q.csv\"\n",
    "\n",
    "load_from_csv = evaluation_pipeline.read(\n",
    "    \"load_from_csv\",\n",
    "    arguments={\n",
    "        \"dataset_uri\": \"/evaldata/\" + evaluation_set_filename,\n",
    "        # mounted dir from within docker as extra_volumes\n",
    "        \"column_separator\": \";\",\n",
    "    },\n",
    "    produces={\n",
    "        \"question\": pa.string(),\n",
    "    },\n",
    ")"
   ]
  },
  {
   "cell_type": "markdown",
   "metadata": {},
   "source": [
    "Afterward, we are going to embed our questions and retrieve answers from the database. Here we will once again use the reusable `embed_text` component."
   ]
  },
  {
   "cell_type": "code",
   "execution_count": 21,
   "metadata": {},
   "outputs": [],
   "source": [
    "from fondant.pipeline import Resources\n",
    "embed_text_op = load_from_csv.apply(\n",
    "    \"embed_text\",\n",
    "    arguments={\n",
    "        \"model_provider\": shared_args[\"embed_model_provider\"],\n",
    "        \"model\": shared_args[\"embed_model\"]\n",
    "    },\n",
    "    consumes={\n",
    "        \"text\": \"question\",\n",
    "    },\n",
    "    resources=Resources(\n",
    "        accelerator_number=number_of_accelerators,\n",
    "        accelerator_name=accelerator_name,\n",
    "    ),\n",
    "    cluster_type=\"local\" if number_of_accelerators is not None else \"default\",\n",
    ")"
   ]
  },
  {
   "cell_type": "markdown",
   "metadata": {},
   "source": [
    "TODO: describe retrieve chunk component and ragas eval component"
   ]
  },
  {
   "cell_type": "code",
   "execution_count": 19,
   "metadata": {},
   "outputs": [
    {
     "name": "stderr",
     "output_type": "stream",
     "text": [
      "WARNING:fondant.pipeline.lightweight_component:No consumes defined. Consumes will be inferred from the dataset. All field will be consumed which may lead to additional computation, Consider defining consumes in the component.\n",
      " Consumes: {'question': {'type': 'string'}, 'embedding': {'type': 'array', 'items': {'type': 'float32'}}}\n",
      "WARNING:fondant.pipeline.lightweight_component:No consumes defined. Consumes will be inferred from the dataset. All field will be consumed which may lead to additional computation, Consider defining consumes in the component.\n",
      " Consumes: {'question': {'type': 'string'}, 'embedding': {'type': 'array', 'items': {'type': 'float32'}}, 'retrieved_chunks': {'type': 'array', 'items': {'type': 'string'}}, 'context_precision': {'type': 'float32'}, 'context_relevancy': {'type': 'float32'}}\n"
     ]
    },
    {
     "data": {
      "text/plain": [
       "<fondant.pipeline.pipeline.Dataset at 0x1370e6ad0>"
      ]
     },
     "execution_count": 19,
     "metadata": {},
     "output_type": "execute_result"
    }
   ],
   "source": [
    "from components.retrieve_from_weaviate import RetrieveFromWeaviateComponent\n",
    "from components.evaluate_ragas import RagasEvaluator\n",
    "from components.aggregrate_eval_results import AggregateResults\n",
    "\n",
    "retrieve_chunks = embed_text_op.apply(\n",
    "    RetrieveFromWeaviateComponent,\n",
    "    arguments={\n",
    "        \"weaviate_url\": shared_args[\"weaviate_url\"],\n",
    "        \"class_name\": shared_args[\"weaviate_url\"],\n",
    "        \"top_k\": 2\n",
    "    },\n",
    "    cache=False,\n",
    ")\n",
    "\n",
    "retriever_eval = retrieve_chunks.apply(\n",
    "    RagasEvaluator,\n",
    "    arguments={\n",
    "        \"llm_module_name\": evaluation_args[\"llm_module_name\"],\n",
    "        \"llm_class_name\": evaluation_args[\"llm_class_name\"],\n",
    "        \"llm_kwargs\": evaluation_args[\"llm_kwargs\"],\n",
    "    }\n",
    ")\n",
    "\n",
    "retriever_eval.apply(\n",
    "    AggregateResults\n",
    ")"
   ]
  },
  {
   "cell_type": "markdown",
   "metadata": {},
   "source": [
    "#### Run the evaluation pipeline"
   ]
  },
  {
   "cell_type": "code",
   "execution_count": 20,
   "metadata": {},
   "outputs": [
    {
     "name": "stderr",
     "output_type": "stream",
     "text": [
      "INFO:root:Class Pipeline1 exists in Weaviate.\n"
     ]
    },
    {
     "name": "stderr",
     "output_type": "stream",
     "text": [
      "INFO:root:Found reference to un-compiled pipeline... compiling\n",
      "INFO:fondant.pipeline.compiler:Compiling evaluation-pipeline to .fondant/compose.yaml\n",
      "INFO:fondant.pipeline.compiler:Base path found on local system, setting up ./data as mount volume\n",
      "INFO:fondant.pipeline.pipeline:Sorting pipeline component graph topologically.\n",
      "INFO:fondant.pipeline.pipeline:All pipeline component specifications match.\n",
      "INFO:fondant.pipeline.compiler:Compiling service for load_from_csv\n",
      "INFO:fondant.pipeline.compiler:Compiling service for embed_text\n",
      "INFO:fondant.pipeline.compiler:Compiling service for retrievefromweaviatecomponent\n",
      "INFO:fondant.pipeline.compiler:Compiling service for ragasevaluator\n",
      "INFO:fondant.pipeline.compiler:Compiling service for aggregateresults\n",
      "INFO:fondant.pipeline.compiler:Successfully compiled to .fondant/compose.yaml\n",
      " retrievefromweaviatecomponent Pulling \n",
      " embed_text Pulling \n",
      " load_from_csv Pulling \n",
      " aggregateresults Pulling \n",
      " ragasevaluator Pulling \n"
     ]
    },
    {
     "name": "stdout",
     "output_type": "stream",
     "text": [
      "Starting pipeline run...\n"
     ]
    },
    {
     "name": "stderr",
     "output_type": "stream",
     "text": [
      " ragasevaluator Pulled \n",
      " embed_text Pulled \n",
      " load_from_csv Pulled \n",
      " aggregateresults Pulled \n",
      " retrievefromweaviatecomponent Pulled \n",
      " Container evaluation-pipeline-load_from_csv-1  Recreate\n",
      " Container evaluation-pipeline-load_from_csv-1  Recreated\n",
      " Container evaluation-pipeline-embed_text-1  Recreate\n",
      " Container evaluation-pipeline-embed_text-1  Recreated\n",
      " Container evaluation-pipeline-retrievefromweaviatecomponent-1  Recreate\n",
      " Container evaluation-pipeline-retrievefromweaviatecomponent-1  Recreated\n",
      " Container evaluation-pipeline-ragasevaluator-1  Recreate\n",
      " Container evaluation-pipeline-ragasevaluator-1  Recreated\n",
      " Container evaluation-pipeline-aggregateresults-1  Recreate\n",
      " Container evaluation-pipeline-aggregateresults-1  Recreated\n"
     ]
    },
    {
     "name": "stdout",
     "output_type": "stream",
     "text": [
      "Attaching to evaluation-pipeline-aggregateresults-1, evaluation-pipeline-embed_text-1, evaluation-pipeline-load_from_csv-1, evaluation-pipeline-ragasevaluator-1, evaluation-pipeline-retrievefromweaviatecomponent-1\n"
     ]
    },
    {
     "name": "stderr",
     "output_type": "stream",
     "text": [
      "evaluation-pipeline-load_from_csv-1                  | [2024-02-06 12:29:18,986 | fondant.cli | INFO] Component `CSVReader` found in module main\n",
      "evaluation-pipeline-load_from_csv-1                  | [2024-02-06 12:29:18,991 | fondant.component.executor | INFO] Dask default local mode will be used for further executions.Our current supported options are limited to 'local' and 'default'.\n",
      "evaluation-pipeline-load_from_csv-1                  | [2024-02-06 12:29:18,994 | fondant.component.executor | INFO] Skipping component execution\n",
      "evaluation-pipeline-load_from_csv-1                  | [2024-02-06 12:29:18,996 | fondant.component.executor | INFO] Matching execution detected for component. The last execution of the component originated from `evaluation-pipeline-20240206105318`.\n",
      "evaluation-pipeline-load_from_csv-1                  | [2024-02-06 12:29:19,002 | fondant.component.executor | INFO] Saving output manifest to /data/evaluation-pipeline/evaluation-pipeline-20240206132913/load_from_csv/manifest.json\n",
      "evaluation-pipeline-load_from_csv-1                  | [2024-02-06 12:29:19,002 | fondant.component.executor | INFO] Writing cache key with manifest reference to /data/evaluation-pipeline/cache/f12e1430da7973c18de35ecf782d313d.txt\n"
     ]
    },
    {
     "name": "stdout",
     "output_type": "stream",
     "text": [
      "evaluation-pipeline-load_from_csv-1 exited with code 0\n"
     ]
    },
    {
     "name": "stderr",
     "output_type": "stream",
     "text": [
      "evaluation-pipeline-embed_text-1                     | [2024-02-06 12:29:22,282 | fondant.cli | INFO] Component `EmbedTextComponent` found in module main\n",
      "evaluation-pipeline-embed_text-1                     | [2024-02-06 12:29:22,287 | fondant.component.executor | INFO] Dask default local mode will be used for further executions.Our current supported options are limited to 'local' and 'default'.\n",
      "evaluation-pipeline-embed_text-1                     | [2024-02-06 12:29:22,290 | fondant.component.executor | INFO] Previous component `load_from_csv` run was cached. Cached pipeline id: evaluation-pipeline-20240206105318\n",
      "evaluation-pipeline-embed_text-1                     | [2024-02-06 12:29:22,292 | fondant.component.executor | INFO] Skipping component execution\n",
      "evaluation-pipeline-embed_text-1                     | [2024-02-06 12:29:22,293 | fondant.component.executor | INFO] Matching execution detected for component. The last execution of the component originated from `evaluation-pipeline-20240206105318`.\n",
      "evaluation-pipeline-embed_text-1                     | [2024-02-06 12:29:22,297 | fondant.component.executor | INFO] Saving output manifest to /data/evaluation-pipeline/evaluation-pipeline-20240206132913/embed_text/manifest.json\n",
      "evaluation-pipeline-embed_text-1                     | [2024-02-06 12:29:22,297 | fondant.component.executor | INFO] Writing cache key with manifest reference to /data/evaluation-pipeline/cache/325492fed9dd081a79c7a2afef9cee0c.txt\n"
     ]
    },
    {
     "name": "stdout",
     "output_type": "stream",
     "text": [
      "evaluation-pipeline-embed_text-1 exited with code 0\n",
      "evaluation-pipeline-retrievefromweaviatecomponent-1  | Collecting weaviate-client==3.24.1 (from -r requirements.txt (line 1))\n",
      "evaluation-pipeline-retrievefromweaviatecomponent-1  |   Obtaining dependency information for weaviate-client==3.24.1 from https://files.pythonhosted.org/packages/59/8f/44d164ed990f7c6faf28125925160af9004595020aeaaf01e94462e3bf8e/weaviate_client-3.24.1-py3-none-any.whl.metadata\n",
      "evaluation-pipeline-retrievefromweaviatecomponent-1  |   Downloading weaviate_client-3.24.1-py3-none-any.whl.metadata (3.3 kB)\n",
      "evaluation-pipeline-retrievefromweaviatecomponent-1  | Requirement already satisfied: requests<3.0.0,>=2.30.0 in /usr/local/lib/python3.11/site-packages (from weaviate-client==3.24.1->-r requirements.txt (line 1)) (2.31.0)\n",
      "evaluation-pipeline-retrievefromweaviatecomponent-1  | Collecting validators<1.0.0,>=0.21.2 (from weaviate-client==3.24.1->-r requirements.txt (line 1))\n",
      "evaluation-pipeline-retrievefromweaviatecomponent-1  |   Obtaining dependency information for validators<1.0.0,>=0.21.2 from https://files.pythonhosted.org/packages/3a/0c/785d317eea99c3739821718f118c70537639aa43f96bfa1d83a71f68eaf6/validators-0.22.0-py3-none-any.whl.metadata\n",
      "evaluation-pipeline-retrievefromweaviatecomponent-1  |   Downloading validators-0.22.0-py3-none-any.whl.metadata (4.7 kB)\n",
      "evaluation-pipeline-retrievefromweaviatecomponent-1  | Collecting authlib<2.0.0,>=1.2.1 (from weaviate-client==3.24.1->-r requirements.txt (line 1))\n",
      "evaluation-pipeline-retrievefromweaviatecomponent-1  |   Obtaining dependency information for authlib<2.0.0,>=1.2.1 from https://files.pythonhosted.org/packages/25/65/b78eb948b71ab232d08b30c38a2e3b69e6e50c6e166863a0068c877155b9/Authlib-1.3.0-py2.py3-none-any.whl.metadata\n",
      "evaluation-pipeline-retrievefromweaviatecomponent-1  |   Downloading Authlib-1.3.0-py2.py3-none-any.whl.metadata (3.8 kB)\n",
      "evaluation-pipeline-retrievefromweaviatecomponent-1  | Requirement already satisfied: cryptography in /usr/local/lib/python3.11/site-packages (from authlib<2.0.0,>=1.2.1->weaviate-client==3.24.1->-r requirements.txt (line 1)) (42.0.2)\n",
      "evaluation-pipeline-retrievefromweaviatecomponent-1  | Requirement already satisfied: charset-normalizer<4,>=2 in /usr/local/lib/python3.11/site-packages (from requests<3.0.0,>=2.30.0->weaviate-client==3.24.1->-r requirements.txt (line 1)) (3.3.2)\n",
      "evaluation-pipeline-retrievefromweaviatecomponent-1  | Requirement already satisfied: idna<4,>=2.5 in /usr/local/lib/python3.11/site-packages (from requests<3.0.0,>=2.30.0->weaviate-client==3.24.1->-r requirements.txt (line 1)) (3.6)\n",
      "evaluation-pipeline-retrievefromweaviatecomponent-1  | Requirement already satisfied: urllib3<3,>=1.21.1 in /usr/local/lib/python3.11/site-packages (from requests<3.0.0,>=2.30.0->weaviate-client==3.24.1->-r requirements.txt (line 1)) (2.0.7)\n",
      "evaluation-pipeline-retrievefromweaviatecomponent-1  | Requirement already satisfied: certifi>=2017.4.17 in /usr/local/lib/python3.11/site-packages (from requests<3.0.0,>=2.30.0->weaviate-client==3.24.1->-r requirements.txt (line 1)) (2024.2.2)\n",
      "evaluation-pipeline-retrievefromweaviatecomponent-1  | Requirement already satisfied: cffi>=1.12 in /usr/local/lib/python3.11/site-packages (from cryptography->authlib<2.0.0,>=1.2.1->weaviate-client==3.24.1->-r requirements.txt (line 1)) (1.16.0)\n",
      "evaluation-pipeline-retrievefromweaviatecomponent-1  | Requirement already satisfied: pycparser in /usr/local/lib/python3.11/site-packages (from cffi>=1.12->cryptography->authlib<2.0.0,>=1.2.1->weaviate-client==3.24.1->-r requirements.txt (line 1)) (2.21)\n",
      "evaluation-pipeline-retrievefromweaviatecomponent-1  | Downloading weaviate_client-3.24.1-py3-none-any.whl (107 kB)\n",
      "evaluation-pipeline-retrievefromweaviatecomponent-1  |    ━━━━━━━━━━━━━━━━━━━━━━━━━━━━━━━━━━━━━━━ 108.0/108.0 kB 724.2 kB/s eta 0:00:00\n",
      "evaluation-pipeline-retrievefromweaviatecomponent-1  | \n",
      "evaluation-pipeline-retrievefromweaviatecomponent-1  | \n",
      "evaluation-pipeline-retrievefromweaviatecomponent-1  | Downloading Authlib-1.3.0-py2.py3-none-any.whl (223 kB)\n",
      "evaluation-pipeline-retrievefromweaviatecomponent-1  |    ━━━━━━━━━━━━━━━━━━━━━━━━━━━━━━━━━━━━━━━━ 223.7/223.7 kB 5.6 MB/s eta 0:00:00\n",
      "evaluation-pipeline-retrievefromweaviatecomponent-1  | \n",
      "evaluation-pipeline-retrievefromweaviatecomponent-1  | \n",
      "evaluation-pipeline-retrievefromweaviatecomponent-1  | Downloading validators-0.22.0-py3-none-any.whl (26 kB)\n",
      "evaluation-pipeline-retrievefromweaviatecomponent-1  | Installing collected packages: validators, authlib, weaviate-client\n",
      "evaluation-pipeline-retrievefromweaviatecomponent-1  | Successfully installed authlib-1.3.0 validators-0.22.0 weaviate-client-3.24.1\n"
     ]
    },
    {
     "name": "stderr",
     "output_type": "stream",
     "text": [
      "evaluation-pipeline-retrievefromweaviatecomponent-1  | WARNING: Running pip as the 'root' user can result in broken permissions and conflicting behaviour with the system package manager. It is recommended to use a virtual environment instead: https://pip.pypa.io/warnings/venv\n",
      "evaluation-pipeline-retrievefromweaviatecomponent-1  | \n",
      "evaluation-pipeline-retrievefromweaviatecomponent-1  | [notice] A new release of pip is available: 23.2.1 -> 24.0\n",
      "evaluation-pipeline-retrievefromweaviatecomponent-1  | [notice] To update, run: pip install --upgrade pip\n",
      "evaluation-pipeline-retrievefromweaviatecomponent-1  | \n",
      "evaluation-pipeline-retrievefromweaviatecomponent-1  | [2024-02-06 12:29:27,117 | fondant.cli | INFO] Component `RetrieveFromWeaviateComponent` found in module main\n",
      "evaluation-pipeline-retrievefromweaviatecomponent-1  | [2024-02-06 12:29:27,122 | fondant.component.executor | INFO] Dask default local mode will be used for further executions.Our current supported options are limited to 'local' and 'default'.\n",
      "evaluation-pipeline-retrievefromweaviatecomponent-1  | [2024-02-06 12:29:27,124 | fondant.component.executor | INFO] Caching disabled for the component\n",
      "evaluation-pipeline-retrievefromweaviatecomponent-1  | [2024-02-06 12:29:27,125 | root | INFO] Executing component\n",
      "evaluation-pipeline-retrievefromweaviatecomponent-1  | /usr/local/lib/python3.11/site-packages/weaviate/warnings.py:121: DeprecationWarning: Dep005: You are using weaviate-client version 3.24.1. The latest version is 4.4.2.\n",
      "evaluation-pipeline-retrievefromweaviatecomponent-1  |             Please consider upgrading to the latest version. See https://weaviate.io/developers/weaviate/client-libraries/python for details.\n",
      "evaluation-pipeline-retrievefromweaviatecomponent-1  |   warnings.warn(\n",
      "evaluation-pipeline-retrievefromweaviatecomponent-1  | [2024-02-06 12:29:27,640 | root | INFO] Columns of dataframe: ['embedding', 'question']\n",
      "evaluation-pipeline-retrievefromweaviatecomponent-1  | [2024-02-06 12:29:27,673 | root | INFO] Creating write task for: /data/evaluation-pipeline/evaluation-pipeline-20240206132913/retrievefromweaviatecomponent\n",
      "evaluation-pipeline-retrievefromweaviatecomponent-1  | [2024-02-06 12:29:27,673 | root | INFO] Writing data...\n"
     ]
    },
    {
     "name": "stdout",
     "output_type": "stream",
     "text": [
      "[                                        ] | 0% Completed | 625.37 us\n",
      "[                                        ] | 0% Completed | 101.04 ms\n",
      "[                                        ] | 0% Completed | 201.95 ms\n",
      "[########################################] | 100% Completed | 302.22 ms\n"
     ]
    },
    {
     "name": "stderr",
     "output_type": "stream",
     "text": [
      "evaluation-pipeline-retrievefromweaviatecomponent-1  | [2024-02-06 12:29:27,982 | fondant.component.executor | INFO] Saving output manifest to /data/evaluation-pipeline/evaluation-pipeline-20240206132913/retrievefromweaviatecomponent/manifest.json\n",
      "evaluation-pipeline-retrievefromweaviatecomponent-1  | [2024-02-06 12:29:27,982 | fondant.component.executor | INFO] Writing cache key with manifest reference to /data/evaluation-pipeline/cache/7046a1d39ca5adb567e53d6d7bbc0c86.txt\n"
     ]
    },
    {
     "name": "stdout",
     "output_type": "stream",
     "text": [
      "evaluation-pipeline-retrievefromweaviatecomponent-1 exited with code 0\n",
      "evaluation-pipeline-ragasevaluator-1                 | Collecting ragas==0.0.21 (from -r requirements.txt (line 1))\n",
      "evaluation-pipeline-ragasevaluator-1                 |   Obtaining dependency information for ragas==0.0.21 from https://files.pythonhosted.org/packages/24/96/1b72b4081f53f0bfcf42525edfbf5a544fca597aaefde3272c28b70f080c/ragas-0.0.21-py3-none-any.whl.metadata\n",
      "evaluation-pipeline-ragasevaluator-1                 |   Downloading ragas-0.0.21-py3-none-any.whl.metadata (4.6 kB)\n",
      "evaluation-pipeline-ragasevaluator-1                 | Requirement already satisfied: numpy in /usr/local/lib/python3.11/site-packages (from ragas==0.0.21->-r requirements.txt (line 1)) (1.26.3)\n",
      "evaluation-pipeline-ragasevaluator-1                 | Collecting datasets (from ragas==0.0.21->-r requirements.txt (line 1))\n",
      "evaluation-pipeline-ragasevaluator-1                 |   Obtaining dependency information for datasets from https://files.pythonhosted.org/packages/ec/93/454ada0d1b289a0f4a86ac88dbdeab54921becabac45da3da787d136628f/datasets-2.16.1-py3-none-any.whl.metadata\n",
      "evaluation-pipeline-ragasevaluator-1                 |   Downloading datasets-2.16.1-py3-none-any.whl.metadata (20 kB)\n",
      "evaluation-pipeline-ragasevaluator-1                 | Collecting tiktoken (from ragas==0.0.21->-r requirements.txt (line 1))\n",
      "evaluation-pipeline-ragasevaluator-1                 |   Obtaining dependency information for tiktoken from https://files.pythonhosted.org/packages/fb/a9/237dc2db35e6ec0fb7dd63e3d10ebe0377559203bd2a87e12a4adbfc8585/tiktoken-0.5.2-cp311-cp311-manylinux_2_17_x86_64.manylinux2014_x86_64.whl.metadata\n",
      "evaluation-pipeline-ragasevaluator-1                 |   Downloading tiktoken-0.5.2-cp311-cp311-manylinux_2_17_x86_64.manylinux2014_x86_64.whl.metadata (6.6 kB)\n",
      "evaluation-pipeline-ragasevaluator-1                 | Collecting langchain (from ragas==0.0.21->-r requirements.txt (line 1))\n",
      "evaluation-pipeline-ragasevaluator-1                 |   Obtaining dependency information for langchain from https://files.pythonhosted.org/packages/c1/c3/0e59a0c24e0c61b52271445df55302ab2f3dd8489a365721c7ef7ecaba24/langchain-0.1.5-py3-none-any.whl.metadata\n",
      "evaluation-pipeline-ragasevaluator-1                 |   Downloading langchain-0.1.5-py3-none-any.whl.metadata (13 kB)\n",
      "evaluation-pipeline-ragasevaluator-1                 | Collecting openai>1 (from ragas==0.0.21->-r requirements.txt (line 1))\n",
      "evaluation-pipeline-ragasevaluator-1                 |   Obtaining dependency information for openai>1 from https://files.pythonhosted.org/packages/37/34/f3c3d6bdc3eebf1b6a7c696dd6f934630af6cf5250cec099edf117cd3b53/openai-1.11.1-py3-none-any.whl.metadata\n",
      "evaluation-pipeline-ragasevaluator-1                 |   Downloading openai-1.11.1-py3-none-any.whl.metadata (18 kB)\n",
      "evaluation-pipeline-ragasevaluator-1                 | Collecting pysbd>=0.3.4 (from ragas==0.0.21->-r requirements.txt (line 1))\n",
      "evaluation-pipeline-ragasevaluator-1                 |   Downloading pysbd-0.3.4-py3-none-any.whl (71 kB)\n",
      "evaluation-pipeline-ragasevaluator-1                 |      ━━━━━━━━━━━━━━━━━━━━━━━━━━━━━━━━━━━━━━━━ 71.1/71.1 kB 2.3 MB/s eta 0:00:00\n",
      "evaluation-pipeline-ragasevaluator-1                 | \n",
      "evaluation-pipeline-ragasevaluator-1                 | \n",
      "evaluation-pipeline-ragasevaluator-1                 | Collecting nest-asyncio (from ragas==0.0.21->-r requirements.txt (line 1))\n",
      "evaluation-pipeline-ragasevaluator-1                 |   Obtaining dependency information for nest-asyncio from https://files.pythonhosted.org/packages/a0/c4/c2971a3ba4c6103a3d10c4b0f24f461ddc027f0f09763220cf35ca1401b3/nest_asyncio-1.6.0-py3-none-any.whl.metadata\n",
      "evaluation-pipeline-ragasevaluator-1                 |   Downloading nest_asyncio-1.6.0-py3-none-any.whl.metadata (2.8 kB)\n",
      "evaluation-pipeline-ragasevaluator-1                 | Collecting anyio<5,>=3.5.0 (from openai>1->ragas==0.0.21->-r requirements.txt (line 1))\n",
      "evaluation-pipeline-ragasevaluator-1                 |   Obtaining dependency information for anyio<5,>=3.5.0 from https://files.pythonhosted.org/packages/bf/cd/d6d9bb1dadf73e7af02d18225cbd2c93f8552e13130484f1c8dcfece292b/anyio-4.2.0-py3-none-any.whl.metadata\n",
      "evaluation-pipeline-ragasevaluator-1                 |   Downloading anyio-4.2.0-py3-none-any.whl.metadata (4.6 kB)\n",
      "evaluation-pipeline-ragasevaluator-1                 | Collecting distro<2,>=1.7.0 (from openai>1->ragas==0.0.21->-r requirements.txt (line 1))\n",
      "evaluation-pipeline-ragasevaluator-1                 |   Obtaining dependency information for distro<2,>=1.7.0 from https://files.pythonhosted.org/packages/12/b3/231ffd4ab1fc9d679809f356cebee130ac7daa00d6d6f3206dd4fd137e9e/distro-1.9.0-py3-none-any.whl.metadata\n",
      "evaluation-pipeline-ragasevaluator-1                 |   Downloading distro-1.9.0-py3-none-any.whl.metadata (6.8 kB)\n",
      "evaluation-pipeline-ragasevaluator-1                 | Collecting httpx<1,>=0.23.0 (from openai>1->ragas==0.0.21->-r requirements.txt (line 1))\n",
      "evaluation-pipeline-ragasevaluator-1                 |   Obtaining dependency information for httpx<1,>=0.23.0 from https://files.pythonhosted.org/packages/39/9b/4937d841aee9c2c8102d9a4eeb800c7dad25386caabb4a1bf5010df81a57/httpx-0.26.0-py3-none-any.whl.metadata\n",
      "evaluation-pipeline-ragasevaluator-1                 |   Downloading httpx-0.26.0-py3-none-any.whl.metadata (7.6 kB)\n",
      "evaluation-pipeline-ragasevaluator-1                 | Collecting pydantic<3,>=1.9.0 (from openai>1->ragas==0.0.21->-r requirements.txt (line 1))\n",
      "evaluation-pipeline-ragasevaluator-1                 |   Obtaining dependency information for pydantic<3,>=1.9.0 from https://files.pythonhosted.org/packages/db/dc/afecbd9650f486889181c6d1a0d675b580c06253ea7e304588e4c7485bdb/pydantic-2.6.1-py3-none-any.whl.metadata\n",
      "evaluation-pipeline-ragasevaluator-1                 |   Downloading pydantic-2.6.1-py3-none-any.whl.metadata (83 kB)\n",
      "evaluation-pipeline-ragasevaluator-1                 |      ━━━━━━━━━━━━━━━━━━━━━━━━━━━━━━━━━━━━━━━━ 83.5/83.5 kB 5.9 MB/s eta 0:00:00\n",
      "evaluation-pipeline-ragasevaluator-1                 | \n",
      "evaluation-pipeline-ragasevaluator-1                 | \n",
      "evaluation-pipeline-ragasevaluator-1                 | Collecting sniffio (from openai>1->ragas==0.0.21->-r requirements.txt (line 1))\n",
      "evaluation-pipeline-ragasevaluator-1                 |   Downloading sniffio-1.3.0-py3-none-any.whl (10 kB)\n",
      "evaluation-pipeline-ragasevaluator-1                 | Collecting tqdm>4 (from openai>1->ragas==0.0.21->-r requirements.txt (line 1))\n",
      "evaluation-pipeline-ragasevaluator-1                 |   Obtaining dependency information for tqdm>4 from https://files.pythonhosted.org/packages/00/e5/f12a80907d0884e6dff9c16d0c0114d81b8cd07dc3ae54c5e962cc83037e/tqdm-4.66.1-py3-none-any.whl.metadata\n",
      "evaluation-pipeline-ragasevaluator-1                 |   Downloading tqdm-4.66.1-py3-none-any.whl.metadata (57 kB)\n",
      "evaluation-pipeline-ragasevaluator-1                 |      ━━━━━━━━━━━━━━━━━━━━━━━━━━━━━━━━━━━━━━━━ 57.6/57.6 kB 17.7 MB/s eta 0:00:00\n",
      "evaluation-pipeline-ragasevaluator-1                 | \n",
      "evaluation-pipeline-ragasevaluator-1                 | \n",
      "evaluation-pipeline-ragasevaluator-1                 | Requirement already satisfied: typing-extensions<5,>=4.7 in /usr/local/lib/python3.11/site-packages (from openai>1->ragas==0.0.21->-r requirements.txt (line 1)) (4.9.0)\n",
      "evaluation-pipeline-ragasevaluator-1                 | Collecting filelock (from datasets->ragas==0.0.21->-r requirements.txt (line 1))\n",
      "evaluation-pipeline-ragasevaluator-1                 |   Obtaining dependency information for filelock from https://files.pythonhosted.org/packages/81/54/84d42a0bee35edba99dee7b59a8d4970eccdd44b99fe728ed912106fc781/filelock-3.13.1-py3-none-any.whl.metadata\n",
      "evaluation-pipeline-ragasevaluator-1                 |   Downloading filelock-3.13.1-py3-none-any.whl.metadata (2.8 kB)\n",
      "evaluation-pipeline-ragasevaluator-1                 | Requirement already satisfied: pyarrow>=8.0.0 in /usr/local/lib/python3.11/site-packages (from datasets->ragas==0.0.21->-r requirements.txt (line 1)) (15.0.0)\n",
      "evaluation-pipeline-ragasevaluator-1                 | Collecting pyarrow-hotfix (from datasets->ragas==0.0.21->-r requirements.txt (line 1))\n",
      "evaluation-pipeline-ragasevaluator-1                 |   Obtaining dependency information for pyarrow-hotfix from https://files.pythonhosted.org/packages/e4/f4/9ec2222f5f5f8ea04f66f184caafd991a39c8782e31f5b0266f101cb68ca/pyarrow_hotfix-0.6-py3-none-any.whl.metadata\n",
      "evaluation-pipeline-ragasevaluator-1                 |   Downloading pyarrow_hotfix-0.6-py3-none-any.whl.metadata (3.6 kB)\n",
      "evaluation-pipeline-ragasevaluator-1                 | Collecting dill<0.3.8,>=0.3.0 (from datasets->ragas==0.0.21->-r requirements.txt (line 1))\n",
      "evaluation-pipeline-ragasevaluator-1                 |   Obtaining dependency information for dill<0.3.8,>=0.3.0 from https://files.pythonhosted.org/packages/f5/3a/74a29b11cf2cdfcd6ba89c0cecd70b37cd1ba7b77978ce611eb7a146a832/dill-0.3.7-py3-none-any.whl.metadata\n",
      "evaluation-pipeline-ragasevaluator-1                 |   Downloading dill-0.3.7-py3-none-any.whl.metadata (9.9 kB)\n",
      "evaluation-pipeline-ragasevaluator-1                 | Requirement already satisfied: pandas in /usr/local/lib/python3.11/site-packages (from datasets->ragas==0.0.21->-r requirements.txt (line 1)) (2.2.0)\n",
      "evaluation-pipeline-ragasevaluator-1                 | Requirement already satisfied: requests>=2.19.0 in /usr/local/lib/python3.11/site-packages (from datasets->ragas==0.0.21->-r requirements.txt (line 1)) (2.31.0)\n",
      "evaluation-pipeline-ragasevaluator-1                 | Collecting xxhash (from datasets->ragas==0.0.21->-r requirements.txt (line 1))\n",
      "evaluation-pipeline-ragasevaluator-1                 |   Obtaining dependency information for xxhash from https://files.pythonhosted.org/packages/eb/3a/25c4aecb61a49d4415fd71d4f66a8a5b558dd44a52d7054ea9aa59ccbac1/xxhash-3.4.1-cp311-cp311-manylinux_2_17_x86_64.manylinux2014_x86_64.whl.metadata\n",
      "evaluation-pipeline-ragasevaluator-1                 |   Downloading xxhash-3.4.1-cp311-cp311-manylinux_2_17_x86_64.manylinux2014_x86_64.whl.metadata (12 kB)\n",
      "evaluation-pipeline-ragasevaluator-1                 | Collecting multiprocess (from datasets->ragas==0.0.21->-r requirements.txt (line 1))\n",
      "evaluation-pipeline-ragasevaluator-1                 |   Obtaining dependency information for multiprocess from https://files.pythonhosted.org/packages/50/15/b56e50e8debaf439f44befec5b2af11db85f6e0f344c3113ae0be0593a91/multiprocess-0.70.16-py311-none-any.whl.metadata\n",
      "evaluation-pipeline-ragasevaluator-1                 |   Downloading multiprocess-0.70.16-py311-none-any.whl.metadata (7.2 kB)\n",
      "evaluation-pipeline-ragasevaluator-1                 | Collecting fsspec[http]<=2023.10.0,>=2023.1.0 (from datasets->ragas==0.0.21->-r requirements.txt (line 1))\n",
      "evaluation-pipeline-ragasevaluator-1                 |   Obtaining dependency information for fsspec[http]<=2023.10.0,>=2023.1.0 from https://files.pythonhosted.org/packages/e8/f6/3eccfb530aac90ad1301c582da228e4763f19e719ac8200752a4841b0b2d/fsspec-2023.10.0-py3-none-any.whl.metadata\n",
      "evaluation-pipeline-ragasevaluator-1                 |   Downloading fsspec-2023.10.0-py3-none-any.whl.metadata (6.8 kB)\n",
      "evaluation-pipeline-ragasevaluator-1                 | Requirement already satisfied: aiohttp in /usr/local/lib/python3.11/site-packages (from datasets->ragas==0.0.21->-r requirements.txt (line 1)) (3.9.3)\n",
      "evaluation-pipeline-ragasevaluator-1                 | Collecting huggingface-hub>=0.19.4 (from datasets->ragas==0.0.21->-r requirements.txt (line 1))\n",
      "evaluation-pipeline-ragasevaluator-1                 |   Obtaining dependency information for huggingface-hub>=0.19.4 from https://files.pythonhosted.org/packages/28/03/7d3c7153113ec59cfb31e3b8ee773f5f420a0dd7d26d40442542b96675c3/huggingface_hub-0.20.3-py3-none-any.whl.metadata\n",
      "evaluation-pipeline-ragasevaluator-1                 |   Downloading huggingface_hub-0.20.3-py3-none-any.whl.metadata (12 kB)\n",
      "evaluation-pipeline-ragasevaluator-1                 | Requirement already satisfied: packaging in /usr/local/lib/python3.11/site-packages (from datasets->ragas==0.0.21->-r requirements.txt (line 1)) (23.2)\n",
      "evaluation-pipeline-ragasevaluator-1                 | Requirement already satisfied: pyyaml>=5.1 in /usr/local/lib/python3.11/site-packages (from datasets->ragas==0.0.21->-r requirements.txt (line 1)) (6.0.1)\n",
      "evaluation-pipeline-ragasevaluator-1                 | Collecting SQLAlchemy<3,>=1.4 (from langchain->ragas==0.0.21->-r requirements.txt (line 1))\n",
      "evaluation-pipeline-ragasevaluator-1                 |   Obtaining dependency information for SQLAlchemy<3,>=1.4 from https://files.pythonhosted.org/packages/7a/de/0ca53bf49d213bea164b0bd0187d3c94d6fea650b7679a8e41c91e3182d7/SQLAlchemy-2.0.25-cp311-cp311-manylinux_2_17_x86_64.manylinux2014_x86_64.whl.metadata\n",
      "evaluation-pipeline-ragasevaluator-1                 |   Downloading SQLAlchemy-2.0.25-cp311-cp311-manylinux_2_17_x86_64.manylinux2014_x86_64.whl.metadata (9.6 kB)\n",
      "evaluation-pipeline-ragasevaluator-1                 | Collecting dataclasses-json<0.7,>=0.5.7 (from langchain->ragas==0.0.21->-r requirements.txt (line 1))\n",
      "evaluation-pipeline-ragasevaluator-1                 |   Obtaining dependency information for dataclasses-json<0.7,>=0.5.7 from https://files.pythonhosted.org/packages/91/ca/7219b838086086972e662c19e908694bdc6744537fb41b70392501b8b5e4/dataclasses_json-0.6.4-py3-none-any.whl.metadata\n",
      "evaluation-pipeline-ragasevaluator-1                 |   Downloading dataclasses_json-0.6.4-py3-none-any.whl.metadata (25 kB)\n",
      "evaluation-pipeline-ragasevaluator-1                 | Collecting jsonpatch<2.0,>=1.33 (from langchain->ragas==0.0.21->-r requirements.txt (line 1))\n",
      "evaluation-pipeline-ragasevaluator-1                 |   Obtaining dependency information for jsonpatch<2.0,>=1.33 from https://files.pythonhosted.org/packages/73/07/02e16ed01e04a374e644b575638ec7987ae846d25ad97bcc9945a3ee4b0e/jsonpatch-1.33-py2.py3-none-any.whl.metadata\n",
      "evaluation-pipeline-ragasevaluator-1                 |   Downloading jsonpatch-1.33-py2.py3-none-any.whl.metadata (3.0 kB)\n",
      "evaluation-pipeline-ragasevaluator-1                 | Collecting langchain-community<0.1,>=0.0.17 (from langchain->ragas==0.0.21->-r requirements.txt (line 1))\n",
      "evaluation-pipeline-ragasevaluator-1                 |   Obtaining dependency information for langchain-community<0.1,>=0.0.17 from https://files.pythonhosted.org/packages/73/b3/f0096f0e040a8ecdcf5d0cd1a6ad8bef30e293fa7a7fcd25a752776bce78/langchain_community-0.0.17-py3-none-any.whl.metadata\n",
      "evaluation-pipeline-ragasevaluator-1                 |   Downloading langchain_community-0.0.17-py3-none-any.whl.metadata (7.9 kB)\n",
      "evaluation-pipeline-ragasevaluator-1                 | Collecting langchain-core<0.2,>=0.1.16 (from langchain->ragas==0.0.21->-r requirements.txt (line 1))\n",
      "evaluation-pipeline-ragasevaluator-1                 |   Obtaining dependency information for langchain-core<0.2,>=0.1.16 from https://files.pythonhosted.org/packages/25/d9/c22eb2606e9c77eeb99099dfc9a114e848386227e123ac4fb14a0ed954c6/langchain_core-0.1.18-py3-none-any.whl.metadata\n",
      "evaluation-pipeline-ragasevaluator-1                 |   Downloading langchain_core-0.1.18-py3-none-any.whl.metadata (6.0 kB)\n",
      "evaluation-pipeline-ragasevaluator-1                 | Collecting langsmith<0.1,>=0.0.83 (from langchain->ragas==0.0.21->-r requirements.txt (line 1))\n",
      "evaluation-pipeline-ragasevaluator-1                 |   Obtaining dependency information for langsmith<0.1,>=0.0.83 from https://files.pythonhosted.org/packages/67/a0/a43239e2a0fa12867c66ef3f40537afb1d23c2830fef8bb624f578bf35e2/langsmith-0.0.86-py3-none-any.whl.metadata\n",
      "evaluation-pipeline-ragasevaluator-1                 |   Downloading langsmith-0.0.86-py3-none-any.whl.metadata (10 kB)\n",
      "evaluation-pipeline-ragasevaluator-1                 | Collecting tenacity<9.0.0,>=8.1.0 (from langchain->ragas==0.0.21->-r requirements.txt (line 1))\n",
      "evaluation-pipeline-ragasevaluator-1                 |   Obtaining dependency information for tenacity<9.0.0,>=8.1.0 from https://files.pythonhosted.org/packages/f4/f1/990741d5bb2487d529d20a433210ffa136a367751e454214013b441c4575/tenacity-8.2.3-py3-none-any.whl.metadata\n",
      "evaluation-pipeline-ragasevaluator-1                 |   Downloading tenacity-8.2.3-py3-none-any.whl.metadata (1.0 kB)\n",
      "evaluation-pipeline-ragasevaluator-1                 | Collecting regex>=2022.1.18 (from tiktoken->ragas==0.0.21->-r requirements.txt (line 1))\n",
      "evaluation-pipeline-ragasevaluator-1                 |   Obtaining dependency information for regex>=2022.1.18 from https://files.pythonhosted.org/packages/8d/6b/2f6478814954c07c04ba60b78d688d3d7bab10d786e0b6c1db607e4f6673/regex-2023.12.25-cp311-cp311-manylinux_2_17_x86_64.manylinux2014_x86_64.whl.metadata\n",
      "evaluation-pipeline-ragasevaluator-1                 |   Downloading regex-2023.12.25-cp311-cp311-manylinux_2_17_x86_64.manylinux2014_x86_64.whl.metadata (40 kB)\n",
      "evaluation-pipeline-ragasevaluator-1                 |      ━━━━━━━━━━━━━━━━━━━━━━━━━━━━━━━━━━━━━━━━ 40.9/40.9 kB 4.2 MB/s eta 0:00:00\n",
      "evaluation-pipeline-ragasevaluator-1                 | \n",
      "evaluation-pipeline-ragasevaluator-1                 | \n",
      "evaluation-pipeline-ragasevaluator-1                 | Requirement already satisfied: aiosignal>=1.1.2 in /usr/local/lib/python3.11/site-packages (from aiohttp->datasets->ragas==0.0.21->-r requirements.txt (line 1)) (1.3.1)\n",
      "evaluation-pipeline-ragasevaluator-1                 | Requirement already satisfied: attrs>=17.3.0 in /usr/local/lib/python3.11/site-packages (from aiohttp->datasets->ragas==0.0.21->-r requirements.txt (line 1)) (23.2.0)\n",
      "evaluation-pipeline-ragasevaluator-1                 | Requirement already satisfied: frozenlist>=1.1.1 in /usr/local/lib/python3.11/site-packages (from aiohttp->datasets->ragas==0.0.21->-r requirements.txt (line 1)) (1.4.1)\n",
      "evaluation-pipeline-ragasevaluator-1                 | Requirement already satisfied: multidict<7.0,>=4.5 in /usr/local/lib/python3.11/site-packages (from aiohttp->datasets->ragas==0.0.21->-r requirements.txt (line 1)) (6.0.5)\n",
      "evaluation-pipeline-ragasevaluator-1                 | Requirement already satisfied: yarl<2.0,>=1.0 in /usr/local/lib/python3.11/site-packages (from aiohttp->datasets->ragas==0.0.21->-r requirements.txt (line 1)) (1.9.4)\n",
      "evaluation-pipeline-ragasevaluator-1                 | Requirement already satisfied: idna>=2.8 in /usr/local/lib/python3.11/site-packages (from anyio<5,>=3.5.0->openai>1->ragas==0.0.21->-r requirements.txt (line 1)) (3.6)\n",
      "evaluation-pipeline-ragasevaluator-1                 | Collecting marshmallow<4.0.0,>=3.18.0 (from dataclasses-json<0.7,>=0.5.7->langchain->ragas==0.0.21->-r requirements.txt (line 1))\n",
      "evaluation-pipeline-ragasevaluator-1                 |   Obtaining dependency information for marshmallow<4.0.0,>=3.18.0 from https://files.pythonhosted.org/packages/57/e9/4368d49d3b462da16a3bac976487764a84dd85cef97232c7bd61f5bdedf3/marshmallow-3.20.2-py3-none-any.whl.metadata\n",
      "evaluation-pipeline-ragasevaluator-1                 |   Downloading marshmallow-3.20.2-py3-none-any.whl.metadata (7.5 kB)\n",
      "evaluation-pipeline-ragasevaluator-1                 | Collecting typing-inspect<1,>=0.4.0 (from dataclasses-json<0.7,>=0.5.7->langchain->ragas==0.0.21->-r requirements.txt (line 1))\n",
      "evaluation-pipeline-ragasevaluator-1                 |   Obtaining dependency information for typing-inspect<1,>=0.4.0 from https://files.pythonhosted.org/packages/65/f3/107a22063bf27bdccf2024833d3445f4eea42b2e598abfbd46f6a63b6cb0/typing_inspect-0.9.0-py3-none-any.whl.metadata\n",
      "evaluation-pipeline-ragasevaluator-1                 |   Downloading typing_inspect-0.9.0-py3-none-any.whl.metadata (1.5 kB)\n",
      "evaluation-pipeline-ragasevaluator-1                 | Requirement already satisfied: certifi in /usr/local/lib/python3.11/site-packages (from httpx<1,>=0.23.0->openai>1->ragas==0.0.21->-r requirements.txt (line 1)) (2024.2.2)\n",
      "evaluation-pipeline-ragasevaluator-1                 | Collecting httpcore==1.* (from httpx<1,>=0.23.0->openai>1->ragas==0.0.21->-r requirements.txt (line 1))\n",
      "evaluation-pipeline-ragasevaluator-1                 |   Obtaining dependency information for httpcore==1.* from https://files.pythonhosted.org/packages/56/ba/78b0a99c4da0ff8b0f59defa2f13ca4668189b134bd9840b6202a93d9a0f/httpcore-1.0.2-py3-none-any.whl.metadata\n",
      "evaluation-pipeline-ragasevaluator-1                 |   Downloading httpcore-1.0.2-py3-none-any.whl.metadata (20 kB)\n",
      "evaluation-pipeline-ragasevaluator-1                 | Collecting h11<0.15,>=0.13 (from httpcore==1.*->httpx<1,>=0.23.0->openai>1->ragas==0.0.21->-r requirements.txt (line 1))\n",
      "evaluation-pipeline-ragasevaluator-1                 |   Downloading h11-0.14.0-py3-none-any.whl (58 kB)\n",
      "evaluation-pipeline-ragasevaluator-1                 |      ━━━━━━━━━━━━━━━━━━━━━━━━━━━━━━━━━━━━━━━━ 58.3/58.3 kB 9.6 MB/s eta 0:00:00\n",
      "evaluation-pipeline-ragasevaluator-1                 | \n",
      "evaluation-pipeline-ragasevaluator-1                 | \n",
      "evaluation-pipeline-ragasevaluator-1                 | Collecting jsonpointer>=1.9 (from jsonpatch<2.0,>=1.33->langchain->ragas==0.0.21->-r requirements.txt (line 1))\n",
      "evaluation-pipeline-ragasevaluator-1                 |   Obtaining dependency information for jsonpointer>=1.9 from https://files.pythonhosted.org/packages/12/f6/0232cc0c617e195f06f810534d00b74d2f348fe71b2118009ad8ad31f878/jsonpointer-2.4-py2.py3-none-any.whl.metadata\n",
      "evaluation-pipeline-ragasevaluator-1                 |   Downloading jsonpointer-2.4-py2.py3-none-any.whl.metadata (2.5 kB)\n",
      "evaluation-pipeline-ragasevaluator-1                 | Collecting annotated-types>=0.4.0 (from pydantic<3,>=1.9.0->openai>1->ragas==0.0.21->-r requirements.txt (line 1))\n",
      "evaluation-pipeline-ragasevaluator-1                 |   Obtaining dependency information for annotated-types>=0.4.0 from https://files.pythonhosted.org/packages/28/78/d31230046e58c207284c6b2c4e8d96e6d3cb4e52354721b944d3e1ee4aa5/annotated_types-0.6.0-py3-none-any.whl.metadata\n",
      "evaluation-pipeline-ragasevaluator-1                 |   Downloading annotated_types-0.6.0-py3-none-any.whl.metadata (12 kB)\n",
      "evaluation-pipeline-ragasevaluator-1                 | Collecting pydantic-core==2.16.2 (from pydantic<3,>=1.9.0->openai>1->ragas==0.0.21->-r requirements.txt (line 1))\n",
      "evaluation-pipeline-ragasevaluator-1                 |   Obtaining dependency information for pydantic-core==2.16.2 from https://files.pythonhosted.org/packages/ad/03/1cac52dfe893109a1571956755061df771457f33cb55264baed8f89635d6/pydantic_core-2.16.2-cp311-cp311-manylinux_2_17_x86_64.manylinux2014_x86_64.whl.metadata\n",
      "evaluation-pipeline-ragasevaluator-1                 |   Downloading pydantic_core-2.16.2-cp311-cp311-manylinux_2_17_x86_64.manylinux2014_x86_64.whl.metadata (6.5 kB)\n",
      "evaluation-pipeline-ragasevaluator-1                 | Requirement already satisfied: charset-normalizer<4,>=2 in /usr/local/lib/python3.11/site-packages (from requests>=2.19.0->datasets->ragas==0.0.21->-r requirements.txt (line 1)) (3.3.2)\n",
      "evaluation-pipeline-ragasevaluator-1                 | Requirement already satisfied: urllib3<3,>=1.21.1 in /usr/local/lib/python3.11/site-packages (from requests>=2.19.0->datasets->ragas==0.0.21->-r requirements.txt (line 1)) (2.0.7)\n",
      "evaluation-pipeline-ragasevaluator-1                 | Collecting greenlet!=0.4.17 (from SQLAlchemy<3,>=1.4->langchain->ragas==0.0.21->-r requirements.txt (line 1))\n",
      "evaluation-pipeline-ragasevaluator-1                 |   Obtaining dependency information for greenlet!=0.4.17 from https://files.pythonhosted.org/packages/c6/1f/12d5a6cc26e8b483c2e7975f9c22e088ac735c0d8dcb8a8f72d31a4e5f04/greenlet-3.0.3-cp311-cp311-manylinux_2_24_x86_64.manylinux_2_28_x86_64.whl.metadata\n",
      "evaluation-pipeline-ragasevaluator-1                 |   Downloading greenlet-3.0.3-cp311-cp311-manylinux_2_24_x86_64.manylinux_2_28_x86_64.whl.metadata (3.8 kB)\n",
      "evaluation-pipeline-ragasevaluator-1                 | INFO: pip is looking at multiple versions of multiprocess to determine which version is compatible with other requirements. This could take a while.\n",
      "evaluation-pipeline-ragasevaluator-1                 | Collecting multiprocess (from datasets->ragas==0.0.21->-r requirements.txt (line 1))\n",
      "evaluation-pipeline-ragasevaluator-1                 |   Obtaining dependency information for multiprocess from https://files.pythonhosted.org/packages/e7/41/96ac938770ba6e7d5ae1d8c9cafebac54b413549042c6260f0d0a6ec6622/multiprocess-0.70.15-py311-none-any.whl.metadata\n",
      "evaluation-pipeline-ragasevaluator-1                 |   Downloading multiprocess-0.70.15-py311-none-any.whl.metadata (7.2 kB)\n",
      "evaluation-pipeline-ragasevaluator-1                 | Requirement already satisfied: python-dateutil>=2.8.2 in /usr/local/lib/python3.11/site-packages (from pandas->datasets->ragas==0.0.21->-r requirements.txt (line 1)) (2.8.2)\n",
      "evaluation-pipeline-ragasevaluator-1                 | Requirement already satisfied: pytz>=2020.1 in /usr/local/lib/python3.11/site-packages (from pandas->datasets->ragas==0.0.21->-r requirements.txt (line 1)) (2024.1)\n",
      "evaluation-pipeline-ragasevaluator-1                 | Requirement already satisfied: tzdata>=2022.7 in /usr/local/lib/python3.11/site-packages (from pandas->datasets->ragas==0.0.21->-r requirements.txt (line 1)) (2023.4)\n",
      "evaluation-pipeline-ragasevaluator-1                 | Requirement already satisfied: six>=1.5 in /usr/local/lib/python3.11/site-packages (from python-dateutil>=2.8.2->pandas->datasets->ragas==0.0.21->-r requirements.txt (line 1)) (1.16.0)\n",
      "evaluation-pipeline-ragasevaluator-1                 | Collecting mypy-extensions>=0.3.0 (from typing-inspect<1,>=0.4.0->dataclasses-json<0.7,>=0.5.7->langchain->ragas==0.0.21->-r requirements.txt (line 1))\n",
      "evaluation-pipeline-ragasevaluator-1                 |   Downloading mypy_extensions-1.0.0-py3-none-any.whl (4.7 kB)\n",
      "evaluation-pipeline-ragasevaluator-1                 | Downloading ragas-0.0.21-py3-none-any.whl (48 kB)\n",
      "evaluation-pipeline-ragasevaluator-1                 |    ━━━━━━━━━━━━━━━━━━━━━━━━━━━━━━━━━━━━━━━━ 48.8/48.8 kB 7.7 MB/s eta 0:00:00\n",
      "evaluation-pipeline-ragasevaluator-1                 | \n",
      "evaluation-pipeline-ragasevaluator-1                 | \n",
      "evaluation-pipeline-ragasevaluator-1                 | Downloading openai-1.11.1-py3-none-any.whl (226 kB)\n",
      "evaluation-pipeline-ragasevaluator-1                 |    ━━━━━━━━━━━━━━━━━━━━━━━━━━━━━━━━━━━━━━━━ 226.1/226.1 kB 6.3 MB/s eta 0:00:00\n",
      "evaluation-pipeline-ragasevaluator-1                 | \n",
      "evaluation-pipeline-ragasevaluator-1                 | \n",
      "evaluation-pipeline-ragasevaluator-1                 | Downloading datasets-2.16.1-py3-none-any.whl (507 kB)\n",
      "evaluation-pipeline-ragasevaluator-1                 |    ━━━━━━━━━━━━━━━━━━━━━━━━━━━━━━━━━━━━━━━━ 507.1/507.1 kB 12.2 MB/s eta 0:00:00\n",
      "evaluation-pipeline-ragasevaluator-1                 | \n",
      "evaluation-pipeline-ragasevaluator-1                 | \n",
      "evaluation-pipeline-ragasevaluator-1                 | Downloading langchain-0.1.5-py3-none-any.whl (806 kB)\n",
      "evaluation-pipeline-ragasevaluator-1                 |    ━━━━━━━━━━━━━━━━━━━━━━━━━━━━━━━━━━━━━━━━ 806.7/806.7 kB 15.7 MB/s eta 0:00:00\n",
      "evaluation-pipeline-ragasevaluator-1                 | \n",
      "evaluation-pipeline-ragasevaluator-1                 | \n",
      "evaluation-pipeline-ragasevaluator-1                 | Downloading nest_asyncio-1.6.0-py3-none-any.whl (5.2 kB)\n",
      "evaluation-pipeline-ragasevaluator-1                 | Downloading tiktoken-0.5.2-cp311-cp311-manylinux_2_17_x86_64.manylinux2014_x86_64.whl (2.0 MB)\n",
      "evaluation-pipeline-ragasevaluator-1                 |    ━━━━━━━━━━━━━━━━━━━━━━━━━━━━━━━━━━━━━━━━ 2.0/2.0 MB 11.4 MB/s eta 0:00:00\n",
      "evaluation-pipeline-ragasevaluator-1                 | \n",
      "evaluation-pipeline-ragasevaluator-1                 | \n",
      "evaluation-pipeline-ragasevaluator-1                 | Downloading anyio-4.2.0-py3-none-any.whl (85 kB)\n",
      "evaluation-pipeline-ragasevaluator-1                 |    ━━━━━━━━━━━━━━━━━━━━━━━━━━━━━━━━━━━━━━━━ 85.5/85.5 kB 14.2 MB/s eta 0:00:00\n",
      "evaluation-pipeline-ragasevaluator-1                 | \n",
      "evaluation-pipeline-ragasevaluator-1                 | \n",
      "evaluation-pipeline-ragasevaluator-1                 | Downloading dataclasses_json-0.6.4-py3-none-any.whl (28 kB)\n",
      "evaluation-pipeline-ragasevaluator-1                 | Downloading dill-0.3.7-py3-none-any.whl (115 kB)\n",
      "evaluation-pipeline-ragasevaluator-1                 |    ━━━━━━━━━━━━━━━━━━━━━━━━━━━━━━━━━━━━━━━━ 115.3/115.3 kB 13.3 MB/s eta 0:00:00\n",
      "evaluation-pipeline-ragasevaluator-1                 | \n",
      "evaluation-pipeline-ragasevaluator-1                 | \n",
      "evaluation-pipeline-ragasevaluator-1                 | Downloading distro-1.9.0-py3-none-any.whl (20 kB)\n",
      "evaluation-pipeline-ragasevaluator-1                 | Downloading httpx-0.26.0-py3-none-any.whl (75 kB)\n",
      "evaluation-pipeline-ragasevaluator-1                 |    ━━━━━━━━━━━━━━━━━━━━━━━━━━━━━━━━━━━━━━━━ 75.9/75.9 kB 10.3 MB/s eta 0:00:00\n",
      "evaluation-pipeline-ragasevaluator-1                 | \n",
      "evaluation-pipeline-ragasevaluator-1                 | \n",
      "evaluation-pipeline-ragasevaluator-1                 | Downloading httpcore-1.0.2-py3-none-any.whl (76 kB)\n",
      "evaluation-pipeline-ragasevaluator-1                 |    ━━━━━━━━━━━━━━━━━━━━━━━━━━━━━━━━━━━━━━━━ 76.9/76.9 kB 9.9 MB/s eta 0:00:00\n",
      "evaluation-pipeline-ragasevaluator-1                 | \n",
      "evaluation-pipeline-ragasevaluator-1                 | \n",
      "evaluation-pipeline-ragasevaluator-1                 | Downloading huggingface_hub-0.20.3-py3-none-any.whl (330 kB)\n",
      "evaluation-pipeline-ragasevaluator-1                 |    ━━━━━━━━━━━━━━━━━━━━━━━━━━━━━━━━━━━━━━━━ 330.1/330.1 kB 12.8 MB/s eta 0:00:00\n",
      "evaluation-pipeline-ragasevaluator-1                 | \n",
      "evaluation-pipeline-ragasevaluator-1                 | \n",
      "evaluation-pipeline-ragasevaluator-1                 | Downloading jsonpatch-1.33-py2.py3-none-any.whl (12 kB)\n",
      "evaluation-pipeline-ragasevaluator-1                 | Downloading langchain_community-0.0.17-py3-none-any.whl (1.6 MB)\n",
      "evaluation-pipeline-ragasevaluator-1                 |    ━━━━━━━━━━━━━━━━━━━━━━━━━━━━━━━━━━━━━━━━ 1.6/1.6 MB 6.1 MB/s eta 0:00:00\n",
      "evaluation-pipeline-ragasevaluator-1                 | \n",
      "evaluation-pipeline-ragasevaluator-1                 | \n",
      "evaluation-pipeline-ragasevaluator-1                 | Downloading langchain_core-0.1.18-py3-none-any.whl (237 kB)\n",
      "evaluation-pipeline-ragasevaluator-1                 |    ━━━━━━━━━━━━━━━━━━━━━━━━━━━━━━━━━━━━━━━━ 237.0/237.0 kB 4.3 MB/s eta 0:00:00\n",
      "evaluation-pipeline-ragasevaluator-1                 | \n",
      "evaluation-pipeline-ragasevaluator-1                 | \n",
      "evaluation-pipeline-ragasevaluator-1                 | Downloading langsmith-0.0.86-py3-none-any.whl (54 kB)\n",
      "evaluation-pipeline-ragasevaluator-1                 |    ━━━━━━━━━━━━━━━━━━━━━━━━━━━━━━━━━━━━━━━━ 54.4/54.4 kB 9.4 MB/s eta 0:00:00\n",
      "evaluation-pipeline-ragasevaluator-1                 | \n",
      "evaluation-pipeline-ragasevaluator-1                 | \n",
      "evaluation-pipeline-ragasevaluator-1                 | Downloading pydantic-2.6.1-py3-none-any.whl (394 kB)\n",
      "evaluation-pipeline-ragasevaluator-1                 |    ━━━━━━━━━━━━━━━━━━━━━━━━━━━━━━━━━━━━━━━━ 394.8/394.8 kB 9.9 MB/s eta 0:00:00\n",
      "evaluation-pipeline-ragasevaluator-1                 | \n",
      "evaluation-pipeline-ragasevaluator-1                 | \n",
      "evaluation-pipeline-ragasevaluator-1                 | Downloading pydantic_core-2.16.2-cp311-cp311-manylinux_2_17_x86_64.manylinux2014_x86_64.whl (2.2 MB)\n",
      "evaluation-pipeline-ragasevaluator-1                 |    ━━━━━━━━━━━━━━━━━━━━━━━━━━━━━━━━━━━━━━━━ 2.2/2.2 MB 7.6 MB/s eta 0:00:00\n",
      "evaluation-pipeline-ragasevaluator-1                 | \n",
      "evaluation-pipeline-ragasevaluator-1                 | \n",
      "evaluation-pipeline-ragasevaluator-1                 | Downloading regex-2023.12.25-cp311-cp311-manylinux_2_17_x86_64.manylinux2014_x86_64.whl (785 kB)\n",
      "evaluation-pipeline-ragasevaluator-1                 |    ━━━━━━━━━━━━━━━━━━━━━━━━━━━━━━━━━━━━━━━━ 785.1/785.1 kB 9.2 MB/s eta 0:00:00\n",
      "evaluation-pipeline-ragasevaluator-1                 | \n",
      "evaluation-pipeline-ragasevaluator-1                 | \n",
      "evaluation-pipeline-ragasevaluator-1                 | Downloading SQLAlchemy-2.0.25-cp311-cp311-manylinux_2_17_x86_64.manylinux2014_x86_64.whl (3.2 MB)\n",
      "evaluation-pipeline-ragasevaluator-1                 |    ━━━━━━━━━━━━━━━━━━━━━━━━━━━━━━━━━━━━━━━━ 3.2/3.2 MB 9.5 MB/s eta 0:00:00\n",
      "evaluation-pipeline-ragasevaluator-1                 | \n",
      "evaluation-pipeline-ragasevaluator-1                 | \n",
      "evaluation-pipeline-ragasevaluator-1                 | Downloading tenacity-8.2.3-py3-none-any.whl (24 kB)\n",
      "evaluation-pipeline-ragasevaluator-1                 | Downloading tqdm-4.66.1-py3-none-any.whl (78 kB)\n",
      "evaluation-pipeline-ragasevaluator-1                 |    ━━━━━━━━━━━━━━━━━━━━━━━━━━━━━━━━━━━━━━━━ 78.3/78.3 kB 11.1 MB/s eta 0:00:00\n",
      "evaluation-pipeline-ragasevaluator-1                 | \n",
      "evaluation-pipeline-ragasevaluator-1                 | \n",
      "evaluation-pipeline-ragasevaluator-1                 | Downloading filelock-3.13.1-py3-none-any.whl (11 kB)\n",
      "evaluation-pipeline-ragasevaluator-1                 | Downloading multiprocess-0.70.15-py311-none-any.whl (135 kB)\n",
      "evaluation-pipeline-ragasevaluator-1                 |    ━━━━━━━━━━━━━━━━━━━━━━━━━━━━━━━━━━━━━━━━ 135.4/135.4 kB 9.8 MB/s eta 0:00:00\n",
      "evaluation-pipeline-ragasevaluator-1                 | Downloading pyarrow_hotfix-0.6-py3-none-any.whl (7.9 kB)\n",
      "evaluation-pipeline-ragasevaluator-1                 | Downloading xxhash-3.4.1-cp311-cp311-manylinux_2_17_x86_64.manylinux2014_x86_64.whl (194 kB)\n",
      "evaluation-pipeline-ragasevaluator-1                 |    ━━━━━━━━━━━━━━━━━━━━━━━━━━━━━━━━━━━━━━━━ 194.8/194.8 kB 12.9 MB/s eta 0:00:00\n",
      "evaluation-pipeline-ragasevaluator-1                 | \n",
      "evaluation-pipeline-ragasevaluator-1                 | \n",
      "evaluation-pipeline-ragasevaluator-1                 | Downloading annotated_types-0.6.0-py3-none-any.whl (12 kB)\n",
      "evaluation-pipeline-ragasevaluator-1                 | Downloading fsspec-2023.10.0-py3-none-any.whl (166 kB)\n",
      "evaluation-pipeline-ragasevaluator-1                 |    ━━━━━━━━━━━━━━━━━━━━━━━━━━━━━━━━━━━━━━━━ 166.4/166.4 kB 16.4 MB/s eta 0:00:00\n",
      "evaluation-pipeline-ragasevaluator-1                 | \n",
      "evaluation-pipeline-ragasevaluator-1                 | \n",
      "evaluation-pipeline-ragasevaluator-1                 | Downloading greenlet-3.0.3-cp311-cp311-manylinux_2_24_x86_64.manylinux_2_28_x86_64.whl (620 kB)\n",
      "evaluation-pipeline-ragasevaluator-1                 |    ━━━━━━━━━━━━━━━━━━━━━━━━━━━━━━━━━━━━━━━━ 620.0/620.0 kB 4.8 MB/s eta 0:00:00\n",
      "evaluation-pipeline-ragasevaluator-1                 | \n",
      "evaluation-pipeline-ragasevaluator-1                 | \n",
      "evaluation-pipeline-ragasevaluator-1                 | Downloading jsonpointer-2.4-py2.py3-none-any.whl (7.8 kB)\n",
      "evaluation-pipeline-ragasevaluator-1                 | Downloading marshmallow-3.20.2-py3-none-any.whl (49 kB)\n",
      "evaluation-pipeline-ragasevaluator-1                 |    ━━━━━━━━━━━━━━━━━━━━━━━━━━━━━━━━━━━━━━━━ 49.4/49.4 kB 10.4 MB/s eta 0:00:00\n",
      "evaluation-pipeline-ragasevaluator-1                 | \n",
      "evaluation-pipeline-ragasevaluator-1                 | \n",
      "evaluation-pipeline-ragasevaluator-1                 | Downloading typing_inspect-0.9.0-py3-none-any.whl (8.8 kB)\n",
      "evaluation-pipeline-ragasevaluator-1                 | Installing collected packages: xxhash, tqdm, tenacity, sniffio, regex, pysbd, pydantic-core, pyarrow-hotfix, nest-asyncio, mypy-extensions, marshmallow, jsonpointer, h11, greenlet, fsspec, filelock, distro, dill, annotated-types, typing-inspect, tiktoken, SQLAlchemy, pydantic, multiprocess, jsonpatch, huggingface-hub, httpcore, anyio, langsmith, httpx, dataclasses-json, openai, langchain-core, datasets, langchain-community, langchain, ragas\n",
      "evaluation-pipeline-ragasevaluator-1                 |   Attempting uninstall: fsspec\n",
      "evaluation-pipeline-ragasevaluator-1                 |     Found existing installation: fsspec 2023.12.2\n",
      "evaluation-pipeline-ragasevaluator-1                 |     Uninstalling fsspec-2023.12.2:\n",
      "evaluation-pipeline-ragasevaluator-1                 |       Successfully uninstalled fsspec-2023.12.2\n"
     ]
    },
    {
     "name": "stderr",
     "output_type": "stream",
     "text": [
      "evaluation-pipeline-ragasevaluator-1                 | ERROR: pip's dependency resolver does not currently take into account all the packages that are installed. This behaviour is the source of the following dependency conflicts.\n",
      "evaluation-pipeline-ragasevaluator-1                 | gcsfs 2023.12.2.post1 requires fsspec==2023.12.2, but you have fsspec 2023.10.0 which is incompatible.\n",
      "evaluation-pipeline-ragasevaluator-1                 | adlfs 2024.1.0 requires fsspec>=2023.12.0, but you have fsspec 2023.10.0 which is incompatible.\n",
      "evaluation-pipeline-ragasevaluator-1                 | s3fs 2023.12.2 requires fsspec==2023.12.2, but you have fsspec 2023.10.0 which is incompatible.\n",
      "evaluation-pipeline-ragasevaluator-1                 | WARNING: Running pip as the 'root' user can result in broken permissions and conflicting behaviour with the system package manager. It is recommended to use a virtual environment instead: https://pip.pypa.io/warnings/venv\n",
      "evaluation-pipeline-ragasevaluator-1                 | \n",
      "evaluation-pipeline-ragasevaluator-1                 | [notice] A new release of pip is available: 23.2.1 -> 24.0\n",
      "evaluation-pipeline-ragasevaluator-1                 | [notice] To update, run: pip install --upgrade pip\n",
      "evaluation-pipeline-ragasevaluator-1                 | \n"
     ]
    },
    {
     "name": "stdout",
     "output_type": "stream",
     "text": [
      "evaluation-pipeline-ragasevaluator-1                 | Successfully installed SQLAlchemy-2.0.25 annotated-types-0.6.0 anyio-4.2.0 dataclasses-json-0.6.4 datasets-2.16.1 dill-0.3.7 distro-1.9.0 filelock-3.13.1 fsspec-2023.10.0 greenlet-3.0.3 h11-0.14.0 httpcore-1.0.2 httpx-0.26.0 huggingface-hub-0.20.3 jsonpatch-1.33 jsonpointer-2.4 langchain-0.1.5 langchain-community-0.0.17 langchain-core-0.1.18 langsmith-0.0.86 marshmallow-3.20.2 multiprocess-0.70.15 mypy-extensions-1.0.0 nest-asyncio-1.6.0 openai-1.11.1 pyarrow-hotfix-0.6 pydantic-2.6.1 pydantic-core-2.16.2 pysbd-0.3.4 ragas-0.0.21 regex-2023.12.25 sniffio-1.3.0 tenacity-8.2.3 tiktoken-0.5.2 tqdm-4.66.1 typing-inspect-0.9.0 xxhash-3.4.1\n"
     ]
    },
    {
     "name": "stderr",
     "output_type": "stream",
     "text": [
      "evaluation-pipeline-ragasevaluator-1                 | [2024-02-06 12:29:49,340 | fondant.cli | INFO] Component `RagasEvaluator` found in module main\n",
      "evaluation-pipeline-ragasevaluator-1                 | [2024-02-06 12:29:49,344 | fondant.component.executor | INFO] Dask default local mode will be used for further executions.Our current supported options are limited to 'local' and 'default'.\n",
      "evaluation-pipeline-ragasevaluator-1                 | [2024-02-06 12:29:49,349 | fondant.component.executor | INFO] Previous component `retrievefromweaviatecomponent` is not cached. Invalidating cache for current and subsequent components\n",
      "evaluation-pipeline-ragasevaluator-1                 | [2024-02-06 12:29:49,349 | fondant.component.executor | INFO] Caching disabled for the component\n",
      "evaluation-pipeline-ragasevaluator-1                 | [2024-02-06 12:29:49,349 | root | INFO] Executing component\n",
      "evaluation-pipeline-ragasevaluator-1                 | /usr/local/lib/python3.11/site-packages/langchain/chat_models/__init__.py:31: LangChainDeprecationWarning: Importing chat models from langchain is deprecated. Importing from langchain will no longer be supported as of langchain==0.2.0. Please import from langchain-community instead:\n",
      "evaluation-pipeline-ragasevaluator-1                 | \n",
      "evaluation-pipeline-ragasevaluator-1                 | `from langchain_community.chat_models import ChatOpenAI`.\n",
      "evaluation-pipeline-ragasevaluator-1                 | \n",
      "evaluation-pipeline-ragasevaluator-1                 | To install langchain-community run `pip install -U langchain-community`.\n",
      "evaluation-pipeline-ragasevaluator-1                 |   warnings.warn(\n",
      "evaluation-pipeline-ragasevaluator-1                 | \n",
      "evaluation-pipeline-ragasevaluator-1                 | /usr/local/lib/python3.11/site-packages/langchain_core/_api/deprecation.py:117: LangChainDeprecationWarning: The class `langchain_community.chat_models.openai.ChatOpenAI` was deprecated in langchain-community 0.0.10 and will be removed in 0.2.0. An updated version of the class exists in the langchain-openai package and should be used instead. To use it run `pip install -U langchain-openai` and import as `from langchain_openai import ChatOpenAI`.\n",
      "evaluation-pipeline-ragasevaluator-1                 |   warn_deprecated(\n",
      "evaluation-pipeline-ragasevaluator-1                 | /usr/local/lib/python3.11/site-packages/langchain/embeddings/__init__.py:29: LangChainDeprecationWarning: Importing embeddings from langchain is deprecated. Importing from langchain will no longer be supported as of langchain==0.2.0. Please import from langchain-community instead:\n",
      "evaluation-pipeline-ragasevaluator-1                 | \n",
      "evaluation-pipeline-ragasevaluator-1                 | `from langchain_community.embeddings import AzureOpenAIEmbeddings`.\n",
      "evaluation-pipeline-ragasevaluator-1                 | \n",
      "evaluation-pipeline-ragasevaluator-1                 | To install langchain-community run `pip install -U langchain-community`.\n",
      "evaluation-pipeline-ragasevaluator-1                 |   warnings.warn(\n",
      "evaluation-pipeline-ragasevaluator-1                 | /usr/local/lib/python3.11/site-packages/langchain/embeddings/__init__.py:29: LangChainDeprecationWarning: Importing embeddings from langchain is deprecated. Importing from langchain will no longer be supported as of langchain==0.2.0. Please import from langchain-community instead:\n",
      "evaluation-pipeline-ragasevaluator-1                 | \n",
      "evaluation-pipeline-ragasevaluator-1                 | `from langchain_community.embeddings import OpenAIEmbeddings`.\n",
      "evaluation-pipeline-ragasevaluator-1                 | \n",
      "evaluation-pipeline-ragasevaluator-1                 | To install langchain-community run `pip install -U langchain-community`.\n",
      "evaluation-pipeline-ragasevaluator-1                 |   warnings.warn(\n",
      "evaluation-pipeline-ragasevaluator-1                 | \n",
      "evaluation-pipeline-ragasevaluator-1                 | /usr/local/lib/python3.11/site-packages/langchain/chat_models/__init__.py:31: LangChainDeprecationWarning: Importing chat models from langchain is deprecated. Importing from langchain will no longer be supported as of langchain==0.2.0. Please import from langchain-community instead:\n",
      "evaluation-pipeline-ragasevaluator-1                 | \n",
      "evaluation-pipeline-ragasevaluator-1                 | `from langchain_community.chat_models import AzureChatOpenAI`.\n",
      "evaluation-pipeline-ragasevaluator-1                 | \n",
      "evaluation-pipeline-ragasevaluator-1                 | To install langchain-community run `pip install -U langchain-community`.\n",
      "evaluation-pipeline-ragasevaluator-1                 |   warnings.warn(\n",
      "evaluation-pipeline-ragasevaluator-1                 | /usr/local/lib/python3.11/site-packages/langchain/chat_models/__init__.py:31: LangChainDeprecationWarning: Importing chat models from langchain is deprecated. Importing from langchain will no longer be supported as of langchain==0.2.0. Please import from langchain-community instead:\n",
      "evaluation-pipeline-ragasevaluator-1                 | \n",
      "evaluation-pipeline-ragasevaluator-1                 | `from langchain_community.chat_models import BedrockChat`.\n",
      "evaluation-pipeline-ragasevaluator-1                 | \n",
      "evaluation-pipeline-ragasevaluator-1                 | To install langchain-community run `pip install -U langchain-community`.\n",
      "evaluation-pipeline-ragasevaluator-1                 |   warnings.warn(\n",
      "evaluation-pipeline-ragasevaluator-1                 | /usr/local/lib/python3.11/site-packages/langchain/chat_models/__init__.py:31: LangChainDeprecationWarning: Importing chat models from langchain is deprecated. Importing from langchain will no longer be supported as of langchain==0.2.0. Please import from langchain-community instead:\n",
      "evaluation-pipeline-ragasevaluator-1                 | \n",
      "evaluation-pipeline-ragasevaluator-1                 | `from langchain_community.chat_models import ChatOpenAI`.\n",
      "evaluation-pipeline-ragasevaluator-1                 | \n",
      "evaluation-pipeline-ragasevaluator-1                 | To install langchain-community run `pip install -U langchain-community`.\n",
      "evaluation-pipeline-ragasevaluator-1                 |   warnings.warn(\n",
      "evaluation-pipeline-ragasevaluator-1                 | \n",
      "evaluation-pipeline-ragasevaluator-1                 | /usr/local/lib/python3.11/site-packages/langchain/chat_models/__init__.py:31: LangChainDeprecationWarning: Importing chat models from langchain is deprecated. Importing from langchain will no longer be supported as of langchain==0.2.0. Please import from langchain-community instead:\n",
      "evaluation-pipeline-ragasevaluator-1                 | \n",
      "evaluation-pipeline-ragasevaluator-1                 | `from langchain_community.chat_models import ChatVertexAI`.\n",
      "evaluation-pipeline-ragasevaluator-1                 | \n",
      "evaluation-pipeline-ragasevaluator-1                 | To install langchain-community run `pip install -U langchain-community`.\n",
      "evaluation-pipeline-ragasevaluator-1                 |   warnings.warn(\n",
      "evaluation-pipeline-ragasevaluator-1                 | \n",
      "evaluation-pipeline-ragasevaluator-1                 | /usr/local/lib/python3.11/site-packages/langchain/llms/__init__.py:548: LangChainDeprecationWarning: Importing LLMs from langchain is deprecated. Importing from langchain will no longer be supported as of langchain==0.2.0. Please import from langchain-community instead:\n",
      "evaluation-pipeline-ragasevaluator-1                 | \n",
      "evaluation-pipeline-ragasevaluator-1                 | `from langchain_community.llms import AzureOpenAI`.\n",
      "evaluation-pipeline-ragasevaluator-1                 | \n",
      "evaluation-pipeline-ragasevaluator-1                 | To install langchain-community run `pip install -U langchain-community`.\n",
      "evaluation-pipeline-ragasevaluator-1                 |   warnings.warn(\n",
      "evaluation-pipeline-ragasevaluator-1                 | \n",
      "evaluation-pipeline-ragasevaluator-1                 | /usr/local/lib/python3.11/site-packages/langchain/llms/__init__.py:548: LangChainDeprecationWarning: Importing LLMs from langchain is deprecated. Importing from langchain will no longer be supported as of langchain==0.2.0. Please import from langchain-community instead:\n",
      "evaluation-pipeline-ragasevaluator-1                 | \n",
      "evaluation-pipeline-ragasevaluator-1                 | `from langchain_community.llms import Bedrock`.\n",
      "evaluation-pipeline-ragasevaluator-1                 | \n",
      "evaluation-pipeline-ragasevaluator-1                 | To install langchain-community run `pip install -U langchain-community`.\n",
      "evaluation-pipeline-ragasevaluator-1                 |   warnings.warn(\n",
      "evaluation-pipeline-ragasevaluator-1                 | /usr/local/lib/python3.11/site-packages/langchain/llms/__init__.py:548: LangChainDeprecationWarning: Importing LLMs from langchain is deprecated. Importing from langchain will no longer be supported as of langchain==0.2.0. Please import from langchain-community instead:\n",
      "evaluation-pipeline-ragasevaluator-1                 | \n",
      "evaluation-pipeline-ragasevaluator-1                 | `from langchain_community.llms import OpenAI`.\n",
      "evaluation-pipeline-ragasevaluator-1                 | \n",
      "evaluation-pipeline-ragasevaluator-1                 | To install langchain-community run `pip install -U langchain-community`.\n",
      "evaluation-pipeline-ragasevaluator-1                 |   warnings.warn(\n",
      "evaluation-pipeline-ragasevaluator-1                 | /usr/local/lib/python3.11/site-packages/langchain/llms/__init__.py:548: LangChainDeprecationWarning: Importing LLMs from langchain is deprecated. Importing from langchain will no longer be supported as of langchain==0.2.0. Please import from langchain-community instead:\n",
      "evaluation-pipeline-ragasevaluator-1                 | \n",
      "evaluation-pipeline-ragasevaluator-1                 | `from langchain_community.llms import VertexAI`.\n",
      "evaluation-pipeline-ragasevaluator-1                 | \n",
      "evaluation-pipeline-ragasevaluator-1                 | To install langchain-community run `pip install -U langchain-community`.\n",
      "evaluation-pipeline-ragasevaluator-1                 |   warnings.warn(\n",
      "evaluation-pipeline-ragasevaluator-1                 | \n",
      "evaluation-pipeline-ragasevaluator-1                 | [2024-02-06 12:29:51,392 | root | INFO] Columns of dataframe: ['retrieved_chunks', 'question']\n",
      "evaluation-pipeline-ragasevaluator-1                 | [2024-02-06 12:29:51,425 | root | INFO] Creating write task for: /data/evaluation-pipeline/evaluation-pipeline-20240206132913/ragasevaluator\n",
      "evaluation-pipeline-ragasevaluator-1                 | [2024-02-06 12:29:51,425 | root | INFO] Writing data...\n"
     ]
    },
    {
     "name": "stdout",
     "output_type": "stream",
     "text": [
      "[                                        ] | 0% Completed | 629.17 us\n",
      "[                                        ] | 0% Completed | 101.66 ms\n",
      "[                                        ] | 0% Completed | 202.07 ms\n"
     ]
    },
    {
     "name": "stderr",
     "output_type": "stream",
     "text": [
      "evaluation-pipeline-ragasevaluator-1                 | Traceback (most recent call last):\n",
      "evaluation-pipeline-ragasevaluator-1                 |   File \"/usr/local/bin/fondant\", line 8, in <module>\n",
      "evaluation-pipeline-ragasevaluator-1                 |     sys.exit(entrypoint())\n",
      "evaluation-pipeline-ragasevaluator-1                 |              ^^^^^^^^^^^^\n",
      "evaluation-pipeline-ragasevaluator-1                 |   File \"/usr/local/lib/python3.11/site-packages/fondant/cli.py\", line 89, in entrypoint\n",
      "evaluation-pipeline-ragasevaluator-1                 |     args.func(args)\n",
      "evaluation-pipeline-ragasevaluator-1                 |   File \"/usr/local/lib/python3.11/site-packages/fondant/cli.py\", line 711, in execute\n",
      "evaluation-pipeline-ragasevaluator-1                 |     executor.execute(component)\n",
      "evaluation-pipeline-ragasevaluator-1                 |   File \"/usr/local/lib/python3.11/site-packages/fondant/component/executor.py\", line 383, in execute\n",
      "evaluation-pipeline-ragasevaluator-1                 |     output_manifest = self._run_execution(component_cls, input_manifest)\n",
      "evaluation-pipeline-ragasevaluator-1                 |                       ^^^^^^^^^^^^^^^^^^^^^^^^^^^^^^^^^^^^^^^^^^^^^^^^^^\n",
      "evaluation-pipeline-ragasevaluator-1                 |   File \"/usr/local/lib/python3.11/site-packages/fondant/component/executor.py\", line 345, in _run_execution\n",
      "evaluation-pipeline-ragasevaluator-1                 |     self._write_data(dataframe=output_df, manifest=output_manifest)\n",
      "evaluation-pipeline-ragasevaluator-1                 |   File \"/usr/local/lib/python3.11/site-packages/fondant/component/executor.py\", line 265, in _write_data\n",
      "evaluation-pipeline-ragasevaluator-1                 |     data_writer.write_dataframe(dataframe, self.client)\n",
      "evaluation-pipeline-ragasevaluator-1                 |   File \"/usr/local/lib/python3.11/site-packages/fondant/component/data_io.py\", line 179, in write_dataframe\n",
      "evaluation-pipeline-ragasevaluator-1                 |     dd.compute(write_task, scheduler=dask_client)\n",
      "evaluation-pipeline-ragasevaluator-1                 |   File \"/usr/local/lib/python3.11/site-packages/dask/base.py\", line 665, in compute\n",
      "evaluation-pipeline-ragasevaluator-1                 |     results = schedule(dsk, keys, **kwargs)\n",
      "evaluation-pipeline-ragasevaluator-1                 |               ^^^^^^^^^^^^^^^^^^^^^^^^^^^^^\n",
      "evaluation-pipeline-ragasevaluator-1                 |   File \"/usr/local/lib/python3.11/site-packages/fondant/component/executor.py\", line 539, in wrapped_transform\n",
      "evaluation-pipeline-ragasevaluator-1                 |     dataframe = transform(dataframe)\n",
      "evaluation-pipeline-ragasevaluator-1                 |                 ^^^^^^^^^^^^^^^^^^^^\n",
      "evaluation-pipeline-ragasevaluator-1                 |   File \"/main.py\", line 83, in transform\n",
      "evaluation-pipeline-ragasevaluator-1                 |     result = self.ragas_eval(dataset=hf_dataset)\n",
      "evaluation-pipeline-ragasevaluator-1                 |              ^^^^^^^^^^^^^^^^^^^^^^^^^^^^^^^^^^^\n",
      "evaluation-pipeline-ragasevaluator-1                 |   File \"/main.py\", line 74, in ragas_eval\n",
      "evaluation-pipeline-ragasevaluator-1                 |     return evaluate(dataset=dataset, metrics=self.metric_functions)\n",
      "evaluation-pipeline-ragasevaluator-1                 |            ^^^^^^^^^^^^^^^^^^^^^^^^^^^^^^^^^^^^^^^^^^^^^^^^^^^^^^^^\n",
      "evaluation-pipeline-ragasevaluator-1                 |   File \"/usr/local/lib/python3.11/site-packages/ragas/evaluation.py\", line 93, in evaluate\n",
      "evaluation-pipeline-ragasevaluator-1                 |     validate_column_dtypes(dataset)\n",
      "evaluation-pipeline-ragasevaluator-1                 |   File \"/usr/local/lib/python3.11/site-packages/ragas/validation.py\", line 33, in validate_column_dtypes\n",
      "evaluation-pipeline-ragasevaluator-1                 |     raise ValueError(\n",
      "evaluation-pipeline-ragasevaluator-1                 | ValueError: Dataset feature \"contexts\" should be of type Sequence[string], got <class 'datasets.features.features.Value'>\n"
     ]
    },
    {
     "name": "stdout",
     "output_type": "stream",
     "text": [
      "Finished pipeline run.\n"
     ]
    },
    {
     "name": "stderr",
     "output_type": "stream",
     "text": [
      "service \"ragasevaluator\" didn't complete successfully: exit 1\n"
     ]
    }
   ],
   "source": [
    "import os\n",
    "if utils.check_weaviate_class_exists(\n",
    "    local_weaviate_client,\n",
    "    shared_args[\"weaviate_class\"]\n",
    "): \n",
    "    runner = DockerRunner()\n",
    "    extra_volumes = [str(os.path.join(os.path.abspath('.'), \"evaluation_datasets\")) + \":/evaldata\"]\n",
    "    runner.run(evaluation_pipeline, extra_volumes=extra_volumes)"
   ]
  },
  {
   "cell_type": "markdown",
   "metadata": {},
   "source": [
    "#### Show evaluation results"
   ]
  },
  {
   "cell_type": "code",
   "execution_count": null,
   "metadata": {},
   "outputs": [],
   "source": [
    "utils.get_metrics_latest_run(base_path=BASE_PATH)"
   ]
  },
  {
   "cell_type": "markdown",
   "metadata": {},
   "source": [
    "## Explore data"
   ]
  },
  {
   "cell_type": "markdown",
   "metadata": {},
   "source": [
    "You can also check your data and results at each step in the pipelines using the **Fondant data explorer**. The first time you run the data explorer, you need to download the docker image which may take a minute. Then you can access the data explorer at: **http://localhost:8501/**\n",
    "\n",
    "Enjoy the exploration! 🍫 \n",
    "\n",
    "Press the ◼️ in the notebook toolbar to **stop the explorer**."
   ]
  },
  {
   "cell_type": "code",
   "execution_count": null,
   "metadata": {},
   "outputs": [],
   "source": [
    "from fondant.explore import run_explorer_app\n",
    "\n",
    "run_explorer_app(base_path=BASE_PATH)"
   ]
  },
  {
   "cell_type": "markdown",
   "metadata": {},
   "source": [
    "To stop the Explore, run the cell below."
   ]
  },
  {
   "cell_type": "code",
   "execution_count": null,
   "metadata": {},
   "outputs": [],
   "source": [
    "from fondant.explore import stop_explorer_app\n",
    "\n",
    "stop_explorer_app()"
   ]
  },
  {
   "cell_type": "markdown",
   "metadata": {},
   "source": [
    "## Clean up your environment"
   ]
  },
  {
   "cell_type": "markdown",
   "metadata": {},
   "source": [
    "After your pipeline run successfully, you can **clean up** your environment and stop the weaviate database."
   ]
  },
  {
   "cell_type": "code",
   "execution_count": null,
   "metadata": {},
   "outputs": [],
   "source": [
    "!docker compose -f weaviate/docker-compose.yaml down"
   ]
  },
  {
   "cell_type": "markdown",
   "metadata": {},
   "source": [
    "## Feedback"
   ]
  },
  {
   "cell_type": "markdown",
   "metadata": {},
   "source": [
    "Please share your experience or **let us know how we can improve** through our \n",
    "* [**Discord**](https://discord.gg/HnTdWhydGp) \n",
    "* [**GitHub**](https://github.com/ml6team/fondant)\n",
    "\n",
    "And of course feel free to give us a [**star** ⭐](https://github.com/ml6team/fondant) if you like what we are doing!"
   ]
  }
 ],
 "metadata": {
  "kernelspec": {
   "display_name": "Python 3 (ipykernel)",
   "language": "python",
   "name": "python3"
  },
  "language_info": {
   "codemirror_mode": {
    "name": "ipython",
    "version": 3
   },
   "file_extension": ".py",
   "mimetype": "text/x-python",
   "name": "python",
   "nbconvert_exporter": "python",
   "pygments_lexer": "ipython3",
   "version": "3.10.11"
  }
 },
 "nbformat": 4,
 "nbformat_minor": 4
}
