{
 "cells": [
  {
   "cell_type": "markdown",
   "metadata": {},
   "source": [
    "## 🍫 Building a RAG indexing pipeline with Fondant\n",
    "\n",
    "> ⚠️ Please note that this notebook **is not** compatible with **Google Colab**. To complete the tutorial, you must \n",
    "> initiate Docker containers. Starting Docker containers within Google Colab is not supported.\n",
    "\n",
    "This repository demonstrates a Fondant data pipeline that ingests text\n",
    "data into a vector database. The pipeline uses four reusable Fondant components.  \n",
    "Additionally, we provide a Docker Compose setup for Weaviate, enabling local testing and\n",
    "development.\n",
    "\n",
    "### Pipeline overview\n",
    "\n",
    "The primary goal of this sample is to showcase how you can use a Fondant pipeline and reusable\n",
    "components to load, chunk and embed text, as well as ingest the text embeddings to a vector\n",
    "database.\n",
    "Pipeline Steps:\n",
    "\n",
    "- [Data Loading](https://github.com/ml6team/fondant/tree/main/components/load_from_parquet): The\n",
    "  pipeline begins by loading text data from a Parquet file, which serves as the\n",
    "  source for subsequent processing. For the minimal example we are using a dataset from Huggingface.\n",
    "- [Text Chunking](https://github.com/ml6team/fondant/tree/main/components/chunk_text): Text data is\n",
    "  chunked into manageable sections to prepare it for embedding. This\n",
    "  step\n",
    "  is crucial for performant RAG systems.\n",
    "- [Text Embedding](https://github.com/ml6team/fondant/tree/main/components/embed_text): We are using\n",
    "  a small HuggingFace model for the generation of text embeddings.\n",
    "  The `embed_text` component easily allows the usage of different models as well.\n",
    "- [Write to Weaviate](https://github.com/ml6team/fondant/tree/main/components/index_weaviate): The\n",
    "  final step of the pipeline involves writing the embedded text data to\n",
    "  a Weaviate database.\n",
    "\n",
    "## Environment\n",
    "### This section checks the prerequisites of your environment. Read any errors or warnings carefully.\n",
    "\n",
    "**Ensure a Python between version 3.8 and 3.10 is available**"
   ]
  },
  {
   "cell_type": "code",
   "execution_count": null,
   "metadata": {},
   "outputs": [],
   "source": [
    "import sys\n",
    "if sys.version_info < (3, 8, 0) or sys.version_info >= (3, 11, 0):\n",
    "    raise Exception(f\"A Python version between 3.8 and 3.10 is required. You are running {sys.version}\")"
   ]
  },
  {
   "cell_type": "markdown",
   "metadata": {},
   "source": [
    "**Check if docker compose is installed and the docker daemon is running**"
   ]
  },
  {
   "cell_type": "code",
   "execution_count": null,
   "metadata": {},
   "outputs": [],
   "source": [
    "!docker compose version >/dev/null\n",
    "!docker info >/dev/null"
   ]
  },
  {
   "cell_type": "markdown",
   "metadata": {},
   "source": [
    "**Check if GPU is available**"
   ]
  },
  {
   "cell_type": "code",
   "execution_count": 3,
   "metadata": {},
   "outputs": [
    {
     "name": "stderr",
     "output_type": "stream",
     "text": [
      "WARNING:root:We recommend to run this pipeline on a GPU, but none could be found, using CPU instead\n"
     ]
    }
   ],
   "source": [
    "import logging\n",
    "import subprocess\n",
    "\n",
    "try:\n",
    "    subprocess.check_output('nvidia-smi')\n",
    "    logging.info(\"Found GPU, using it!\")\n",
    "    number_of_accelerators = 1\n",
    "    accelerator_name = \"GPU\"\n",
    "except Exception:\n",
    "    logging.warning(\"We recommend to run this pipeline on a GPU, but none could be found, using CPU instead\")\n",
    "    number_of_accelerators = None\n",
    "    accelerator_name = None"
   ]
  },
  {
   "cell_type": "markdown",
   "metadata": {},
   "source": [
    "**Install Fondant**"
   ]
  },
  {
   "cell_type": "code",
   "execution_count": 4,
   "metadata": {},
   "outputs": [
    {
     "name": "stdout",
     "output_type": "stream",
     "text": [
      "Requirement already satisfied: fondant==0.8.0 in /home/philippe/Scripts/fondant-usecase-RAG/venv/lib/python3.10/site-packages (from -r ../requirements.txt (line 1)) (0.8.0)\n",
      "Requirement already satisfied: notebook==7.0.6 in /home/philippe/Scripts/fondant-usecase-RAG/venv/lib/python3.10/site-packages (from -r ../requirements.txt (line 2)) (7.0.6)\n",
      "Requirement already satisfied: fsspec>=2023.4.0 in /home/philippe/Scripts/fondant-usecase-RAG/venv/lib/python3.10/site-packages (from fondant==0.8.0->-r ../requirements.txt (line 1)) (2023.10.0)\n",
      "Requirement already satisfied: jsonschema>=4.18 in /home/philippe/Scripts/fondant-usecase-RAG/venv/lib/python3.10/site-packages (from fondant==0.8.0->-r ../requirements.txt (line 1)) (4.19.2)\n",
      "Requirement already satisfied: pyarrow>=11.0.0 in /home/philippe/Scripts/fondant-usecase-RAG/venv/lib/python3.10/site-packages (from fondant==0.8.0->-r ../requirements.txt (line 1)) (14.0.1)\n",
      "Requirement already satisfied: pyyaml>=5.3.1 in /home/philippe/Scripts/fondant-usecase-RAG/venv/lib/python3.10/site-packages (from fondant==0.8.0->-r ../requirements.txt (line 1)) (6.0.1)\n",
      "Requirement already satisfied: jupyter-server<3,>=2.4.0 in /home/philippe/Scripts/fondant-usecase-RAG/venv/lib/python3.10/site-packages (from notebook==7.0.6->-r ../requirements.txt (line 2)) (2.10.1)\n",
      "Requirement already satisfied: jupyterlab-server<3,>=2.22.1 in /home/philippe/Scripts/fondant-usecase-RAG/venv/lib/python3.10/site-packages (from notebook==7.0.6->-r ../requirements.txt (line 2)) (2.25.1)\n",
      "Requirement already satisfied: jupyterlab<5,>=4.0.2 in /home/philippe/Scripts/fondant-usecase-RAG/venv/lib/python3.10/site-packages (from notebook==7.0.6->-r ../requirements.txt (line 2)) (4.0.8)\n",
      "Requirement already satisfied: notebook-shim<0.3,>=0.2 in /home/philippe/Scripts/fondant-usecase-RAG/venv/lib/python3.10/site-packages (from notebook==7.0.6->-r ../requirements.txt (line 2)) (0.2.3)\n",
      "Requirement already satisfied: tornado>=6.2.0 in /home/philippe/Scripts/fondant-usecase-RAG/venv/lib/python3.10/site-packages (from notebook==7.0.6->-r ../requirements.txt (line 2)) (6.3.3)\n",
      "Requirement already satisfied: attrs>=22.2.0 in /home/philippe/Scripts/fondant-usecase-RAG/venv/lib/python3.10/site-packages (from jsonschema>=4.18->fondant==0.8.0->-r ../requirements.txt (line 1)) (23.1.0)\n",
      "Requirement already satisfied: jsonschema-specifications>=2023.03.6 in /home/philippe/Scripts/fondant-usecase-RAG/venv/lib/python3.10/site-packages (from jsonschema>=4.18->fondant==0.8.0->-r ../requirements.txt (line 1)) (2023.11.1)\n",
      "Requirement already satisfied: referencing>=0.28.4 in /home/philippe/Scripts/fondant-usecase-RAG/venv/lib/python3.10/site-packages (from jsonschema>=4.18->fondant==0.8.0->-r ../requirements.txt (line 1)) (0.31.0)\n",
      "Requirement already satisfied: rpds-py>=0.7.1 in /home/philippe/Scripts/fondant-usecase-RAG/venv/lib/python3.10/site-packages (from jsonschema>=4.18->fondant==0.8.0->-r ../requirements.txt (line 1)) (0.12.0)\n",
      "Requirement already satisfied: anyio>=3.1.0 in /home/philippe/Scripts/fondant-usecase-RAG/venv/lib/python3.10/site-packages (from jupyter-server<3,>=2.4.0->notebook==7.0.6->-r ../requirements.txt (line 2)) (4.0.0)\n",
      "Requirement already satisfied: argon2-cffi in /home/philippe/Scripts/fondant-usecase-RAG/venv/lib/python3.10/site-packages (from jupyter-server<3,>=2.4.0->notebook==7.0.6->-r ../requirements.txt (line 2)) (23.1.0)\n",
      "Requirement already satisfied: jinja2 in /home/philippe/Scripts/fondant-usecase-RAG/venv/lib/python3.10/site-packages (from jupyter-server<3,>=2.4.0->notebook==7.0.6->-r ../requirements.txt (line 2)) (3.1.2)\n",
      "Requirement already satisfied: jupyter-client>=7.4.4 in /home/philippe/Scripts/fondant-usecase-RAG/venv/lib/python3.10/site-packages (from jupyter-server<3,>=2.4.0->notebook==7.0.6->-r ../requirements.txt (line 2)) (8.6.0)\n",
      "Requirement already satisfied: jupyter-core!=5.0.*,>=4.12 in /home/philippe/Scripts/fondant-usecase-RAG/venv/lib/python3.10/site-packages (from jupyter-server<3,>=2.4.0->notebook==7.0.6->-r ../requirements.txt (line 2)) (5.5.0)\n",
      "Requirement already satisfied: jupyter-events>=0.9.0 in /home/philippe/Scripts/fondant-usecase-RAG/venv/lib/python3.10/site-packages (from jupyter-server<3,>=2.4.0->notebook==7.0.6->-r ../requirements.txt (line 2)) (0.9.0)\n",
      "Requirement already satisfied: jupyter-server-terminals in /home/philippe/Scripts/fondant-usecase-RAG/venv/lib/python3.10/site-packages (from jupyter-server<3,>=2.4.0->notebook==7.0.6->-r ../requirements.txt (line 2)) (0.4.4)\n",
      "Requirement already satisfied: nbconvert>=6.4.4 in /home/philippe/Scripts/fondant-usecase-RAG/venv/lib/python3.10/site-packages (from jupyter-server<3,>=2.4.0->notebook==7.0.6->-r ../requirements.txt (line 2)) (7.11.0)\n",
      "Requirement already satisfied: nbformat>=5.3.0 in /home/philippe/Scripts/fondant-usecase-RAG/venv/lib/python3.10/site-packages (from jupyter-server<3,>=2.4.0->notebook==7.0.6->-r ../requirements.txt (line 2)) (5.9.2)\n",
      "Requirement already satisfied: overrides in /home/philippe/Scripts/fondant-usecase-RAG/venv/lib/python3.10/site-packages (from jupyter-server<3,>=2.4.0->notebook==7.0.6->-r ../requirements.txt (line 2)) (7.4.0)\n",
      "Requirement already satisfied: packaging in /home/philippe/Scripts/fondant-usecase-RAG/venv/lib/python3.10/site-packages (from jupyter-server<3,>=2.4.0->notebook==7.0.6->-r ../requirements.txt (line 2)) (23.2)\n",
      "Requirement already satisfied: prometheus-client in /home/philippe/Scripts/fondant-usecase-RAG/venv/lib/python3.10/site-packages (from jupyter-server<3,>=2.4.0->notebook==7.0.6->-r ../requirements.txt (line 2)) (0.18.0)\n",
      "Requirement already satisfied: pyzmq>=24 in /home/philippe/Scripts/fondant-usecase-RAG/venv/lib/python3.10/site-packages (from jupyter-server<3,>=2.4.0->notebook==7.0.6->-r ../requirements.txt (line 2)) (25.1.1)\n",
      "Requirement already satisfied: send2trash>=1.8.2 in /home/philippe/Scripts/fondant-usecase-RAG/venv/lib/python3.10/site-packages (from jupyter-server<3,>=2.4.0->notebook==7.0.6->-r ../requirements.txt (line 2)) (1.8.2)\n",
      "Requirement already satisfied: terminado>=0.8.3 in /home/philippe/Scripts/fondant-usecase-RAG/venv/lib/python3.10/site-packages (from jupyter-server<3,>=2.4.0->notebook==7.0.6->-r ../requirements.txt (line 2)) (0.18.0)\n",
      "Requirement already satisfied: traitlets>=5.6.0 in /home/philippe/Scripts/fondant-usecase-RAG/venv/lib/python3.10/site-packages (from jupyter-server<3,>=2.4.0->notebook==7.0.6->-r ../requirements.txt (line 2)) (5.13.0)\n",
      "Requirement already satisfied: websocket-client in /home/philippe/Scripts/fondant-usecase-RAG/venv/lib/python3.10/site-packages (from jupyter-server<3,>=2.4.0->notebook==7.0.6->-r ../requirements.txt (line 2)) (1.6.4)\n",
      "Requirement already satisfied: async-lru>=1.0.0 in /home/philippe/Scripts/fondant-usecase-RAG/venv/lib/python3.10/site-packages (from jupyterlab<5,>=4.0.2->notebook==7.0.6->-r ../requirements.txt (line 2)) (2.0.4)\n",
      "Requirement already satisfied: ipykernel in /home/philippe/Scripts/fondant-usecase-RAG/venv/lib/python3.10/site-packages (from jupyterlab<5,>=4.0.2->notebook==7.0.6->-r ../requirements.txt (line 2)) (6.26.0)\n",
      "Requirement already satisfied: jupyter-lsp>=2.0.0 in /home/philippe/Scripts/fondant-usecase-RAG/venv/lib/python3.10/site-packages (from jupyterlab<5,>=4.0.2->notebook==7.0.6->-r ../requirements.txt (line 2)) (2.2.0)\n",
      "Requirement already satisfied: tomli in /home/philippe/Scripts/fondant-usecase-RAG/venv/lib/python3.10/site-packages (from jupyterlab<5,>=4.0.2->notebook==7.0.6->-r ../requirements.txt (line 2)) (2.0.1)\n",
      "Requirement already satisfied: babel>=2.10 in /home/philippe/Scripts/fondant-usecase-RAG/venv/lib/python3.10/site-packages (from jupyterlab-server<3,>=2.22.1->notebook==7.0.6->-r ../requirements.txt (line 2)) (2.13.1)\n",
      "Requirement already satisfied: json5>=0.9.0 in /home/philippe/Scripts/fondant-usecase-RAG/venv/lib/python3.10/site-packages (from jupyterlab-server<3,>=2.22.1->notebook==7.0.6->-r ../requirements.txt (line 2)) (0.9.14)\n",
      "Requirement already satisfied: requests>=2.31 in /home/philippe/Scripts/fondant-usecase-RAG/venv/lib/python3.10/site-packages (from jupyterlab-server<3,>=2.22.1->notebook==7.0.6->-r ../requirements.txt (line 2)) (2.31.0)\n",
      "Requirement already satisfied: numpy>=1.16.6 in /home/philippe/Scripts/fondant-usecase-RAG/venv/lib/python3.10/site-packages (from pyarrow>=11.0.0->fondant==0.8.0->-r ../requirements.txt (line 1)) (1.26.2)\n",
      "Requirement already satisfied: idna>=2.8 in /home/philippe/Scripts/fondant-usecase-RAG/venv/lib/python3.10/site-packages (from anyio>=3.1.0->jupyter-server<3,>=2.4.0->notebook==7.0.6->-r ../requirements.txt (line 2)) (3.4)\n",
      "Requirement already satisfied: sniffio>=1.1 in /home/philippe/Scripts/fondant-usecase-RAG/venv/lib/python3.10/site-packages (from anyio>=3.1.0->jupyter-server<3,>=2.4.0->notebook==7.0.6->-r ../requirements.txt (line 2)) (1.3.0)\n",
      "Requirement already satisfied: exceptiongroup>=1.0.2 in /home/philippe/Scripts/fondant-usecase-RAG/venv/lib/python3.10/site-packages (from anyio>=3.1.0->jupyter-server<3,>=2.4.0->notebook==7.0.6->-r ../requirements.txt (line 2)) (1.1.3)\n",
      "Requirement already satisfied: typing-extensions>=4.0.0 in /home/philippe/Scripts/fondant-usecase-RAG/venv/lib/python3.10/site-packages (from async-lru>=1.0.0->jupyterlab<5,>=4.0.2->notebook==7.0.6->-r ../requirements.txt (line 2)) (4.8.0)\n",
      "Requirement already satisfied: MarkupSafe>=2.0 in /home/philippe/Scripts/fondant-usecase-RAG/venv/lib/python3.10/site-packages (from jinja2->jupyter-server<3,>=2.4.0->notebook==7.0.6->-r ../requirements.txt (line 2)) (2.1.3)\n",
      "Requirement already satisfied: python-dateutil>=2.8.2 in /home/philippe/Scripts/fondant-usecase-RAG/venv/lib/python3.10/site-packages (from jupyter-client>=7.4.4->jupyter-server<3,>=2.4.0->notebook==7.0.6->-r ../requirements.txt (line 2)) (2.8.2)\n",
      "Requirement already satisfied: platformdirs>=2.5 in /home/philippe/Scripts/fondant-usecase-RAG/venv/lib/python3.10/site-packages (from jupyter-core!=5.0.*,>=4.12->jupyter-server<3,>=2.4.0->notebook==7.0.6->-r ../requirements.txt (line 2)) (4.0.0)\n",
      "Requirement already satisfied: python-json-logger>=2.0.4 in /home/philippe/Scripts/fondant-usecase-RAG/venv/lib/python3.10/site-packages (from jupyter-events>=0.9.0->jupyter-server<3,>=2.4.0->notebook==7.0.6->-r ../requirements.txt (line 2)) (2.0.7)\n",
      "Requirement already satisfied: rfc3339-validator in /home/philippe/Scripts/fondant-usecase-RAG/venv/lib/python3.10/site-packages (from jupyter-events>=0.9.0->jupyter-server<3,>=2.4.0->notebook==7.0.6->-r ../requirements.txt (line 2)) (0.1.4)\n",
      "Requirement already satisfied: rfc3986-validator>=0.1.1 in /home/philippe/Scripts/fondant-usecase-RAG/venv/lib/python3.10/site-packages (from jupyter-events>=0.9.0->jupyter-server<3,>=2.4.0->notebook==7.0.6->-r ../requirements.txt (line 2)) (0.1.1)\n",
      "Requirement already satisfied: beautifulsoup4 in /home/philippe/Scripts/fondant-usecase-RAG/venv/lib/python3.10/site-packages (from nbconvert>=6.4.4->jupyter-server<3,>=2.4.0->notebook==7.0.6->-r ../requirements.txt (line 2)) (4.12.2)\n",
      "Requirement already satisfied: bleach!=5.0.0 in /home/philippe/Scripts/fondant-usecase-RAG/venv/lib/python3.10/site-packages (from nbconvert>=6.4.4->jupyter-server<3,>=2.4.0->notebook==7.0.6->-r ../requirements.txt (line 2)) (6.1.0)\n",
      "Requirement already satisfied: defusedxml in /home/philippe/Scripts/fondant-usecase-RAG/venv/lib/python3.10/site-packages (from nbconvert>=6.4.4->jupyter-server<3,>=2.4.0->notebook==7.0.6->-r ../requirements.txt (line 2)) (0.7.1)\n",
      "Requirement already satisfied: jupyterlab-pygments in /home/philippe/Scripts/fondant-usecase-RAG/venv/lib/python3.10/site-packages (from nbconvert>=6.4.4->jupyter-server<3,>=2.4.0->notebook==7.0.6->-r ../requirements.txt (line 2)) (0.2.2)\n",
      "Requirement already satisfied: mistune<4,>=2.0.3 in /home/philippe/Scripts/fondant-usecase-RAG/venv/lib/python3.10/site-packages (from nbconvert>=6.4.4->jupyter-server<3,>=2.4.0->notebook==7.0.6->-r ../requirements.txt (line 2)) (3.0.2)\n",
      "Requirement already satisfied: nbclient>=0.5.0 in /home/philippe/Scripts/fondant-usecase-RAG/venv/lib/python3.10/site-packages (from nbconvert>=6.4.4->jupyter-server<3,>=2.4.0->notebook==7.0.6->-r ../requirements.txt (line 2)) (0.9.0)\n",
      "Requirement already satisfied: pandocfilters>=1.4.1 in /home/philippe/Scripts/fondant-usecase-RAG/venv/lib/python3.10/site-packages (from nbconvert>=6.4.4->jupyter-server<3,>=2.4.0->notebook==7.0.6->-r ../requirements.txt (line 2)) (1.5.0)\n",
      "Requirement already satisfied: pygments>=2.4.1 in /home/philippe/Scripts/fondant-usecase-RAG/venv/lib/python3.10/site-packages (from nbconvert>=6.4.4->jupyter-server<3,>=2.4.0->notebook==7.0.6->-r ../requirements.txt (line 2)) (2.16.1)\n",
      "Requirement already satisfied: tinycss2 in /home/philippe/Scripts/fondant-usecase-RAG/venv/lib/python3.10/site-packages (from nbconvert>=6.4.4->jupyter-server<3,>=2.4.0->notebook==7.0.6->-r ../requirements.txt (line 2)) (1.2.1)\n",
      "Requirement already satisfied: fastjsonschema in /home/philippe/Scripts/fondant-usecase-RAG/venv/lib/python3.10/site-packages (from nbformat>=5.3.0->jupyter-server<3,>=2.4.0->notebook==7.0.6->-r ../requirements.txt (line 2)) (2.19.0)\n",
      "Requirement already satisfied: charset-normalizer<4,>=2 in /home/philippe/Scripts/fondant-usecase-RAG/venv/lib/python3.10/site-packages (from requests>=2.31->jupyterlab-server<3,>=2.22.1->notebook==7.0.6->-r ../requirements.txt (line 2)) (3.3.2)\n",
      "Requirement already satisfied: urllib3<3,>=1.21.1 in /home/philippe/Scripts/fondant-usecase-RAG/venv/lib/python3.10/site-packages (from requests>=2.31->jupyterlab-server<3,>=2.22.1->notebook==7.0.6->-r ../requirements.txt (line 2)) (2.1.0)\n",
      "Requirement already satisfied: certifi>=2017.4.17 in /home/philippe/Scripts/fondant-usecase-RAG/venv/lib/python3.10/site-packages (from requests>=2.31->jupyterlab-server<3,>=2.22.1->notebook==7.0.6->-r ../requirements.txt (line 2)) (2023.7.22)\n",
      "Requirement already satisfied: ptyprocess in /home/philippe/Scripts/fondant-usecase-RAG/venv/lib/python3.10/site-packages (from terminado>=0.8.3->jupyter-server<3,>=2.4.0->notebook==7.0.6->-r ../requirements.txt (line 2)) (0.7.0)\n",
      "Requirement already satisfied: argon2-cffi-bindings in /home/philippe/Scripts/fondant-usecase-RAG/venv/lib/python3.10/site-packages (from argon2-cffi->jupyter-server<3,>=2.4.0->notebook==7.0.6->-r ../requirements.txt (line 2)) (21.2.0)\n",
      "Requirement already satisfied: comm>=0.1.1 in /home/philippe/Scripts/fondant-usecase-RAG/venv/lib/python3.10/site-packages (from ipykernel->jupyterlab<5,>=4.0.2->notebook==7.0.6->-r ../requirements.txt (line 2)) (0.2.0)\n",
      "Requirement already satisfied: debugpy>=1.6.5 in /home/philippe/Scripts/fondant-usecase-RAG/venv/lib/python3.10/site-packages (from ipykernel->jupyterlab<5,>=4.0.2->notebook==7.0.6->-r ../requirements.txt (line 2)) (1.8.0)\n",
      "Requirement already satisfied: ipython>=7.23.1 in /home/philippe/Scripts/fondant-usecase-RAG/venv/lib/python3.10/site-packages (from ipykernel->jupyterlab<5,>=4.0.2->notebook==7.0.6->-r ../requirements.txt (line 2)) (8.17.2)\n",
      "Requirement already satisfied: matplotlib-inline>=0.1 in /home/philippe/Scripts/fondant-usecase-RAG/venv/lib/python3.10/site-packages (from ipykernel->jupyterlab<5,>=4.0.2->notebook==7.0.6->-r ../requirements.txt (line 2)) (0.1.6)\n",
      "Requirement already satisfied: nest-asyncio in /home/philippe/Scripts/fondant-usecase-RAG/venv/lib/python3.10/site-packages (from ipykernel->jupyterlab<5,>=4.0.2->notebook==7.0.6->-r ../requirements.txt (line 2)) (1.5.8)\n",
      "Requirement already satisfied: psutil in /home/philippe/Scripts/fondant-usecase-RAG/venv/lib/python3.10/site-packages (from ipykernel->jupyterlab<5,>=4.0.2->notebook==7.0.6->-r ../requirements.txt (line 2)) (5.9.6)\n",
      "Requirement already satisfied: six>=1.9.0 in /home/philippe/Scripts/fondant-usecase-RAG/venv/lib/python3.10/site-packages (from bleach!=5.0.0->nbconvert>=6.4.4->jupyter-server<3,>=2.4.0->notebook==7.0.6->-r ../requirements.txt (line 2)) (1.16.0)\n",
      "Requirement already satisfied: webencodings in /home/philippe/Scripts/fondant-usecase-RAG/venv/lib/python3.10/site-packages (from bleach!=5.0.0->nbconvert>=6.4.4->jupyter-server<3,>=2.4.0->notebook==7.0.6->-r ../requirements.txt (line 2)) (0.5.1)\n",
      "Requirement already satisfied: decorator in /home/philippe/Scripts/fondant-usecase-RAG/venv/lib/python3.10/site-packages (from ipython>=7.23.1->ipykernel->jupyterlab<5,>=4.0.2->notebook==7.0.6->-r ../requirements.txt (line 2)) (5.1.1)\n",
      "Requirement already satisfied: jedi>=0.16 in /home/philippe/Scripts/fondant-usecase-RAG/venv/lib/python3.10/site-packages (from ipython>=7.23.1->ipykernel->jupyterlab<5,>=4.0.2->notebook==7.0.6->-r ../requirements.txt (line 2)) (0.19.1)\n",
      "Requirement already satisfied: prompt-toolkit!=3.0.37,<3.1.0,>=3.0.30 in /home/philippe/Scripts/fondant-usecase-RAG/venv/lib/python3.10/site-packages (from ipython>=7.23.1->ipykernel->jupyterlab<5,>=4.0.2->notebook==7.0.6->-r ../requirements.txt (line 2)) (3.0.41)\n",
      "Requirement already satisfied: stack-data in /home/philippe/Scripts/fondant-usecase-RAG/venv/lib/python3.10/site-packages (from ipython>=7.23.1->ipykernel->jupyterlab<5,>=4.0.2->notebook==7.0.6->-r ../requirements.txt (line 2)) (0.6.3)\n",
      "Requirement already satisfied: pexpect>4.3 in /home/philippe/Scripts/fondant-usecase-RAG/venv/lib/python3.10/site-packages (from ipython>=7.23.1->ipykernel->jupyterlab<5,>=4.0.2->notebook==7.0.6->-r ../requirements.txt (line 2)) (4.8.0)\n",
      "Requirement already satisfied: fqdn in /home/philippe/Scripts/fondant-usecase-RAG/venv/lib/python3.10/site-packages (from jsonschema[format-nongpl]>=4.18.0->jupyter-events>=0.9.0->jupyter-server<3,>=2.4.0->notebook==7.0.6->-r ../requirements.txt (line 2)) (1.5.1)\n",
      "Requirement already satisfied: isoduration in /home/philippe/Scripts/fondant-usecase-RAG/venv/lib/python3.10/site-packages (from jsonschema[format-nongpl]>=4.18.0->jupyter-events>=0.9.0->jupyter-server<3,>=2.4.0->notebook==7.0.6->-r ../requirements.txt (line 2)) (20.11.0)\n",
      "Requirement already satisfied: jsonpointer>1.13 in /home/philippe/Scripts/fondant-usecase-RAG/venv/lib/python3.10/site-packages (from jsonschema[format-nongpl]>=4.18.0->jupyter-events>=0.9.0->jupyter-server<3,>=2.4.0->notebook==7.0.6->-r ../requirements.txt (line 2)) (2.4)\n",
      "Requirement already satisfied: uri-template in /home/philippe/Scripts/fondant-usecase-RAG/venv/lib/python3.10/site-packages (from jsonschema[format-nongpl]>=4.18.0->jupyter-events>=0.9.0->jupyter-server<3,>=2.4.0->notebook==7.0.6->-r ../requirements.txt (line 2)) (1.3.0)\n",
      "Requirement already satisfied: webcolors>=1.11 in /home/philippe/Scripts/fondant-usecase-RAG/venv/lib/python3.10/site-packages (from jsonschema[format-nongpl]>=4.18.0->jupyter-events>=0.9.0->jupyter-server<3,>=2.4.0->notebook==7.0.6->-r ../requirements.txt (line 2)) (1.13)\n",
      "Requirement already satisfied: cffi>=1.0.1 in /home/philippe/Scripts/fondant-usecase-RAG/venv/lib/python3.10/site-packages (from argon2-cffi-bindings->argon2-cffi->jupyter-server<3,>=2.4.0->notebook==7.0.6->-r ../requirements.txt (line 2)) (1.16.0)\n",
      "Requirement already satisfied: soupsieve>1.2 in /home/philippe/Scripts/fondant-usecase-RAG/venv/lib/python3.10/site-packages (from beautifulsoup4->nbconvert>=6.4.4->jupyter-server<3,>=2.4.0->notebook==7.0.6->-r ../requirements.txt (line 2)) (2.5)\n",
      "Requirement already satisfied: pycparser in /home/philippe/Scripts/fondant-usecase-RAG/venv/lib/python3.10/site-packages (from cffi>=1.0.1->argon2-cffi-bindings->argon2-cffi->jupyter-server<3,>=2.4.0->notebook==7.0.6->-r ../requirements.txt (line 2)) (2.21)\n",
      "Requirement already satisfied: parso<0.9.0,>=0.8.3 in /home/philippe/Scripts/fondant-usecase-RAG/venv/lib/python3.10/site-packages (from jedi>=0.16->ipython>=7.23.1->ipykernel->jupyterlab<5,>=4.0.2->notebook==7.0.6->-r ../requirements.txt (line 2)) (0.8.3)\n",
      "Requirement already satisfied: wcwidth in /home/philippe/Scripts/fondant-usecase-RAG/venv/lib/python3.10/site-packages (from prompt-toolkit!=3.0.37,<3.1.0,>=3.0.30->ipython>=7.23.1->ipykernel->jupyterlab<5,>=4.0.2->notebook==7.0.6->-r ../requirements.txt (line 2)) (0.2.10)\n",
      "Requirement already satisfied: arrow>=0.15.0 in /home/philippe/Scripts/fondant-usecase-RAG/venv/lib/python3.10/site-packages (from isoduration->jsonschema[format-nongpl]>=4.18.0->jupyter-events>=0.9.0->jupyter-server<3,>=2.4.0->notebook==7.0.6->-r ../requirements.txt (line 2)) (1.3.0)\n",
      "Requirement already satisfied: executing>=1.2.0 in /home/philippe/Scripts/fondant-usecase-RAG/venv/lib/python3.10/site-packages (from stack-data->ipython>=7.23.1->ipykernel->jupyterlab<5,>=4.0.2->notebook==7.0.6->-r ../requirements.txt (line 2)) (2.0.1)\n",
      "Requirement already satisfied: asttokens>=2.1.0 in /home/philippe/Scripts/fondant-usecase-RAG/venv/lib/python3.10/site-packages (from stack-data->ipython>=7.23.1->ipykernel->jupyterlab<5,>=4.0.2->notebook==7.0.6->-r ../requirements.txt (line 2)) (2.4.1)\n",
      "Requirement already satisfied: pure-eval in /home/philippe/Scripts/fondant-usecase-RAG/venv/lib/python3.10/site-packages (from stack-data->ipython>=7.23.1->ipykernel->jupyterlab<5,>=4.0.2->notebook==7.0.6->-r ../requirements.txt (line 2)) (0.2.2)\n",
      "Requirement already satisfied: types-python-dateutil>=2.8.10 in /home/philippe/Scripts/fondant-usecase-RAG/venv/lib/python3.10/site-packages (from arrow>=0.15.0->isoduration->jsonschema[format-nongpl]>=4.18.0->jupyter-events>=0.9.0->jupyter-server<3,>=2.4.0->notebook==7.0.6->-r ../requirements.txt (line 2)) (2.8.19.14)\n",
      "\n",
      "\u001b[1m[\u001b[0m\u001b[34;49mnotice\u001b[0m\u001b[1;39;49m]\u001b[0m\u001b[39;49m A new release of pip is available: \u001b[0m\u001b[31;49m23.3.1\u001b[0m\u001b[39;49m -> \u001b[0m\u001b[32;49m23.3.2\u001b[0m\n",
      "\u001b[1m[\u001b[0m\u001b[34;49mnotice\u001b[0m\u001b[1;39;49m]\u001b[0m\u001b[39;49m To update, run: \u001b[0m\u001b[32;49mpip install --upgrade pip\u001b[0m\n"
     ]
    }
   ],
   "source": [
    "!pip install -r ../requirements.txt"
   ]
  },
  {
   "cell_type": "markdown",
   "metadata": {},
   "source": [
    "## Implement the pipeline\n",
    "\n",
    "First of all, we need to initialize the pipeline, which includes specifying a name for your pipeline, providing a description, and setting a base_path. The base_path is used to store the pipeline artifacts and data generated by the components"
   ]
  },
  {
   "cell_type": "code",
   "execution_count": 8,
   "metadata": {},
   "outputs": [],
   "source": [
    "from pathlib import Path\n",
    "from fondant.pipeline import Pipeline, Resources\n",
    "\n",
    "BASE_PATH = \"./data-dir\"\n",
    "Path(BASE_PATH).mkdir(parents=True, exist_ok=True)\n",
    "\n",
    "pipeline = Pipeline(\n",
    "    name=\"ingestion-pipeline\",  # Add a unique pipeline name to easily track your progress and data\n",
    "    description=\"Pipeline to prepare and process data for building a RAG solution\",\n",
    "    base_path=BASE_PATH, # The demo pipelines uses a local directory to store the data.\n",
    ")"
   ]
  },
  {
   "cell_type": "markdown",
   "metadata": {},
   "source": [
    "For demonstration purposes, we will utilize a dataset available on Hugging Face. As such, we will use a reusable Fondant component `load_from_hf_hub`. Note that the `load_from_hf_hub` component does not define a fixed schema for the data it produces, which means we need to provide hits ourselves with the `produces` argument. It takes a mapping from field names to `pyarrow` types."
   ]
  },
  {
   "cell_type": "code",
   "execution_count": 6,
   "metadata": {},
   "outputs": [],
   "source": [
    "import pyarrow as pa\n",
    "\n",
    "text = pipeline.read(\n",
    "    \"load_from_hf_hub\",\n",
    "    arguments={\n",
    "        # Add arguments\n",
    "        \"dataset_name\": \"wikitext@~parquet\",\n",
    "        \"column_name_mapping\": {\"text\": \"text\"},\n",
    "        \"n_rows_to_load\": 1000,\n",
    "    },\n",
    "    produces={\n",
    "        \"text\": pa.string()\n",
    "    }\n",
    ")"
   ]
  },
  {
   "cell_type": "markdown",
   "metadata": {},
   "source": [
    "This method doesn't execute the component yet, but adds it to the execution graph of the pipeline, and returns a lazy `Dataset` instance. We can now chain additional components from the [Fondant Hub](https://fondant.ai/en/latest/components/hub/) using the `Dataset.apply()`."
   ]
  },
  {
   "cell_type": "code",
   "execution_count": 9,
   "metadata": {},
   "outputs": [],
   "source": [
    "chunks = text.apply(\n",
    "    \"chunk_text\",\n",
    "    arguments={\n",
    "        \"chunk_size\": 512,\n",
    "        \"chunk_overlap\": 32,\n",
    "    }\n",
    ")\n",
    "\n",
    "embeddings = chunks.apply(\n",
    "    \"embed_text\",\n",
    "    arguments={\n",
    "        \"model_provider\": \"huggingface\",\n",
    "        \"model\": \"all-MiniLM-L6-v2\"\n",
    "    },\n",
    "    resources=Resources(\n",
    "        accelerator_number=number_of_accelerators,\n",
    "        accelerator_name=accelerator_name,\n",
    "    ),\n",
    ")\n",
    "\n",
    "embeddings.write(\n",
    "    \"index_weaviate\",\n",
    "    arguments={\n",
    "        \"weaviate_url\": \"http://host.docker.internal:8080\",\n",
    "        \"class_name\": \"index\",\n",
    "    }\n",
    ")"
   ]
  },
  {
   "cell_type": "markdown",
   "metadata": {},
   "source": [
    "Our pipeline now looks as follows:\n",
    "\n",
    "`read_from_hf_hub` -> `chunk_text` -> `embed_text` -> `index_weaviate`"
   ]
  },
  {
   "cell_type": "markdown",
   "metadata": {},
   "source": [
    "## Running the pipeline\n",
    "\n",
    "The pipeline will load and process text data, then ingest the processed data into a vector database. Before executing the pipeline, we need to start the Weaviate database. Otherwise the pipeline execution will fail.\n",
    "\n",
    "To do this, we can utilize the Docker setup provided in the `weaviate` folder."
   ]
  },
  {
   "cell_type": "code",
   "execution_count": null,
   "metadata": {},
   "outputs": [],
   "source": [
    "# If you are using a MacBook with a M1 processor you have to make sure to set the docker default platform to linux/amd64\n",
    "import os\n",
    "os.environ[\"DOCKER_DEFAULT_PLATFORM\"]=\"linux/amd64\""
   ]
  },
  {
   "cell_type": "code",
   "execution_count": null,
   "metadata": {},
   "outputs": [],
   "source": [
    "!docker compose -f weaviate/docker-compose.yaml up --detach"
   ]
  },
  {
   "cell_type": "markdown",
   "metadata": {},
   "source": [
    "Finally, we can execute our pipeline. \n",
    "Fondant provides multiple runners to run our pipeline:\n",
    "\n",
    "- A Docker runner for local execution\n",
    "- A Vertex AI runner for managed execution on Google Cloud\n",
    "- A Sagemaker runner for managed execution on AWS\n",
    "- A Kubeflow Pipelines runner for execution anywhere\n",
    "Here we will use the DockerRunner for local execution, which utilizes docker-compose under the hood.\n",
    "\n",
    "The runner will download the reusable components from the component hub. Afterwards, you will see the components execute one by one."
   ]
  },
  {
   "cell_type": "code",
   "execution_count": null,
   "metadata": {},
   "outputs": [],
   "source": [
    "from fondant.pipeline.runner import DockerRunner\n",
    "\n",
    "DockerRunner().run(pipeline)"
   ]
  },
  {
   "cell_type": "markdown",
   "metadata": {},
   "source": [
    "## Exploring the dataset\n",
    "\n",
    "You can also explore the dataset using the fondant explorer, this enables you to visualize your output dataset at each component step. It might take a while to start the first time as it needs to download the explorer docker image first."
   ]
  },
  {
   "cell_type": "code",
   "execution_count": null,
   "metadata": {},
   "outputs": [],
   "source": [
    "from fondant.explore import run_explorer_app\n",
    "\n",
    "run_explorer_app(base_path=BASE_PATH)"
   ]
  },
  {
   "cell_type": "markdown",
   "metadata": {},
   "source": [
    "To stop the Explorer and continue the notebook, press the stop button at the top of the notebook."
   ]
  },
  {
   "cell_type": "markdown",
   "metadata": {},
   "source": [
    "## Create your own component\n",
    "\n",
    "Certainly, you can create your own custom components and use them in the pipeline. Let's consider building a component that cleans our text articles. For demo purpose we will implement a component thats removes all empty lines.\n",
    "\n",
    "To implement a custom component, a couple of files need to be defined:\n",
    "\n",
    "- Fondant component specification\n",
    "- main.py script in a src folder\n",
    "- Dockerfile\n",
    "- requirements.txt\n",
    "\n",
    "If you want to learn more about the creating custom components checkout [our documentation](https://fondant.ai/en/latest/components/custom_component/).\n",
    "\n",
    "\n",
    "### Component specification\n",
    "\n",
    "The component specification is represented by a single `fondant_component.yaml` file. There you can define which fields your component consumes and produces. "
   ]
  },
  {
   "cell_type": "code",
   "execution_count": null,
   "metadata": {},
   "outputs": [],
   "source": [
    "%%writefile components/text_cleaning/fondant_component.yaml\n",
    "name: Text cleaning component\n",
    "description: Clean text passages\n",
    "image: ghcr.io/ml6team/text_cleaning:dev\n",
    "\n",
    "consumes:\n",
    "  text:\n",
    "    type: string\n",
    "\n",
    "produces:\n",
    "  text:\n",
    "    type: string"
   ]
  },
  {
   "cell_type": "markdown",
   "metadata": {},
   "source": [
    "### Main.py script\n",
    "\n",
    "The core logic of the component should be implemented in a `main.py` script in a folder called `src`. We can implement the text cleaning logic as a class. We will inherit from the base class `PandasTransformComponent`. The `PandasTransformComponent` operates on pandas dataframes. "
   ]
  },
  {
   "cell_type": "code",
   "execution_count": null,
   "metadata": {},
   "outputs": [],
   "source": [
    "%%writefile components/text_cleaning/src/main.py\n",
    "import pandas as pd\n",
    "from fondant.component import PandasTransformComponent\n",
    "\n",
    "\n",
    "class TextCleaningComponent(PandasTransformComponent):\n",
    "    def __init__(self, **kwargs):\n",
    "        \"\"\"Initialize your component\"\"\"\n",
    "\n",
    "    def remove_empty_lines(self, text):\n",
    "        lines = text.split(\"\\n\")\n",
    "        non_empty_lines = [line.strip() for line in lines if line.strip()]\n",
    "        return \"\\n\".join(non_empty_lines)\n",
    "\n",
    "    def transform(self, dataframe: pd.DataFrame) -> pd.DataFrame:\n",
    "        dataframe[\"text\"] = dataframe[\"text\"].apply(\n",
    "            self.remove_empty_lines\n",
    "        )\n",
    "        return dataframe"
   ]
  },
  {
   "cell_type": "markdown",
   "metadata": {},
   "source": [
    "### Dockerfile \n",
    "The Dockerfile defines how to build the component into a Docker image. You can use the following:"
   ]
  },
  {
   "cell_type": "code",
   "execution_count": null,
   "metadata": {},
   "outputs": [],
   "source": [
    "%%writefile components/text_cleaning/Dockerfile\n",
    "FROM --platform=linux/amd64 python:3.8-slim\n",
    "\n",
    "# Install requirements\n",
    "COPY requirements.txt /\n",
    "RUN pip3 install --no-cache-dir -r requirements.txt\n",
    "\n",
    "# Set the working directory to the component folder\n",
    "WORKDIR /component/src\n",
    "\n",
    "# Copy over src-files\n",
    "COPY src/ .\n",
    "\n",
    "ENTRYPOINT [\"fondant\", \"execute\", \"main\"]"
   ]
  },
  {
   "cell_type": "markdown",
   "metadata": {},
   "source": [
    "### Requirements.txt\n",
    "\n",
    "In the requirements.txt we define all dependencies of the component."
   ]
  },
  {
   "cell_type": "code",
   "execution_count": null,
   "metadata": {},
   "outputs": [],
   "source": [
    "%%writefile components/text_cleaning/requirements.txt\n",
    "fondant[component]==0.8.dev4"
   ]
  },
  {
   "cell_type": "markdown",
   "metadata": {},
   "source": [
    "### Add the new component to the pipeline\n",
    "\n",
    "Now we can add the new component to the pipeline with the `Dataset.apply` function. We just specify the path to the directory containing the custom component instead of the name of the reusable component."
   ]
  },
  {
   "cell_type": "code",
   "execution_count": null,
   "metadata": {},
   "outputs": [],
   "source": [
    "import pyarrow as pa\n",
    "from fondant.pipeline import Pipeline\n",
    "\n",
    "\n",
    "pipeline = Pipeline(\n",
    "    name=\"ingestion-pipeline\",\n",
    "    description=\"Pipeline to prepare and process data for building a RAG solution\",\n",
    "    base_path=BASE_PATH,  # The demo pipelines uses a local directory to store the data.\n",
    ")\n",
    "\n",
    "text = pipeline.read(\n",
    "    \"load_from_hf_hub\",\n",
    "    arguments={\n",
    "        \"dataset_name\": \"wikitext@~parquet\",\n",
    "        \"column_name_mapping\": {\"text\": \"text\"},\n",
    "        \"n_rows_to_load\": 1000,\n",
    "    },\n",
    "    produces={\n",
    "        \"text\": pa.string()\n",
    "    }\n",
    ")\n",
    "\n",
    "cleaned_text = text.apply(\n",
    "    \"components/text_cleaning\",  # Path to custom component\n",
    ")\n",
    "\n",
    "chunks = cleaned_text.apply(\n",
    "    \"chunk_text\",\n",
    "    arguments={\n",
    "        \"chunk_size\": 512,\n",
    "        \"chunk_overlap\": 32,\n",
    "    },\n",
    ")\n",
    "\n",
    "embeddings = chunks.apply(\n",
    "    \"embed_text\",\n",
    "    arguments={\n",
    "        \"model_provider\": \"huggingface\",\n",
    "        \"model\": \"all-MiniLM-L6-v2\",\n",
    "    },\n",
    ")\n",
    "\n",
    "embeddings.write(\n",
    "    \"index_weaviate\",\n",
    "    arguments={\n",
    "        \"weaviate_url\": \"http://host.docker.internal:8080\",\n",
    "        \"class_name\": \"index\",\n",
    "    },\n",
    ")"
   ]
  },
  {
   "cell_type": "markdown",
   "metadata": {},
   "source": [
    "If you now run your pipeline, the new changes will be picked up and Fondant will automatically re-build the component with the changes included."
   ]
  },
  {
   "cell_type": "code",
   "execution_count": null,
   "metadata": {},
   "outputs": [],
   "source": [
    "DockerRunner().run(pipeline)"
   ]
  },
  {
   "cell_type": "markdown",
   "metadata": {},
   "source": [
    "If you check the logs, you will see th\n",
    "\n",
    "If you restart the Explorer, you'll see that you can now select a second pipeline and inspect your new dataset."
   ]
  },
  {
   "cell_type": "code",
   "execution_count": null,
   "metadata": {},
   "outputs": [],
   "source": [
    "run_explorer_app(base_path=BASE_PATH)"
   ]
  },
  {
   "cell_type": "markdown",
   "metadata": {},
   "source": [
    "## Clean up your environment\n",
    "\n",
    "After your pipeline run successfully, you should clean up your environment and stop the weaviate database."
   ]
  },
  {
   "cell_type": "code",
   "execution_count": null,
   "metadata": {},
   "outputs": [],
   "source": [
    "!docker compose -f weaviate/docker-compose.yaml down"
   ]
  },
  {
   "cell_type": "markdown",
   "metadata": {},
   "source": [
    "## Scaling up\n",
    "If you're happy with your dataset, it's time to scale up. Check [our documentation](https://fondant.ai/en/latest/pipeline/#compiling-and-running-a-pipeline) for more information about the available runners.\n",
    "\n"
   ]
  }
 ],
 "metadata": {
  "kernelspec": {
   "display_name": "Python 3 (ipykernel)",
   "language": "python",
   "name": "python3"
  },
  "language_info": {
   "codemirror_mode": {
    "name": "ipython",
    "version": 3
   },
   "file_extension": ".py",
   "mimetype": "text/x-python",
   "name": "python",
   "nbconvert_exporter": "python",
   "pygments_lexer": "ipython3",
   "version": "3.10.12"
  }
 },
 "nbformat": 4,
 "nbformat_minor": 4
}
